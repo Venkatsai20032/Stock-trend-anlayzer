{
 "cells": [
  {
   "cell_type": "markdown",
   "id": "cdfa1187-8662-4a8e-b6fd-b2c8adccc626",
   "metadata": {},
   "source": [
    "# Text Loader and Text Spliting"
   ]
  },
  {
   "cell_type": "code",
   "execution_count": 1,
   "id": "c9c34fb9-b6ca-46a6-ba75-0b25571c7af4",
   "metadata": {},
   "outputs": [
    {
     "name": "stdout",
     "output_type": "stream",
     "text": [
      "Collecting langchain\n",
      "  Downloading langchain-0.3.18-py3-none-any.whl.metadata (7.8 kB)\n",
      "Collecting langchain-core<1.0.0,>=0.3.34 (from langchain)\n",
      "  Downloading langchain_core-0.3.35-py3-none-any.whl.metadata (5.9 kB)\n",
      "Collecting langchain-text-splitters<1.0.0,>=0.3.6 (from langchain)\n",
      "  Downloading langchain_text_splitters-0.3.6-py3-none-any.whl.metadata (1.9 kB)\n",
      "Collecting langsmith<0.4,>=0.1.17 (from langchain)\n",
      "  Downloading langsmith-0.3.8-py3-none-any.whl.metadata (14 kB)\n",
      "Requirement already satisfied: pydantic<3.0.0,>=2.7.4 in e:\\anaconda\\lib\\site-packages (from langchain) (2.8.2)\n",
      "Requirement already satisfied: SQLAlchemy<3,>=1.4 in e:\\anaconda\\lib\\site-packages (from langchain) (2.0.34)\n",
      "Requirement already satisfied: requests<3,>=2 in e:\\anaconda\\lib\\site-packages (from langchain) (2.32.3)\n",
      "Requirement already satisfied: PyYAML>=5.3 in e:\\anaconda\\lib\\site-packages (from langchain) (6.0.1)\n",
      "Requirement already satisfied: aiohttp<4.0.0,>=3.8.3 in e:\\anaconda\\lib\\site-packages (from langchain) (3.10.5)\n",
      "Requirement already satisfied: tenacity!=8.4.0,<10,>=8.1.0 in e:\\anaconda\\lib\\site-packages (from langchain) (8.2.3)\n",
      "Requirement already satisfied: numpy<3,>=1.26.2 in e:\\anaconda\\lib\\site-packages (from langchain) (1.26.4)\n",
      "Requirement already satisfied: aiohappyeyeballs>=2.3.0 in e:\\anaconda\\lib\\site-packages (from aiohttp<4.0.0,>=3.8.3->langchain) (2.4.0)\n",
      "Requirement already satisfied: aiosignal>=1.1.2 in e:\\anaconda\\lib\\site-packages (from aiohttp<4.0.0,>=3.8.3->langchain) (1.2.0)\n",
      "Requirement already satisfied: attrs>=17.3.0 in e:\\anaconda\\lib\\site-packages (from aiohttp<4.0.0,>=3.8.3->langchain) (23.1.0)\n",
      "Requirement already satisfied: frozenlist>=1.1.1 in e:\\anaconda\\lib\\site-packages (from aiohttp<4.0.0,>=3.8.3->langchain) (1.4.0)\n",
      "Requirement already satisfied: multidict<7.0,>=4.5 in e:\\anaconda\\lib\\site-packages (from aiohttp<4.0.0,>=3.8.3->langchain) (6.0.4)\n",
      "Requirement already satisfied: yarl<2.0,>=1.0 in e:\\anaconda\\lib\\site-packages (from aiohttp<4.0.0,>=3.8.3->langchain) (1.11.0)\n",
      "Requirement already satisfied: jsonpatch<2.0,>=1.33 in e:\\anaconda\\lib\\site-packages (from langchain-core<1.0.0,>=0.3.34->langchain) (1.33)\n",
      "Requirement already satisfied: packaging<25,>=23.2 in e:\\anaconda\\lib\\site-packages (from langchain-core<1.0.0,>=0.3.34->langchain) (24.1)\n",
      "Requirement already satisfied: typing-extensions>=4.7 in e:\\anaconda\\lib\\site-packages (from langchain-core<1.0.0,>=0.3.34->langchain) (4.11.0)\n",
      "Requirement already satisfied: httpx<1,>=0.23.0 in e:\\anaconda\\lib\\site-packages (from langsmith<0.4,>=0.1.17->langchain) (0.27.0)\n",
      "Collecting orjson<4.0.0,>=3.9.14 (from langsmith<0.4,>=0.1.17->langchain)\n",
      "  Downloading orjson-3.10.15-cp312-cp312-win_amd64.whl.metadata (42 kB)\n",
      "Requirement already satisfied: requests-toolbelt<2.0.0,>=1.0.0 in e:\\anaconda\\lib\\site-packages (from langsmith<0.4,>=0.1.17->langchain) (1.0.0)\n",
      "Requirement already satisfied: zstandard<0.24.0,>=0.23.0 in e:\\anaconda\\lib\\site-packages (from langsmith<0.4,>=0.1.17->langchain) (0.23.0)\n",
      "Requirement already satisfied: annotated-types>=0.4.0 in e:\\anaconda\\lib\\site-packages (from pydantic<3.0.0,>=2.7.4->langchain) (0.6.0)\n",
      "Requirement already satisfied: pydantic-core==2.20.1 in e:\\anaconda\\lib\\site-packages (from pydantic<3.0.0,>=2.7.4->langchain) (2.20.1)\n",
      "Requirement already satisfied: charset-normalizer<4,>=2 in e:\\anaconda\\lib\\site-packages (from requests<3,>=2->langchain) (3.3.2)\n",
      "Requirement already satisfied: idna<4,>=2.5 in e:\\anaconda\\lib\\site-packages (from requests<3,>=2->langchain) (3.7)\n",
      "Requirement already satisfied: urllib3<3,>=1.21.1 in e:\\anaconda\\lib\\site-packages (from requests<3,>=2->langchain) (2.2.3)\n",
      "Requirement already satisfied: certifi>=2017.4.17 in e:\\anaconda\\lib\\site-packages (from requests<3,>=2->langchain) (2024.8.30)\n",
      "Requirement already satisfied: greenlet!=0.4.17 in e:\\anaconda\\lib\\site-packages (from SQLAlchemy<3,>=1.4->langchain) (3.0.1)\n",
      "Requirement already satisfied: anyio in e:\\anaconda\\lib\\site-packages (from httpx<1,>=0.23.0->langsmith<0.4,>=0.1.17->langchain) (4.2.0)\n",
      "Requirement already satisfied: httpcore==1.* in e:\\anaconda\\lib\\site-packages (from httpx<1,>=0.23.0->langsmith<0.4,>=0.1.17->langchain) (1.0.2)\n",
      "Requirement already satisfied: sniffio in e:\\anaconda\\lib\\site-packages (from httpx<1,>=0.23.0->langsmith<0.4,>=0.1.17->langchain) (1.3.0)\n",
      "Requirement already satisfied: h11<0.15,>=0.13 in e:\\anaconda\\lib\\site-packages (from httpcore==1.*->httpx<1,>=0.23.0->langsmith<0.4,>=0.1.17->langchain) (0.14.0)\n",
      "Requirement already satisfied: jsonpointer>=1.9 in e:\\anaconda\\lib\\site-packages (from jsonpatch<2.0,>=1.33->langchain-core<1.0.0,>=0.3.34->langchain) (2.1)\n",
      "Downloading langchain-0.3.18-py3-none-any.whl (1.0 MB)\n",
      "   ---------------------------------------- 0.0/1.0 MB ? eta -:--:--\n",
      "   ---------- ----------------------------- 0.3/1.0 MB ? eta -:--:--\n",
      "   ------------------------------- -------- 0.8/1.0 MB 2.8 MB/s eta 0:00:01\n",
      "   ---------------------------------------- 1.0/1.0 MB 2.3 MB/s eta 0:00:00\n",
      "Downloading langchain_core-0.3.35-py3-none-any.whl (413 kB)\n",
      "Downloading langchain_text_splitters-0.3.6-py3-none-any.whl (31 kB)\n",
      "Downloading langsmith-0.3.8-py3-none-any.whl (332 kB)\n",
      "Downloading orjson-3.10.15-cp312-cp312-win_amd64.whl (133 kB)\n",
      "Installing collected packages: orjson, langsmith, langchain-core, langchain-text-splitters, langchain\n",
      "Successfully installed langchain-0.3.18 langchain-core-0.3.35 langchain-text-splitters-0.3.6 langsmith-0.3.8 orjson-3.10.15\n"
     ]
    }
   ],
   "source": [
    "!pip install langchain"
   ]
  },
  {
   "cell_type": "code",
   "execution_count": 2,
   "id": "0ad995f8-8711-427e-8baa-a2b9a27826b9",
   "metadata": {},
   "outputs": [
    {
     "name": "stdout",
     "output_type": "stream",
     "text": [
      "Collecting langchain-community\n",
      "  Downloading langchain_community-0.3.17-py3-none-any.whl.metadata (2.4 kB)\n",
      "Requirement already satisfied: langchain-core<1.0.0,>=0.3.34 in e:\\anaconda\\lib\\site-packages (from langchain-community) (0.3.35)\n",
      "Requirement already satisfied: langchain<1.0.0,>=0.3.18 in e:\\anaconda\\lib\\site-packages (from langchain-community) (0.3.18)\n",
      "Requirement already satisfied: SQLAlchemy<3,>=1.4 in e:\\anaconda\\lib\\site-packages (from langchain-community) (2.0.34)\n",
      "Requirement already satisfied: requests<3,>=2 in e:\\anaconda\\lib\\site-packages (from langchain-community) (2.32.3)\n",
      "Requirement already satisfied: PyYAML>=5.3 in e:\\anaconda\\lib\\site-packages (from langchain-community) (6.0.1)\n",
      "Requirement already satisfied: aiohttp<4.0.0,>=3.8.3 in e:\\anaconda\\lib\\site-packages (from langchain-community) (3.10.5)\n",
      "Requirement already satisfied: tenacity!=8.4.0,<10,>=8.1.0 in e:\\anaconda\\lib\\site-packages (from langchain-community) (8.2.3)\n",
      "Collecting dataclasses-json<0.7,>=0.5.7 (from langchain-community)\n",
      "  Downloading dataclasses_json-0.6.7-py3-none-any.whl.metadata (25 kB)\n",
      "Collecting pydantic-settings<3.0.0,>=2.4.0 (from langchain-community)\n",
      "  Downloading pydantic_settings-2.7.1-py3-none-any.whl.metadata (3.5 kB)\n",
      "Requirement already satisfied: langsmith<0.4,>=0.1.125 in e:\\anaconda\\lib\\site-packages (from langchain-community) (0.3.8)\n",
      "Collecting httpx-sse<1.0.0,>=0.4.0 (from langchain-community)\n",
      "  Downloading httpx_sse-0.4.0-py3-none-any.whl.metadata (9.0 kB)\n",
      "Requirement already satisfied: numpy<3,>=1.26.2 in e:\\anaconda\\lib\\site-packages (from langchain-community) (1.26.4)\n",
      "Requirement already satisfied: aiohappyeyeballs>=2.3.0 in e:\\anaconda\\lib\\site-packages (from aiohttp<4.0.0,>=3.8.3->langchain-community) (2.4.0)\n",
      "Requirement already satisfied: aiosignal>=1.1.2 in e:\\anaconda\\lib\\site-packages (from aiohttp<4.0.0,>=3.8.3->langchain-community) (1.2.0)\n",
      "Requirement already satisfied: attrs>=17.3.0 in e:\\anaconda\\lib\\site-packages (from aiohttp<4.0.0,>=3.8.3->langchain-community) (23.1.0)\n",
      "Requirement already satisfied: frozenlist>=1.1.1 in e:\\anaconda\\lib\\site-packages (from aiohttp<4.0.0,>=3.8.3->langchain-community) (1.4.0)\n",
      "Requirement already satisfied: multidict<7.0,>=4.5 in e:\\anaconda\\lib\\site-packages (from aiohttp<4.0.0,>=3.8.3->langchain-community) (6.0.4)\n",
      "Requirement already satisfied: yarl<2.0,>=1.0 in e:\\anaconda\\lib\\site-packages (from aiohttp<4.0.0,>=3.8.3->langchain-community) (1.11.0)\n",
      "Collecting marshmallow<4.0.0,>=3.18.0 (from dataclasses-json<0.7,>=0.5.7->langchain-community)\n",
      "  Downloading marshmallow-3.26.1-py3-none-any.whl.metadata (7.3 kB)\n",
      "Collecting typing-inspect<1,>=0.4.0 (from dataclasses-json<0.7,>=0.5.7->langchain-community)\n",
      "  Downloading typing_inspect-0.9.0-py3-none-any.whl.metadata (1.5 kB)\n",
      "Requirement already satisfied: langchain-text-splitters<1.0.0,>=0.3.6 in e:\\anaconda\\lib\\site-packages (from langchain<1.0.0,>=0.3.18->langchain-community) (0.3.6)\n",
      "Requirement already satisfied: pydantic<3.0.0,>=2.7.4 in e:\\anaconda\\lib\\site-packages (from langchain<1.0.0,>=0.3.18->langchain-community) (2.8.2)\n",
      "Requirement already satisfied: jsonpatch<2.0,>=1.33 in e:\\anaconda\\lib\\site-packages (from langchain-core<1.0.0,>=0.3.34->langchain-community) (1.33)\n",
      "Requirement already satisfied: packaging<25,>=23.2 in e:\\anaconda\\lib\\site-packages (from langchain-core<1.0.0,>=0.3.34->langchain-community) (24.1)\n",
      "Requirement already satisfied: typing-extensions>=4.7 in e:\\anaconda\\lib\\site-packages (from langchain-core<1.0.0,>=0.3.34->langchain-community) (4.11.0)\n",
      "Requirement already satisfied: httpx<1,>=0.23.0 in e:\\anaconda\\lib\\site-packages (from langsmith<0.4,>=0.1.125->langchain-community) (0.27.0)\n",
      "Requirement already satisfied: orjson<4.0.0,>=3.9.14 in e:\\anaconda\\lib\\site-packages (from langsmith<0.4,>=0.1.125->langchain-community) (3.10.15)\n",
      "Requirement already satisfied: requests-toolbelt<2.0.0,>=1.0.0 in e:\\anaconda\\lib\\site-packages (from langsmith<0.4,>=0.1.125->langchain-community) (1.0.0)\n",
      "Requirement already satisfied: zstandard<0.24.0,>=0.23.0 in e:\\anaconda\\lib\\site-packages (from langsmith<0.4,>=0.1.125->langchain-community) (0.23.0)\n",
      "Requirement already satisfied: python-dotenv>=0.21.0 in e:\\anaconda\\lib\\site-packages (from pydantic-settings<3.0.0,>=2.4.0->langchain-community) (0.21.0)\n",
      "Requirement already satisfied: charset-normalizer<4,>=2 in e:\\anaconda\\lib\\site-packages (from requests<3,>=2->langchain-community) (3.3.2)\n",
      "Requirement already satisfied: idna<4,>=2.5 in e:\\anaconda\\lib\\site-packages (from requests<3,>=2->langchain-community) (3.7)\n",
      "Requirement already satisfied: urllib3<3,>=1.21.1 in e:\\anaconda\\lib\\site-packages (from requests<3,>=2->langchain-community) (2.2.3)\n",
      "Requirement already satisfied: certifi>=2017.4.17 in e:\\anaconda\\lib\\site-packages (from requests<3,>=2->langchain-community) (2024.8.30)\n",
      "Requirement already satisfied: greenlet!=0.4.17 in e:\\anaconda\\lib\\site-packages (from SQLAlchemy<3,>=1.4->langchain-community) (3.0.1)\n",
      "Requirement already satisfied: anyio in e:\\anaconda\\lib\\site-packages (from httpx<1,>=0.23.0->langsmith<0.4,>=0.1.125->langchain-community) (4.2.0)\n",
      "Requirement already satisfied: httpcore==1.* in e:\\anaconda\\lib\\site-packages (from httpx<1,>=0.23.0->langsmith<0.4,>=0.1.125->langchain-community) (1.0.2)\n",
      "Requirement already satisfied: sniffio in e:\\anaconda\\lib\\site-packages (from httpx<1,>=0.23.0->langsmith<0.4,>=0.1.125->langchain-community) (1.3.0)\n",
      "Requirement already satisfied: h11<0.15,>=0.13 in e:\\anaconda\\lib\\site-packages (from httpcore==1.*->httpx<1,>=0.23.0->langsmith<0.4,>=0.1.125->langchain-community) (0.14.0)\n",
      "Requirement already satisfied: jsonpointer>=1.9 in e:\\anaconda\\lib\\site-packages (from jsonpatch<2.0,>=1.33->langchain-core<1.0.0,>=0.3.34->langchain-community) (2.1)\n",
      "Requirement already satisfied: annotated-types>=0.4.0 in e:\\anaconda\\lib\\site-packages (from pydantic<3.0.0,>=2.7.4->langchain<1.0.0,>=0.3.18->langchain-community) (0.6.0)\n",
      "Requirement already satisfied: pydantic-core==2.20.1 in e:\\anaconda\\lib\\site-packages (from pydantic<3.0.0,>=2.7.4->langchain<1.0.0,>=0.3.18->langchain-community) (2.20.1)\n",
      "Requirement already satisfied: mypy-extensions>=0.3.0 in e:\\anaconda\\lib\\site-packages (from typing-inspect<1,>=0.4.0->dataclasses-json<0.7,>=0.5.7->langchain-community) (1.0.0)\n",
      "Downloading langchain_community-0.3.17-py3-none-any.whl (2.5 MB)\n",
      "   ---------------------------------------- 0.0/2.5 MB ? eta -:--:--\n",
      "   ---- ----------------------------------- 0.3/2.5 MB ? eta -:--:--\n",
      "   -------- ------------------------------- 0.5/2.5 MB 2.8 MB/s eta 0:00:01\n",
      "   ---------------- ----------------------- 1.0/2.5 MB 2.5 MB/s eta 0:00:01\n",
      "   ------------------------ --------------- 1.6/2.5 MB 2.5 MB/s eta 0:00:01\n",
      "   ------------------------------------- -- 2.4/2.5 MB 2.7 MB/s eta 0:00:01\n",
      "   ---------------------------------------- 2.5/2.5 MB 2.7 MB/s eta 0:00:00\n",
      "Downloading dataclasses_json-0.6.7-py3-none-any.whl (28 kB)\n",
      "Downloading httpx_sse-0.4.0-py3-none-any.whl (7.8 kB)\n",
      "Downloading pydantic_settings-2.7.1-py3-none-any.whl (29 kB)\n",
      "Downloading marshmallow-3.26.1-py3-none-any.whl (50 kB)\n",
      "Downloading typing_inspect-0.9.0-py3-none-any.whl (8.8 kB)\n",
      "Installing collected packages: typing-inspect, marshmallow, httpx-sse, dataclasses-json, pydantic-settings, langchain-community\n",
      "Successfully installed dataclasses-json-0.6.7 httpx-sse-0.4.0 langchain-community-0.3.17 marshmallow-3.26.1 pydantic-settings-2.7.1 typing-inspect-0.9.0\n"
     ]
    }
   ],
   "source": [
    "!pip install -U langchain-community"
   ]
  },
  {
   "cell_type": "code",
   "execution_count": 3,
   "id": "ccf0a6be-a888-4cce-aee7-96d5ab28a435",
   "metadata": {},
   "outputs": [],
   "source": [
    "from langchain.document_loaders import TextLoader"
   ]
  },
  {
   "cell_type": "code",
   "execution_count": 4,
   "id": "9efbb7cf-845c-483e-9b11-2e085454aa7d",
   "metadata": {},
   "outputs": [],
   "source": [
    "loader = TextLoader(\"Tata_Motors.txt\")\n",
    "data = loader.load()"
   ]
  },
  {
   "cell_type": "code",
   "execution_count": 5,
   "id": "03796fc2-4b13-474d-a824-01d14af4dee1",
   "metadata": {},
   "outputs": [
    {
     "data": {
      "text/plain": [
       "[Document(metadata={'source': 'Tata_Motors.txt'}, page_content='Tata Motors\\n\\n\\n\\nTata Motors LimitedHeadquarters in MumbaiFormerlyTata Engineering and Locomotive Company Ltd. (TELCO)Company typePublicTraded asBSE:Â\\xa0500570NSE:Â\\xa0TATAMOTORSBSE SENSEX constituentNSE NIFTY 50 constituentISININ9155A01020IndustryAutomotiveFounded1945; 79Â\\xa0years agoFounderJ. R. D. TataHeadquartersMumbai, Maharashtra, India[1]Area servedWorldwideKey peopleNatarajan Chandrasekaran  (Chairman)P. B. Balaji (CFO)[2]ProductsAutomobilesLuxury vehiclesCommercial vehiclesAutomotive partsPickup trucksSUVsProduction output1.1 million (2021)ServicesAutomotive financeVehicle leasingVehicle serviceRevenue â‚¹443,877 crore (US$53Â\\xa0billion) (2024)[3]Operating income â‚¹28,232 crore (US$3.4Â\\xa0billion) (2024)[3]Net income â‚¹31,806 crore (US$3.8Â\\xa0billion) (2024)[3]Total assets â‚¹370,663 crore (US$44Â\\xa0billion) (2024)[4]Total equity â‚¹93,093 crore (US$11Â\\xa0billion) (2024)[4]Number of employees91,811 (2024)[5]ParentTata GroupSubsidiaries\\nTata Motors Cars\\nJaguar Land Rover\\nTata Daewoo\\nTata Marcopolo\\nTata Technologies\\nTata Hispano\\nTata Hitachi Construction Machinery\\nRatingS&P BB/Stable[6]Websitetatamotors.com\\nTata Motors Limited is an Indian multinational automotive company, headquartered in Mumbai and part of the Tata Group. The company produces cars, trucks, vans, and buses.[7]\\nSubsidiaries include British Jaguar Land Rover and South Korean Tata Daewoo. Tata Motors has joint ventures with Hitachi (Tata Hitachi Construction Machinery) and Stellantis, which makes vehicle parts for Fiat Chrysler and Tata-branded vehicles.\\nTata Motors has auto manufacturing and vehicle plants in Jamshedpur, Pantnagar, Lucknow, Sanand, Dharwad, and Pune in India, as well as in Argentina, South Africa, the United Kingdom, and Thailand. It has research and development centers in Pune, Jamshedpur, Lucknow, Dharwad, India and South Korea, the United Kingdom, and Spain. Tata Motors is listed on the BSE and NSE, and is a constituent of the BSE SENSEX and NIFTY 50 benchmark indices. The company is ranked 265th on the Fortune Global 500 list of the world\\'s biggest corporations as of 2019.[8]\\nOn 17 January 2017, Natarajan Chandrasekaran was appointed chairman of the company Tata Group. Tata Motors increased its UV market share to over 8% in FY2019.[9]\\n\\n\\nHistory[edit]\\nTata Sierra (1991-2000)\\nTata Sumo (1994â€“2019)\\nTata Motors was founded in 1945, as a locomotive manufacturer. Tata Group entered the commercial vehicle sector in 1954 after forming a joint venture with Daimler-Benz of Germany in which Tata developed a manufacturing facility in Jamshedpur for Daimler lorries.[10] By November 1954 Tata and Daimler manufactured their first goods carrier chassis at their Jamshedpur plant with 90-100Â\\xa0hp and capacity of 3-5 tons.[11] After years of dominating the commercial vehicle market in India, Tata Motors entered the passenger vehicle market in 1991 by launching the Tata Sierra, a sport utility vehicle based on the Tata Mobile platform. Tata subsequently launched the Tata Estate (1992; a station wagon design based on the earlier Tata Mobile), the Tata Sumo (1994, a 5-door SUV) and the Tata Safari (1998).[citation needed]\\n\\nTata Indica (first generation)\\nTata launched the Indica in 1998. A newer version of the car, named Indica V2, later appeared. Tata Motors also exported cars to South Africa.[12]\\nIn the 2000s, Tata Motors made a series of acquisitions and partnerships, acquiring Daewoo\\'s South Korea-based truck manufacturing unit,[13] a joint venture with the Brazil-based Marcopolo, Tata Marcopolo Bus,[14] Jaguar Land Rover.,[15][16][17][18] Hispano Carrocera,[19] and an 80% stake in the Italian design and engineering company Trilix.[20]\\nOn 12 October 2021, private equity firm TPG invested $1 billion in Tata Motors\\' electric vehicle subsidiary.[21]\\n\\nOperations[edit]\\nTata Motors has vehicle assembly operations in India, the United Kingdom, South Korea, Thailand, Spain, and South Africa. It plans to establish plants in Turkey, Indonesia, and Eastern Europe.\\n\\nTata Motors Cars[edit]\\n\\nTata Motors Cars is a division of Tata Motors which produces passenger cars under the Tata Motors hood. Tata Motors is among the top five passenger vehicle brands in India with products in the compact, midsize car, and utility vehicle segments.[22] The company\\'s manufacturing base in India is spread across Jamshedpur (Jharkhand), Pune (Maharashtra), Lucknow (Uttar Pradesh), Pantnagar (Uttarakhand), Dharwad (Karnataka) and Sanand (Gujarat). Tata\\'s dealership, sales, service, and spare parts network comprise over 3,500 touchpoints.[22] Tata Motors has more than 250 dealerships in more than 195 cities across 27 states and four Union Territories of India.[23] It has the third-largest sales and service network after Maruti Suzuki and Hyundai.\\nTata also has franchisee/joint venture assembly operations in Kenya, Bangladesh, Ukraine, Russia, and Senegal.[24] Tata has dealerships in 26 countries across 4 continents.[25] Tata is present in many countries, it has managed to create a large consumer base in the Indian subcontinent, namely India, Bangladesh, Bhutan, Sri Lanka and Nepal. Tata is also present in Italy,[26] Spain,[27] Poland,[28] Romania,[29] Turkey,[30] Chile,[31] South Africa,[32] Oman, Kuwait, Qatar, Saudi Arabia, United Arab Emirates, Bahrain, Iraq, Syria and Australia.\\n\\nTata Daewoo[edit]\\n\\nTata LPT Trucks made at overseas plantsTata Daewoo (officially Tata Daewoo Commercial Vehicle Company and formerly Daewoo Commercial Vehicle Company) is a commercial vehicle manufacturer headquartered in Gunsan, Jeollabuk-do South Korea, and a wholly owned subsidiary of Tata Motors. It is the second-largest heavy commercial vehicle manufacturer in South Korea and was acquired by Tata Motors in 2004. The principal reasons behind the acquisition were to reduce Tata\\'s dependence on the Indian commercial vehicle market (which was responsible for around 94% of its sales in the MHCV segment and around 84% in the light commercial vehicle segment) and expand its product portfolio by leveraging on Daewoo\\'s strengths in the heavy-tonnage sector.\\nTata Motors has jointly worked with Tata Daewoo to develop trucks such as Novus and World Truck and buses including GloBus and StarBus. In 2012, Tata began developing a new line to manufacture competitive and fuel-efficient commercial vehicles to face the competition posed by the entry of international brands such as Mercedes-Benz, Volvo, and Navistar into the Indian market.[33]\\n\\nTata Hispano[edit]\\n\\nTata Hispano Motors Carrocera, S.A. was a bus and coach manufacturer based in Zaragoza, Aragon, Spain, and a wholly owned subsidiary of Tata Motors. Tata Hispano has plants in Zaragoza, Spain, and Casablanca, Morocco. Tata Motors first acquired a 21% stake in Hispano Carrocera SA in 2005,[34] and purchased the remaining 79% for an undisclosed sum in 2009, making it a fully owned subsidiary, subsequently renamed Tata Hispano. In 2013, Tata Hispano ceased production at its Zaragoza plant.[35][36]\\n\\nTML Drivelines[edit]\\nTML Drivelines Ltd. is a wholly owned subsidiary of Tata Motors engaged in the manufacture of gearboxes and axles for heavy and medium commercial vehicles. It has production facilities at Jamshedpur and Lucknow.  TML Forge division is also a recent acquisition of TML Drivelines. TML Drivelines was formed through the merger of HV Transmission  and HV Axles.\\n\\nTata Technologies[edit]\\nTata Technologies Limited (TTL) is a 43%-owned subsidiary of Tata Motors which provides design, engineering, and business process outsourcing services to the automotive industry. It is headquartered in Pune\\'s Hinjawadi business district and also has operations in London, Detroit and Thailand. Its clients include Ford, General Motors, Honda, and Toyota.\\nThe British engineering and design services company Incat International, which specialises in engineering and design services and product lifecycle management in the automotive, aerospace, and engineering sectors, is a wholly owned subsidiary of TTL. It was acquired by TTL in August 2005 for â‚¹4 billion.\\nIn 2017, TAL, a subsidiary of Tata Motors, manufactured India\\'s first industrial articulated robot for micro, small, and medium enterprises.[36]\\n\\nEuropean Technical Centre[edit]\\nThe Tata Motors European Technical Centre (TMETC) is an automotive design, engineering, and research company based at WMG, University of Warwick on the campus of the University of Warwick in England. It was established in 2005 and is a wholly owned subsidiary of Tata Motors. It was the joint developer of the World Truck.[37]\\nIn September 2013, it was announced that a new National Automotive Innovation Campus would be built at WMG at Warwick\\'s main campus at a cost of Â£100 million.[38][39] The initiative will be a partnership between Tata Motors, the university, and Jaguar Land Rover, with Â£30 million in funding coming from Tata Motors.[40]\\n\\nSubsidiaries[edit]\\nJaguar Land Rover[edit]\\nRange Rover (L405)\\n\\nLand Rover Defender\\nJaguar Land Rover PLC is a premium British automaker headquartered in Whitley, Coventry, United Kingdom, and has been a wholly owned subsidiary of Tata Motors since June 2008, when it was acquired from Ford Motor Company of USA.[41] Its principal activity is the development, manufacture and sale of Jaguar luxury and sports cars and Land Rover premium four-wheel-drive vehicles.\\nJaguar Land Rover has two design centres and three assembly plants in the United Kingdom. Under Tata ownership, Jaguar Land Rover has launched new vehicles including the Range Rover Evoque, Jaguar F-Type, the Jaguar XE, the Jaguar XJ (X351), the second-generation Range Rover Sport, and Jaguar XF, the fourth-generation Land Rover Discovery, Range Rover Velar  and the Range Rover (L405).\\n\\nLand Rover Discovery Sport\\nJD Power, of the US, rates Land Rover and Jaguar as the two worst brands for initial quality.\\n[42] The Jaguar F-Pace made Consumer Reports February 2019 list of the 10 Least Reliable Cars. The editors cited \"electronics, drive system, power equipment, noises and leaks\" as problematic aspects.[43]\\nThe Jaguar Land Rover subsidiary was struggling by 2019 and Tata Motors wrote down its investment in JLR by $3.9 billion. Much of the financial problem was due to a 50% drop in sales in China during 2019, although the situation was improving. Still, Tata was open to considering a partnership with another company according to a statement in mid-October, as long as the partnership agreement would allow Tata to maintain control of the business. The company ruled out the possibility of a sale of JLR to another entity.[44]\\nIn July 2023, Tata announced its plans to invest Â£4 billion to build an electric car battery factory in the UK, which will be one of the largest of its kind in Europe.[45][46][47] The factory will be the company\\'s first battery production facility outside India.[47] Located in Bridgwater, Somerset, the factory will supply Jaguar Land Rover\\'s future battery electric models, including the Range Rover, Defender, Discovery and Jaguar brands, with the potential to also supply other car manufacturers.[36] Production at the new facility is due to start in 2026.\\n\\nJoint ventures[edit]\\nTata Marcopolo[edit]\\n\\nA Tata Marcopolo bus in use in Chandigarh, India\\nTata Marcopolo is a bus-manufacturing joint venture between Tata Motors (51%) and the Brazil-based Marcopolo S.A. (49%). The joint venture manufactures and assembles fully built buses and coaches targeted at developing mass rapid transportation systems. It uses technology and expertise in chassis and aggregates from Tata Motors, and know-how in processes and systems for bodybuilding and bus body design from Marcopolo. Tata Marcopolo has launched a low-floor city bus which is widely used by transport corporations in many Indian cities. Its manufacturing facility is based in Dharwad, Karnataka State, India and Lucknow, India.\\nTata Motors is expected to buy the 49% stake held by its partner Marcopolo in the bus-making joint venture for â‚¹100 crore by February 2021. The subsidiary will continue with the â€˜Marcopoloâ€™ trademark for a minimum of three years with a non-compete provision in India for a corresponding period.[48]\\n\\nFiat-Tata[edit]\\nFiat-Tata is an India-based joint venture between Tata and Stellantis\\' Fiat which produces Fiat and Tata branded passenger cars, as well as engines and transmissions. Tata Motors has gained access to Fiat\\'s diesel engine and transmission technology through the joint venture.[49]\\nThe two companies formerly also had a distribution joint venture through which Fiat products were sold in India through joint Tata-Fiat dealerships. This distribution arrangement was ended in March 2013; Fiats have since been distributed in India by Fiat Automobiles India Limited, a wholly owned subsidiary of Fiat[50][51] and now Tata Motors.\\n\\nTata Hitachi Construction Machinery[edit]\\n\\nTata Hitachi Construction Machinery is a joint venture between Tata Motors and Hitachi which manufactures excavators and other construction equipment.[citation needed] It was previously known as Telcon Construction Solutions.[citation needed]\\n\\nTata Motors European Technical Centre[edit]\\nThe TATA Motors European Technical Centre is an automotive design, engineering, and research company.[citation needed] Company based at WMG, University of Warwick in the United Kingdom.[citation needed] It was established in 2005 and is wholly owned subsidiary of Tata Motors. It was the joint developer of the World Truck.[citation needed] In September 2013 it was announced that a new National Automotive Innovative Campus would be built at WMG at Warwick\\'s main campus at a cost of 92 million pounds.[52] The initiative will be a partnership between Tata Motors, the university, and Jaguar Land Rover, with the 30 million pounds in funding coming from Tata Motors.[53]\\n\\nHyundai-Tata[edit]\\nTata Motors and Hyundai are in a joint venture to provide  the automatic transmission for Tata Safari & Tata Harrier model.[54]\\n\\nProducts[edit]\\nFor details of Land Rover and Jaguar products, see Jaguar Land Rover.\\n\\nPassenger vehicles[edit]\\n\\nCurrent Models[edit]\\n\\n\\nModel\\n\\nYear of Introduction\\n\\n\\nHatchback\\n\\n\\nTata Tiago\\n\\n2016[55]\\n\\n\\nTata Altroz\\n\\n2020\\n\\n\\nSedan\\n\\n\\nTata Tigor\\n\\n2016\\n\\n\\nSUV/Crossover\\n\\n\\nTata Punch\\n\\n2021\\n\\n\\nTata Nexon\\n\\n2017\\n\\n\\nTata Harrier\\n\\n2018\\n\\n\\nTata Safari\\n\\n2021\\n\\n\\nElectric\\n\\n\\nTata Nexon EV\\n\\n2020\\n\\n\\nTata Tigor EV\\n\\n2021\\n\\n\\nTata Tiago EV\\n\\n2022\\n\\n\\nTata Punch EV\\n\\n2023\\n\\nCommercial vehicles[edit]\\nTata Ace\\nTata Ace Zip\\nTata Ace EV\\nTata Super Ace\\nTata Intra\\nTata Intra V10\\nTata Intra V20\\nTata Intra V30\\nTata Intra V50\\nTata Xenon XT\\nTata Yodha\\nTata Ace Mega\\nTata Iris\\nTata TL/Telcoline/207 Pick-up truck\\nTata 407 Ex and Ex2\\nTata 709 Ex\\nTata 807 (Steel cabin chassis, cowl chassis, medium bus chassis, steel cabin + steel body chassis)\\nTata 809 Ex and Ex2\\nTata 909 Ex and Ex2\\nTata 1210 SE and SFC (Semi Forward)\\nTata 1210 LP (Long Plate)\\nTata 1109 (Intermediate truck/ LCV bus)\\nTata 1512c (Medium bus chassis)\\nTata 1515c/1615 (Medium bus chassis)\\nTata 1612c/1616c/1618c (Heavy bus chassis)\\nTata 1618 (Semilow-floor bus chassis)\\nTata 1623 (Rear-engined low-floor bus chassis)\\nTata 1518C (Medium truck) 10 ton\\nTata 1613/1615c (Medium truck)\\nTata 1616/1618c (Heavy duty truck)\\nTata 2515c/2516c/2518c (Heavy duty 10-wheeler truck)\\nTata Starbus (Branded buses for city, intercity, school bus, and standard passenger transportation)\\nTata Divo (Hispano Divo)\\nTata CityRide (12- to 20-seater buses for intracity use)\\nTata 3015 (Heavy truck)\\nTata 3118 (Heavy truck) (8Ã—2)\\nTata 3516 (Heavy truck)\\nTata 4018 (Heavy truck)\\nTata 4923 (Ultraheavy truck) (6Ã—4)\\nTata Novus\\nTata Prima\\nTata SIGNA series\\nTata Ultra series (ICV Segment)\\nTata Winger - (Maxivan)\\nElectric vehicles[edit]\\nTata Motors has unveiled electric versions of the Tata Indica passenger car powered by TM4 electric motors and inverters,[56] as well as the Tata Ace commercial vehicle, both of which run on lithium batteries which launched in 2022.\\nIn 2008 Tata Motors\\' UK subsidiary, Tata Motors European Technical Centre, bought a 50.3% holding in electric vehicle technology firm MiljÃ¸bil Grenland/Innovasjon of Norway for US$1.93 million, and planned to launch the electric Indica hatchback in Europe the following year.[57][58][59] In September 2010, Tata Motors presented four CNGâ€“Electric Hybrid low-floored Starbuses to the Delhi Transport Corporation, to be used during the 2010 Commonwealth Games. These were the first environmentally friendly buses to be used for public transportation in India.\\nIn December 2019, Tata Motors unveiled the Nexon EV, an SUV with a 30.2KWh lithium-ion battery and a consistent range of 312Â\\xa0km on a single charge. It is also equipped with fast charging technology, which can charge the vehicle from 0% - 80% in 60 minutes.[60] With 525 units of Nexon EV sold in India last month, Tata Nexon EV[61] was the best-selling electric car in the month of April 2021 in India.\\nTata Passenger Electric Mobility is a subsidiary which produces electric cars under the brand name Tata Motors.[62]\\nList of Tata electric vehicles:\\n\\nTata Nexon EV\\nTata Tigor EV\\nTata Altroz EV\\nTata Tiago EV\\nTata Ace EV\\nTata Punch EV[63]\\nElectric Vehicle Concepts[edit]\\nTata Curvv\\nTata Avinya\\nTata EVision\\nHarrier.ev\\nSierra.ev[64]\\nDiscontinued Models[edit]\\nTata Telcoline (1988â€“2010)\\nTata Sierra (1991â€“2003)\\nTata Estate (1992â€“2000)\\nTata Sumo (1994â€“2019)\\nTata Indica (1998â€“2015)\\nTata Spacio (2000-2011)\\nTata Indigo (2002â€“2015)\\nTata Indigo Marina (2006â€“2009)\\nTata Xenon (2007â€“2018)\\nTata Sumo Grande (2008â€“2016)\\nTata Vista (2008â€“2015)\\nTata Nano (2008â€“2018)\\nTata Manza (2011â€“2016)[65]\\nTata Venture (2010â€“2017)\\nTata Aria (2010â€“2017)\\nTata Zest (2014â€“2020)\\nTata Bolt (2014â€“2019)\\nTata Hexa (2017â€“2020)\\nNotable vehicles[edit]\\nTata Nano[edit]\\n\\nTata Nano is often cited as the world\\'s most affordable car\\nThe Nano was launched in 2009 as a city car intended to appeal as an affordable alternative to the section of the Indian populace that is primarily the owner of motorcycles and has not bought their first car. Initially priced at â‚¹100,000 (US$1,500), the vehicle attracted a lot of attention for its relatively low price. However, the Nano was very poorly rated for safety[66][67] and in 2018, Cyrus Mistry, chairman of the Tata Group, called the Tata Nano a failed project, with production ending in May 2018.[68]\\n\\nTata Ace[edit]\\n\\nTata Super Ace\\nTata Ace, India\\'s first indigenously developed sub-one-ton minitruck, was launched in May 2005. The minitruck was a huge success in India with auto analysts claiming that Ace had changed the dynamics of the light commercial vehicle  (LCV) market in the country by creating a new market segment termed the small commercial vehicle  segment. Ace rapidly emerged as the first choice for transporters and single truck owners for city and rural transport.\\nBy October 2005, LCV sales of Tata Motors had grown by 36.6% to 28,537 units due to the rising demand for Ace. The Ace was built with a load body produced by Autoline Industries.[69]\\nBy 2005, Autoline was producing 300 load bodies per day for Tata Motors. Ace is still a top seller for TML with 500,000 units sold by June 2010.[70] In 2011, Tata Motors invested Rs 1000 crore in Dharwad Plant, Karnataka, with the capacity of 90,000 units annually and launched two models of 0.5-T capacity as Tata Ace Zip, Magic Iris.[71] Ace has also been exported to several Asian, European, South American, and African countries and all-electric models are sold through Polaris Industries\\' Global Electric Motorcars division. In Sri Lanka, it is sold through Diesel & Motor Engineering (DIMO) PLC under the name of DIMO Batta.\\n\\nTata Prima[edit]\\n\\nA Tata Prima 4928.S in Assam, India\\nTata Prima is a range of heavy trucks first introduced in 2008 as the company\\'s \\'global\\' truck. Tata Prima was the winner of the \\'Commercial Vehicle of the Year\\' at the Apollo Commercial Vehicles Awards, 2010 and 2012.\\n\\nTata 407[edit]\\n\\nA Tata 407 being used as water truck\\nThe Tata 407 is a light commercial vehicle (LCV) that has sold over 500,000 units since its launch in 1986.[72] In India, this vehicle dominates market share of the LCV category, accounting for close to 75% of LCV sales. The 407 model range includes trucks, tippers, pick-ups and vehicles for agri/food products, construction, light mining and services.[73]\\n\\nTata Harrier[edit]\\n\\nTata Harrier\\nTata Harrier is a 5-seater SUV that rivals the MG Hector and Jeep Compass. This car uses the engine from Fiat which is a 2.0 L-4 cylinder turbocharged diesel motor and transmission from Hyundai which is a 6-speed, available in both manual and automatic. Tata Harrier is derived from the H5X Concept displayed at the 2018 Auto Expo. It was launched on 23 January 2019.[74]\\nThe car is a C-segment crossover SUV based on the OmegaArc platform, an essentially re-engineered version of the Jaguar Land Rover D8 platform.[75] A petrol variant of the Harrier is confirmed to launch in 2022â€“23.[76]\\nTata Harrier is also available in Nepal with the name H5.\\n\\nTata Nexon[edit]\\n\\nTata Nexon\\nThe Tata Nexon is a subcompact crossover SUV produced by Tata Motors since 2017. It is the first crossover SUV from Tata Motors, and occupies the sub-4 metre crossover SUV segment in India.[77] The electric version of the Nexon was revealed on 19 December 2019. The Nexon EV uses components from Tata Motors\\' electric vehicle technology brand Ziptron. The electric motor produces 94.7Â\\xa0kW (127Â\\xa0hp; 129Â\\xa0PS) and 245Â\\xa0Nâ‹…m (181Â\\xa0lbfâ‹…ft) of torque and 0 - 100 under 9.9 seconds. It has a 30.2 kWh battery with an ARAI rated range of up to 312Â\\xa0km.[78]\\nThe battery can be fully charged in under 8 hours using a complimentary AC charger. It can also be charged using a 15-ampere power cable that can be used at any place with the necessary power socket. DC 25Â\\xa0kW fast charging can be used to charge the battery from 0 to 80% in 1 hour.[79]\\n\\nRestructuring[edit]\\nIn March 2024, Tata Motors announced plans to undergo a significant restructuring by splitting into two separate listed entities. This strategic move aims to enhance operational efficiencies and focus on distinct business segments. The demerger is expected to allow each entity to pursue tailored growth strategies and attract specific investor bases. The announcement was well-received by the market, with Tata Motors\\' stock experiencing a notable jump following the news.[80][81][82]\\n\\nSee also[edit]\\nList of companies of India\\nList of largest companies by revenue\\nList of corporations by market capitalisation\\nMake in India\\nForbes Global 2000\\nFortune India 500\\nAutomotive industry in India\\nTata Revotron engine\\nReferences[edit]\\n\\n^ \"Contact Us - Tata Motors Limited\". www.tatamotors.com. 14 October 2015. Archived from the original on 4 May 2019. Retrieved 30 July 2018.\\n\\n^ \"Tata Motors Ltd\". Reuters. Retrieved 19 May 2024.\\n\\n^ Jump up to: a b c \"Tata Motors Ltd. Financial Statements\" (PDF). bseindia.com.\\n\\n^ Jump up to: a b \"Tata Motors Consolidated Balance Sheet, Tata Motors Financial Statement & Accounts\" (PDF). www.bseindia.com.\\n\\n^ \"Tata Motors\" (PDF). Tata Motors. May 2022. Retrieved 1 June 2024. Employees: 50,837\\n\\n^ cite news|url=https://www.business-standard.com/amp/companies/news/s-p-upgrades-tata-motors-long-term-issuer-issue-credit-ratings-to-bb-123042600194_1.html%7Cwebsite=business-standard.com\\n\\n^ \"Financials of Tata Motors Limited\". CNN. Archived from the original on 16 October 2013.\\n\\n^ \"Fortune Global 500 list\". Archived from the original on 7 August 2019. Retrieved 18 October 2019.\\n\\n^ \"Tata Motors Market Share\". Auto Car Professional. Retrieved 2 April 2019.\\n\\n^ \"More Special A Licences Granted | 12th March 1954 | The Commercial Motor Archive\". archive.commercialmotor.com. Retrieved 30 May 2023.\\n\\n^ \"Government Viewâ€¢ On RoadsÂ\\xa0: Big Extension of Construction? | 12th November 1954 | The Commercial Motor Archive\". archive.commercialmotor.com. Retrieved 30 May 2023.\\n\\n^ \"Tata Milestones\". Archived from the original on 6 December 2010. Retrieved 22 March 2009.\\n\\n^ \"Tata Motors completes acquisition of Daewoo Commercial Vehicle Company\". Tata Motors. Archived from the original on 8 February 2010. Retrieved 7 October 2010.\\n\\n^ \"Tata Motors, Brazil co form joint venture\". The Hindu Business Line. Archived from the original on 10 October 2010. Retrieved 7 October 2010.\\n\\n^ \"Ford Motor Company Announces Agreement to Sell Jaguar Land Rover to Tata Motors\" (Press release). Ford Motor Company. 26 March 2008. Archived from the original on 12 June 2008. Retrieved 27 March 2008.\\n\\n^ \"Tata Motors enters into Definitive Agreement with Ford for purchase of Jaguar Land Rover\" (Press release). Tata Motors. 26 March 2008. Archived from the original on 5 December 2010. Retrieved 27 March 2008.\\n\\n^ Lewin, Tony (27 March 2008). \"Classic names are part of Tata deal\". Automotive News. Crain Communications. Archived from the original on 28 March 2008. Retrieved 18 May 2008.\\n\\n^ \"Tata Motors completes acquisition of Jag, Land Rover\". Thomson Reuters. 2 June 2008. Archived from the original on 29 December 2008. Retrieved 2 June 2008.\\n\\n^ \"Tata Motors acquires control of Hispano Carrocera\". Business-Standard. 20 October 2009. Archived from the original on 21 April 2010. Retrieved 20 October 2011.\\n\\n^ \"Tata Motors acquires 80% stake in Italy\\'s Trilix\". Money Control. Archived from the original on 10 October 2010. Retrieved 7 October 2010.\\n\\n^ Barman, Arijit (12 October 2021). \"TPG - Tata Motors: TPG drives into Tata Motors EV business with $1 billion investment\". The Economic Times. Retrieved 13 October 2021.\\n\\n^ Jump up to: a b \"Tata Motors\". Tata Motors. Archived from the original on 11 January 2011. Retrieved 4 June 2009.\\n\\n^ \"Booking Center Locator\". tatanano.inservices.tatamotors.com. Archived from the original on 25 March 2009. Retrieved 15 January 2022.\\n\\n^ \"Tata Motors InternationalÂ\\xa0: CompanyÂ\\xa0: Profile\". Tatacarsworldwide.com. Archived from the original on 4 March 2009. Retrieved 4 June 2009.\\n\\n^ \"Tata Motors InternationalÂ\\xa0: Global Network\". Tatacarsworldwide.com. Archived from the original on 15 July 2009. Retrieved 4 June 2009.\\n\\n^ \"Tata Motors -\". Tata Motors. Archived from the original on 27 May 2017. Retrieved 27 September 2017.\\n\\n^ \"Tata Motors EspaÃ±a. Coches Tata - Coches Nuevos y Nuevas Ofertas de Tata\". Tatamotors.es. Archived from the original on 11 October 2007. Retrieved 28 June 2015.\\n\\n^ \"Start - sklep internetowy Tata Motors POLSKA\". tatamotor.com.pl. Archived from the original on 28 September 2017. Retrieved 27 September 2017.\\n\\n^ \"Davossi\". Davossi.ro. Archived from the original on 1 August 2015. Retrieved 28 June 2015.\\n\\n^ \"Tata TÃ¼rkÄ±ye\". Tata.com.tr. Archived from the original on 12 January 2008. Retrieved 28 June 2015.\\n\\n^ \"Tata Motors\". Tata-motors.cl. Archived from the original on 9 August 2011. Retrieved 28 June 2015.\\n\\n^ \"Tata Homepage - Tata South Africa\". Tata.co.za. Archived from the original on 26 June 2015. Retrieved 28 June 2015.\\n\\n^ \"Tatas readying new line of CVs to take on competition\". 14 July 2012. Archived from the original on 17 July 2012. Retrieved 14 July 2012.\\n\\n^ \"Hispano\". Hispano-net.com. Archived from the original on 28 September 2010. Retrieved 11 October 2010.\\n\\n^ \"Media - Tata Motors Limited\". 10 September 2015. Archived from the original on 28 September 2017. Retrieved 27 September 2017.\\n\\n^ Jump up to: a b c Mondal, Manisha. \"Robotic hand rocks manufacturing cradle\". The Hindu. Retrieved 11 April 2017.\\n\\n^ \"Tata Motors Unveils New Range Of Trucks\". Motorbeam.com. 29 May 2009. Archived from the original on 1 June 2009. Retrieved 4 June 2009.\\n\\n^ \"Â£100m investment boost for Warwick University\". The Independent. 25 September 2013. Archived from the original on 29 September 2013. Retrieved 29 September 2013.\\n\\n^ \"University of Warwick Â£100m car centre \\'will secure jobs\\'\". BBC. 24 September 2013. Archived from the original on 28 September 2013. Retrieved 29 September 2013.\\n\\n^ \"Tata Motors confirms Â£30m investment in UK R&D centre\". The Engineer. 3 December 2013. Archived from the original on 29 November 2014. Retrieved 27 February 2014.\\n\\n^ Rutherford, Mike (29 March 2008). \"Mike Rutherford ponders Tata\\'s takeover of Land Rover and Jaguar\". The Daily Telegraph. Archived from the original on 8 April 2008. Retrieved 30 July 2008.\\n\\n^ McIntyre, Douglas A. (24 June 2019). \"And the Worst New Car Sold in America Isâ€¦\". MSN. Microsoft News. Retrieved 25 June 2019.\\n\\n^ Linkov, Jon; Elek, Steven (18 November 2021). \"10 Least Reliable Cars\". Consumer Reports. Archived from the original on 7 October 2019.\\n\\n^ Trudell, Craig; Coppola, Gabrielle; Kotoky, Anurag (15 October 2019). \"Tata Looks for Jaguar Land Rover Partners, but Rules Out Sale\". Bloomberg. Archived from the original on 17 October 2019.\\n\\n^ \"Tata Group confirms plans to build gigafactory for batteries in the UK\". Sky News. Retrieved 20 July 2023.\\n\\n^ Ralph, Alex (20 July 2023). \"Tata to build Â£4bn gigafactory in Somerset\". The Times. ISSNÂ\\xa00140-0460. Retrieved 20 July 2023.\\n\\n^ Jump up to: a b \"Tata confirms Somerset will host Â£4bn battery factory\". BBC News. 28 February 2024. Retrieved 28 February 2024.\\n\\n^ \"Tata Motors To Buy Remaining 49% Share In Tata Marcopolo Motors For Nearly â‚¹ 100 Crore\". Retrieved 23 December 2020.\\n\\n^ \"Fiat, Tata Motors set up joint venture\". timesofmalta.com. 21 October 2007. Archived from the original on 18 November 2007. Retrieved 1 April 2008.\\n\\n^ \"Fiat to complete split from Tata in sales ops by Mar 2013\". Business Standard. 19 September 2012. Archived from the original on 12 January 2014. Retrieved 12 January 2014.\\n\\n^ \"After split with Tata Motors, Fiat begins its solo India ride\". The Economic Times. 11 April 2013. Archived from the original on 12 January 2014. Retrieved 12 January 2014.\\n\\n^ \"Â£92 million National Automotive Innovation Campus to be built at University of Warwick\". warwick.ac.uk. Retrieved 6 October 2020.\\n\\n^ \"Tata Motors European technical centre demonstrates latest mobility technology on the Tata HEXA\". Automotive World. Archived from the original on 10 January 2019. Retrieved 9 January 2018.\\n\\n^ \"How Good Is All New Tata Safari 2023\". Motorlane. 12 November 2023.\\n\\n^ www.ETAuto.com. \"Tata Tiago to be launched on April 6 - ET Auto\". ETAuto.com. Retrieved 27 February 2024.\\n\\n^ \"Customers\". TM4. Archived from the original on 30 June 2015. Retrieved 28 June 2015.\\n\\n^ \"TMETC acquires 50.3 per cent stake in Norway\\'s Miljo Grenland/Innovasjon; to launch first electric vehicle\". Tata.com. 14 October 2008. Archived from the original on 30 July 2013. Retrieved 2 May 2009.\\n\\n^ \"Tata Motors European Technical Centre\". Tata.com. Archived from the original on 24 January 2009. Retrieved 2 May 2009.\\n\\n^ \"Tata to launch EV next year\". Just-auto.com. 14 October 2008. Archived from the original on 29 March 2009. Retrieved 2 May 2009.\\n\\n^ \"Tata Nexon EV - India\\'s Own Electric Compact SUV Powered by Ziptron\". Tata Nexon EV - India\\'s Own Electric Compact SUV Powered by Ziptron. Retrieved 28 July 2020.\\n\\n^ \"Tata Nexon EV was India\\'s best-selling electric car in April 2021\". www.timesnownews.com. 20 May 2021. Retrieved 25 June 2021.\\n\\n^ \"Archived copy\". Archived from the original on 8 January 2016. Retrieved 28 June 2015.{{cite web}}:  CS1 maint: archived copy as title (link)\\n\\n^ \"Punch.ev\". ev.tatamotors.com. Retrieved 22 January 2024.\\n\\n^ \"TATA Motors EV\". ev.tatamotors.com. Retrieved 22 January 2024.\\n\\n^ \"Tata Manza [2011-2015] - Manza [2011-2015] Price, Specs, Images, Colours\". www.cartrade.com. Retrieved 28 February 2024.\\n\\n^ \"Tata Nano safety under scrutiny after dire crash test results\". Guardian. 31 January 2014. Retrieved 9 September 2017.\\n\\n^ \"Tata Nano falls short of global crash test standards â€“ video\". Guardian. 31 January 2014. Retrieved 9 September 2017.\\n\\n^ \"Air Asia Case Puts Spotlight Once Again on Cyrus Mistry\\'s \\'Legacy Hotspots\\'\". The Wire. Archived from the original on 9 July 2018. Retrieved 5 June 2018.\\n\\n^ \"Autoline - A Stamp of Perfection\". 9 February 2008. Archived from the original on 9 February 2008. Retrieved 27 September 2017.\\n\\n^ \"tatamotors\". Tatamotors. 14 March 2012. Archived from the original on 9 February 2008. Retrieved 8 August 2012.\\n\\n^ \"Autoline\". 9 February 2008. Archived from the original on 9 February 2008. Retrieved 11 October 2010.\\n\\n^ \"TATA Motors Annual Report 2011â€“2012\". Tatamotors.com. Archived from the original on 8 January 2016. Retrieved 28 June 2015.\\n\\n^ \"Tata Light Commercial Vehicles\". Tata Motors.\\n\\n^ \"2019 Tata Harrier launched in India, priced at Rs 12.69 lakh\". Archived from the original on 21 March 2019. Retrieved 21 March 2019.\\n\\n^ \"OMEGA-Arc: What defines Tata Harrier is the platform, here\\'s how it\\'s different\". The Financial Express. 12 December 2020. Retrieved 12 January 2021.\\n\\n^ \"Tata confirms Harrier petrol\". Autocar India. Retrieved 12 January 2021.\\n\\n^ Dhingra, Mayank (21 September 2017). \"Tata Motors launches Nexon compact SUV at Rs 585,000\". Autocar Professional India. Retrieved 5 March 2021.\\n\\n^ \"Tata Nexon EV debuts with 300 km range\". autocarindia.com. Retrieved 8 March 2021.\\n\\n^ \"Tata Nexon EV Review\". news18. 17 January 2021. Retrieved 17 January 2021.\\n\\n^ \"India\\'s Tata Motors jumps on plans to split into two listed firms\". Reuters. 5 March 2024. Retrieved 6 March 2024.\\n\\n^ \"Explained: What Tata Motors\\' demerger plan means for the company and its shareholders\". Indian Express. 5 March 2024. Retrieved 6 March 2024.\\n\\n^ \"Tata Motors stock check: How does the demerger impact its fundamental and technical outlook for long-term\". Livemint. Retrieved 6 March 2024.\\n\\n\\nExternal links[edit]\\n\\n\\nOfficial website\\n\\n\\n\\n\\n\\n\\n\\n\\n')]"
      ]
     },
     "execution_count": 5,
     "metadata": {},
     "output_type": "execute_result"
    }
   ],
   "source": [
    "data "
   ]
  },
  {
   "cell_type": "code",
   "execution_count": 6,
   "id": "fbe331ed-5baa-4f42-8e12-8f3592877b99",
   "metadata": {},
   "outputs": [
    {
     "data": {
      "text/plain": [
       "list"
      ]
     },
     "execution_count": 6,
     "metadata": {},
     "output_type": "execute_result"
    }
   ],
   "source": [
    "type(data)"
   ]
  },
  {
   "cell_type": "code",
   "execution_count": 7,
   "id": "879beeb4-6de2-4bdf-a545-18b4b2d1efe5",
   "metadata": {},
   "outputs": [
    {
     "data": {
      "text/plain": [
       "1"
      ]
     },
     "execution_count": 7,
     "metadata": {},
     "output_type": "execute_result"
    }
   ],
   "source": [
    "len(data)"
   ]
  },
  {
   "cell_type": "code",
   "execution_count": 8,
   "id": "f2abb979-0271-45b0-825c-a42937fe8929",
   "metadata": {},
   "outputs": [
    {
     "data": {
      "text/plain": [
       "Document(metadata={'source': 'Tata_Motors.txt'}, page_content='Tata Motors\\n\\n\\n\\nTata Motors LimitedHeadquarters in MumbaiFormerlyTata Engineering and Locomotive Company Ltd. (TELCO)Company typePublicTraded asBSE:Â\\xa0500570NSE:Â\\xa0TATAMOTORSBSE SENSEX constituentNSE NIFTY 50 constituentISININ9155A01020IndustryAutomotiveFounded1945; 79Â\\xa0years agoFounderJ. R. D. TataHeadquartersMumbai, Maharashtra, India[1]Area servedWorldwideKey peopleNatarajan Chandrasekaran  (Chairman)P. B. Balaji (CFO)[2]ProductsAutomobilesLuxury vehiclesCommercial vehiclesAutomotive partsPickup trucksSUVsProduction output1.1 million (2021)ServicesAutomotive financeVehicle leasingVehicle serviceRevenue â‚¹443,877 crore (US$53Â\\xa0billion) (2024)[3]Operating income â‚¹28,232 crore (US$3.4Â\\xa0billion) (2024)[3]Net income â‚¹31,806 crore (US$3.8Â\\xa0billion) (2024)[3]Total assets â‚¹370,663 crore (US$44Â\\xa0billion) (2024)[4]Total equity â‚¹93,093 crore (US$11Â\\xa0billion) (2024)[4]Number of employees91,811 (2024)[5]ParentTata GroupSubsidiaries\\nTata Motors Cars\\nJaguar Land Rover\\nTata Daewoo\\nTata Marcopolo\\nTata Technologies\\nTata Hispano\\nTata Hitachi Construction Machinery\\nRatingS&P BB/Stable[6]Websitetatamotors.com\\nTata Motors Limited is an Indian multinational automotive company, headquartered in Mumbai and part of the Tata Group. The company produces cars, trucks, vans, and buses.[7]\\nSubsidiaries include British Jaguar Land Rover and South Korean Tata Daewoo. Tata Motors has joint ventures with Hitachi (Tata Hitachi Construction Machinery) and Stellantis, which makes vehicle parts for Fiat Chrysler and Tata-branded vehicles.\\nTata Motors has auto manufacturing and vehicle plants in Jamshedpur, Pantnagar, Lucknow, Sanand, Dharwad, and Pune in India, as well as in Argentina, South Africa, the United Kingdom, and Thailand. It has research and development centers in Pune, Jamshedpur, Lucknow, Dharwad, India and South Korea, the United Kingdom, and Spain. Tata Motors is listed on the BSE and NSE, and is a constituent of the BSE SENSEX and NIFTY 50 benchmark indices. The company is ranked 265th on the Fortune Global 500 list of the world\\'s biggest corporations as of 2019.[8]\\nOn 17 January 2017, Natarajan Chandrasekaran was appointed chairman of the company Tata Group. Tata Motors increased its UV market share to over 8% in FY2019.[9]\\n\\n\\nHistory[edit]\\nTata Sierra (1991-2000)\\nTata Sumo (1994â€“2019)\\nTata Motors was founded in 1945, as a locomotive manufacturer. Tata Group entered the commercial vehicle sector in 1954 after forming a joint venture with Daimler-Benz of Germany in which Tata developed a manufacturing facility in Jamshedpur for Daimler lorries.[10] By November 1954 Tata and Daimler manufactured their first goods carrier chassis at their Jamshedpur plant with 90-100Â\\xa0hp and capacity of 3-5 tons.[11] After years of dominating the commercial vehicle market in India, Tata Motors entered the passenger vehicle market in 1991 by launching the Tata Sierra, a sport utility vehicle based on the Tata Mobile platform. Tata subsequently launched the Tata Estate (1992; a station wagon design based on the earlier Tata Mobile), the Tata Sumo (1994, a 5-door SUV) and the Tata Safari (1998).[citation needed]\\n\\nTata Indica (first generation)\\nTata launched the Indica in 1998. A newer version of the car, named Indica V2, later appeared. Tata Motors also exported cars to South Africa.[12]\\nIn the 2000s, Tata Motors made a series of acquisitions and partnerships, acquiring Daewoo\\'s South Korea-based truck manufacturing unit,[13] a joint venture with the Brazil-based Marcopolo, Tata Marcopolo Bus,[14] Jaguar Land Rover.,[15][16][17][18] Hispano Carrocera,[19] and an 80% stake in the Italian design and engineering company Trilix.[20]\\nOn 12 October 2021, private equity firm TPG invested $1 billion in Tata Motors\\' electric vehicle subsidiary.[21]\\n\\nOperations[edit]\\nTata Motors has vehicle assembly operations in India, the United Kingdom, South Korea, Thailand, Spain, and South Africa. It plans to establish plants in Turkey, Indonesia, and Eastern Europe.\\n\\nTata Motors Cars[edit]\\n\\nTata Motors Cars is a division of Tata Motors which produces passenger cars under the Tata Motors hood. Tata Motors is among the top five passenger vehicle brands in India with products in the compact, midsize car, and utility vehicle segments.[22] The company\\'s manufacturing base in India is spread across Jamshedpur (Jharkhand), Pune (Maharashtra), Lucknow (Uttar Pradesh), Pantnagar (Uttarakhand), Dharwad (Karnataka) and Sanand (Gujarat). Tata\\'s dealership, sales, service, and spare parts network comprise over 3,500 touchpoints.[22] Tata Motors has more than 250 dealerships in more than 195 cities across 27 states and four Union Territories of India.[23] It has the third-largest sales and service network after Maruti Suzuki and Hyundai.\\nTata also has franchisee/joint venture assembly operations in Kenya, Bangladesh, Ukraine, Russia, and Senegal.[24] Tata has dealerships in 26 countries across 4 continents.[25] Tata is present in many countries, it has managed to create a large consumer base in the Indian subcontinent, namely India, Bangladesh, Bhutan, Sri Lanka and Nepal. Tata is also present in Italy,[26] Spain,[27] Poland,[28] Romania,[29] Turkey,[30] Chile,[31] South Africa,[32] Oman, Kuwait, Qatar, Saudi Arabia, United Arab Emirates, Bahrain, Iraq, Syria and Australia.\\n\\nTata Daewoo[edit]\\n\\nTata LPT Trucks made at overseas plantsTata Daewoo (officially Tata Daewoo Commercial Vehicle Company and formerly Daewoo Commercial Vehicle Company) is a commercial vehicle manufacturer headquartered in Gunsan, Jeollabuk-do South Korea, and a wholly owned subsidiary of Tata Motors. It is the second-largest heavy commercial vehicle manufacturer in South Korea and was acquired by Tata Motors in 2004. The principal reasons behind the acquisition were to reduce Tata\\'s dependence on the Indian commercial vehicle market (which was responsible for around 94% of its sales in the MHCV segment and around 84% in the light commercial vehicle segment) and expand its product portfolio by leveraging on Daewoo\\'s strengths in the heavy-tonnage sector.\\nTata Motors has jointly worked with Tata Daewoo to develop trucks such as Novus and World Truck and buses including GloBus and StarBus. In 2012, Tata began developing a new line to manufacture competitive and fuel-efficient commercial vehicles to face the competition posed by the entry of international brands such as Mercedes-Benz, Volvo, and Navistar into the Indian market.[33]\\n\\nTata Hispano[edit]\\n\\nTata Hispano Motors Carrocera, S.A. was a bus and coach manufacturer based in Zaragoza, Aragon, Spain, and a wholly owned subsidiary of Tata Motors. Tata Hispano has plants in Zaragoza, Spain, and Casablanca, Morocco. Tata Motors first acquired a 21% stake in Hispano Carrocera SA in 2005,[34] and purchased the remaining 79% for an undisclosed sum in 2009, making it a fully owned subsidiary, subsequently renamed Tata Hispano. In 2013, Tata Hispano ceased production at its Zaragoza plant.[35][36]\\n\\nTML Drivelines[edit]\\nTML Drivelines Ltd. is a wholly owned subsidiary of Tata Motors engaged in the manufacture of gearboxes and axles for heavy and medium commercial vehicles. It has production facilities at Jamshedpur and Lucknow.  TML Forge division is also a recent acquisition of TML Drivelines. TML Drivelines was formed through the merger of HV Transmission  and HV Axles.\\n\\nTata Technologies[edit]\\nTata Technologies Limited (TTL) is a 43%-owned subsidiary of Tata Motors which provides design, engineering, and business process outsourcing services to the automotive industry. It is headquartered in Pune\\'s Hinjawadi business district and also has operations in London, Detroit and Thailand. Its clients include Ford, General Motors, Honda, and Toyota.\\nThe British engineering and design services company Incat International, which specialises in engineering and design services and product lifecycle management in the automotive, aerospace, and engineering sectors, is a wholly owned subsidiary of TTL. It was acquired by TTL in August 2005 for â‚¹4 billion.\\nIn 2017, TAL, a subsidiary of Tata Motors, manufactured India\\'s first industrial articulated robot for micro, small, and medium enterprises.[36]\\n\\nEuropean Technical Centre[edit]\\nThe Tata Motors European Technical Centre (TMETC) is an automotive design, engineering, and research company based at WMG, University of Warwick on the campus of the University of Warwick in England. It was established in 2005 and is a wholly owned subsidiary of Tata Motors. It was the joint developer of the World Truck.[37]\\nIn September 2013, it was announced that a new National Automotive Innovation Campus would be built at WMG at Warwick\\'s main campus at a cost of Â£100 million.[38][39] The initiative will be a partnership between Tata Motors, the university, and Jaguar Land Rover, with Â£30 million in funding coming from Tata Motors.[40]\\n\\nSubsidiaries[edit]\\nJaguar Land Rover[edit]\\nRange Rover (L405)\\n\\nLand Rover Defender\\nJaguar Land Rover PLC is a premium British automaker headquartered in Whitley, Coventry, United Kingdom, and has been a wholly owned subsidiary of Tata Motors since June 2008, when it was acquired from Ford Motor Company of USA.[41] Its principal activity is the development, manufacture and sale of Jaguar luxury and sports cars and Land Rover premium four-wheel-drive vehicles.\\nJaguar Land Rover has two design centres and three assembly plants in the United Kingdom. Under Tata ownership, Jaguar Land Rover has launched new vehicles including the Range Rover Evoque, Jaguar F-Type, the Jaguar XE, the Jaguar XJ (X351), the second-generation Range Rover Sport, and Jaguar XF, the fourth-generation Land Rover Discovery, Range Rover Velar  and the Range Rover (L405).\\n\\nLand Rover Discovery Sport\\nJD Power, of the US, rates Land Rover and Jaguar as the two worst brands for initial quality.\\n[42] The Jaguar F-Pace made Consumer Reports February 2019 list of the 10 Least Reliable Cars. The editors cited \"electronics, drive system, power equipment, noises and leaks\" as problematic aspects.[43]\\nThe Jaguar Land Rover subsidiary was struggling by 2019 and Tata Motors wrote down its investment in JLR by $3.9 billion. Much of the financial problem was due to a 50% drop in sales in China during 2019, although the situation was improving. Still, Tata was open to considering a partnership with another company according to a statement in mid-October, as long as the partnership agreement would allow Tata to maintain control of the business. The company ruled out the possibility of a sale of JLR to another entity.[44]\\nIn July 2023, Tata announced its plans to invest Â£4 billion to build an electric car battery factory in the UK, which will be one of the largest of its kind in Europe.[45][46][47] The factory will be the company\\'s first battery production facility outside India.[47] Located in Bridgwater, Somerset, the factory will supply Jaguar Land Rover\\'s future battery electric models, including the Range Rover, Defender, Discovery and Jaguar brands, with the potential to also supply other car manufacturers.[36] Production at the new facility is due to start in 2026.\\n\\nJoint ventures[edit]\\nTata Marcopolo[edit]\\n\\nA Tata Marcopolo bus in use in Chandigarh, India\\nTata Marcopolo is a bus-manufacturing joint venture between Tata Motors (51%) and the Brazil-based Marcopolo S.A. (49%). The joint venture manufactures and assembles fully built buses and coaches targeted at developing mass rapid transportation systems. It uses technology and expertise in chassis and aggregates from Tata Motors, and know-how in processes and systems for bodybuilding and bus body design from Marcopolo. Tata Marcopolo has launched a low-floor city bus which is widely used by transport corporations in many Indian cities. Its manufacturing facility is based in Dharwad, Karnataka State, India and Lucknow, India.\\nTata Motors is expected to buy the 49% stake held by its partner Marcopolo in the bus-making joint venture for â‚¹100 crore by February 2021. The subsidiary will continue with the â€˜Marcopoloâ€™ trademark for a minimum of three years with a non-compete provision in India for a corresponding period.[48]\\n\\nFiat-Tata[edit]\\nFiat-Tata is an India-based joint venture between Tata and Stellantis\\' Fiat which produces Fiat and Tata branded passenger cars, as well as engines and transmissions. Tata Motors has gained access to Fiat\\'s diesel engine and transmission technology through the joint venture.[49]\\nThe two companies formerly also had a distribution joint venture through which Fiat products were sold in India through joint Tata-Fiat dealerships. This distribution arrangement was ended in March 2013; Fiats have since been distributed in India by Fiat Automobiles India Limited, a wholly owned subsidiary of Fiat[50][51] and now Tata Motors.\\n\\nTata Hitachi Construction Machinery[edit]\\n\\nTata Hitachi Construction Machinery is a joint venture between Tata Motors and Hitachi which manufactures excavators and other construction equipment.[citation needed] It was previously known as Telcon Construction Solutions.[citation needed]\\n\\nTata Motors European Technical Centre[edit]\\nThe TATA Motors European Technical Centre is an automotive design, engineering, and research company.[citation needed] Company based at WMG, University of Warwick in the United Kingdom.[citation needed] It was established in 2005 and is wholly owned subsidiary of Tata Motors. It was the joint developer of the World Truck.[citation needed] In September 2013 it was announced that a new National Automotive Innovative Campus would be built at WMG at Warwick\\'s main campus at a cost of 92 million pounds.[52] The initiative will be a partnership between Tata Motors, the university, and Jaguar Land Rover, with the 30 million pounds in funding coming from Tata Motors.[53]\\n\\nHyundai-Tata[edit]\\nTata Motors and Hyundai are in a joint venture to provide  the automatic transmission for Tata Safari & Tata Harrier model.[54]\\n\\nProducts[edit]\\nFor details of Land Rover and Jaguar products, see Jaguar Land Rover.\\n\\nPassenger vehicles[edit]\\n\\nCurrent Models[edit]\\n\\n\\nModel\\n\\nYear of Introduction\\n\\n\\nHatchback\\n\\n\\nTata Tiago\\n\\n2016[55]\\n\\n\\nTata Altroz\\n\\n2020\\n\\n\\nSedan\\n\\n\\nTata Tigor\\n\\n2016\\n\\n\\nSUV/Crossover\\n\\n\\nTata Punch\\n\\n2021\\n\\n\\nTata Nexon\\n\\n2017\\n\\n\\nTata Harrier\\n\\n2018\\n\\n\\nTata Safari\\n\\n2021\\n\\n\\nElectric\\n\\n\\nTata Nexon EV\\n\\n2020\\n\\n\\nTata Tigor EV\\n\\n2021\\n\\n\\nTata Tiago EV\\n\\n2022\\n\\n\\nTata Punch EV\\n\\n2023\\n\\nCommercial vehicles[edit]\\nTata Ace\\nTata Ace Zip\\nTata Ace EV\\nTata Super Ace\\nTata Intra\\nTata Intra V10\\nTata Intra V20\\nTata Intra V30\\nTata Intra V50\\nTata Xenon XT\\nTata Yodha\\nTata Ace Mega\\nTata Iris\\nTata TL/Telcoline/207 Pick-up truck\\nTata 407 Ex and Ex2\\nTata 709 Ex\\nTata 807 (Steel cabin chassis, cowl chassis, medium bus chassis, steel cabin + steel body chassis)\\nTata 809 Ex and Ex2\\nTata 909 Ex and Ex2\\nTata 1210 SE and SFC (Semi Forward)\\nTata 1210 LP (Long Plate)\\nTata 1109 (Intermediate truck/ LCV bus)\\nTata 1512c (Medium bus chassis)\\nTata 1515c/1615 (Medium bus chassis)\\nTata 1612c/1616c/1618c (Heavy bus chassis)\\nTata 1618 (Semilow-floor bus chassis)\\nTata 1623 (Rear-engined low-floor bus chassis)\\nTata 1518C (Medium truck) 10 ton\\nTata 1613/1615c (Medium truck)\\nTata 1616/1618c (Heavy duty truck)\\nTata 2515c/2516c/2518c (Heavy duty 10-wheeler truck)\\nTata Starbus (Branded buses for city, intercity, school bus, and standard passenger transportation)\\nTata Divo (Hispano Divo)\\nTata CityRide (12- to 20-seater buses for intracity use)\\nTata 3015 (Heavy truck)\\nTata 3118 (Heavy truck) (8Ã—2)\\nTata 3516 (Heavy truck)\\nTata 4018 (Heavy truck)\\nTata 4923 (Ultraheavy truck) (6Ã—4)\\nTata Novus\\nTata Prima\\nTata SIGNA series\\nTata Ultra series (ICV Segment)\\nTata Winger - (Maxivan)\\nElectric vehicles[edit]\\nTata Motors has unveiled electric versions of the Tata Indica passenger car powered by TM4 electric motors and inverters,[56] as well as the Tata Ace commercial vehicle, both of which run on lithium batteries which launched in 2022.\\nIn 2008 Tata Motors\\' UK subsidiary, Tata Motors European Technical Centre, bought a 50.3% holding in electric vehicle technology firm MiljÃ¸bil Grenland/Innovasjon of Norway for US$1.93 million, and planned to launch the electric Indica hatchback in Europe the following year.[57][58][59] In September 2010, Tata Motors presented four CNGâ€“Electric Hybrid low-floored Starbuses to the Delhi Transport Corporation, to be used during the 2010 Commonwealth Games. These were the first environmentally friendly buses to be used for public transportation in India.\\nIn December 2019, Tata Motors unveiled the Nexon EV, an SUV with a 30.2KWh lithium-ion battery and a consistent range of 312Â\\xa0km on a single charge. It is also equipped with fast charging technology, which can charge the vehicle from 0% - 80% in 60 minutes.[60] With 525 units of Nexon EV sold in India last month, Tata Nexon EV[61] was the best-selling electric car in the month of April 2021 in India.\\nTata Passenger Electric Mobility is a subsidiary which produces electric cars under the brand name Tata Motors.[62]\\nList of Tata electric vehicles:\\n\\nTata Nexon EV\\nTata Tigor EV\\nTata Altroz EV\\nTata Tiago EV\\nTata Ace EV\\nTata Punch EV[63]\\nElectric Vehicle Concepts[edit]\\nTata Curvv\\nTata Avinya\\nTata EVision\\nHarrier.ev\\nSierra.ev[64]\\nDiscontinued Models[edit]\\nTata Telcoline (1988â€“2010)\\nTata Sierra (1991â€“2003)\\nTata Estate (1992â€“2000)\\nTata Sumo (1994â€“2019)\\nTata Indica (1998â€“2015)\\nTata Spacio (2000-2011)\\nTata Indigo (2002â€“2015)\\nTata Indigo Marina (2006â€“2009)\\nTata Xenon (2007â€“2018)\\nTata Sumo Grande (2008â€“2016)\\nTata Vista (2008â€“2015)\\nTata Nano (2008â€“2018)\\nTata Manza (2011â€“2016)[65]\\nTata Venture (2010â€“2017)\\nTata Aria (2010â€“2017)\\nTata Zest (2014â€“2020)\\nTata Bolt (2014â€“2019)\\nTata Hexa (2017â€“2020)\\nNotable vehicles[edit]\\nTata Nano[edit]\\n\\nTata Nano is often cited as the world\\'s most affordable car\\nThe Nano was launched in 2009 as a city car intended to appeal as an affordable alternative to the section of the Indian populace that is primarily the owner of motorcycles and has not bought their first car. Initially priced at â‚¹100,000 (US$1,500), the vehicle attracted a lot of attention for its relatively low price. However, the Nano was very poorly rated for safety[66][67] and in 2018, Cyrus Mistry, chairman of the Tata Group, called the Tata Nano a failed project, with production ending in May 2018.[68]\\n\\nTata Ace[edit]\\n\\nTata Super Ace\\nTata Ace, India\\'s first indigenously developed sub-one-ton minitruck, was launched in May 2005. The minitruck was a huge success in India with auto analysts claiming that Ace had changed the dynamics of the light commercial vehicle  (LCV) market in the country by creating a new market segment termed the small commercial vehicle  segment. Ace rapidly emerged as the first choice for transporters and single truck owners for city and rural transport.\\nBy October 2005, LCV sales of Tata Motors had grown by 36.6% to 28,537 units due to the rising demand for Ace. The Ace was built with a load body produced by Autoline Industries.[69]\\nBy 2005, Autoline was producing 300 load bodies per day for Tata Motors. Ace is still a top seller for TML with 500,000 units sold by June 2010.[70] In 2011, Tata Motors invested Rs 1000 crore in Dharwad Plant, Karnataka, with the capacity of 90,000 units annually and launched two models of 0.5-T capacity as Tata Ace Zip, Magic Iris.[71] Ace has also been exported to several Asian, European, South American, and African countries and all-electric models are sold through Polaris Industries\\' Global Electric Motorcars division. In Sri Lanka, it is sold through Diesel & Motor Engineering (DIMO) PLC under the name of DIMO Batta.\\n\\nTata Prima[edit]\\n\\nA Tata Prima 4928.S in Assam, India\\nTata Prima is a range of heavy trucks first introduced in 2008 as the company\\'s \\'global\\' truck. Tata Prima was the winner of the \\'Commercial Vehicle of the Year\\' at the Apollo Commercial Vehicles Awards, 2010 and 2012.\\n\\nTata 407[edit]\\n\\nA Tata 407 being used as water truck\\nThe Tata 407 is a light commercial vehicle (LCV) that has sold over 500,000 units since its launch in 1986.[72] In India, this vehicle dominates market share of the LCV category, accounting for close to 75% of LCV sales. The 407 model range includes trucks, tippers, pick-ups and vehicles for agri/food products, construction, light mining and services.[73]\\n\\nTata Harrier[edit]\\n\\nTata Harrier\\nTata Harrier is a 5-seater SUV that rivals the MG Hector and Jeep Compass. This car uses the engine from Fiat which is a 2.0 L-4 cylinder turbocharged diesel motor and transmission from Hyundai which is a 6-speed, available in both manual and automatic. Tata Harrier is derived from the H5X Concept displayed at the 2018 Auto Expo. It was launched on 23 January 2019.[74]\\nThe car is a C-segment crossover SUV based on the OmegaArc platform, an essentially re-engineered version of the Jaguar Land Rover D8 platform.[75] A petrol variant of the Harrier is confirmed to launch in 2022â€“23.[76]\\nTata Harrier is also available in Nepal with the name H5.\\n\\nTata Nexon[edit]\\n\\nTata Nexon\\nThe Tata Nexon is a subcompact crossover SUV produced by Tata Motors since 2017. It is the first crossover SUV from Tata Motors, and occupies the sub-4 metre crossover SUV segment in India.[77] The electric version of the Nexon was revealed on 19 December 2019. The Nexon EV uses components from Tata Motors\\' electric vehicle technology brand Ziptron. The electric motor produces 94.7Â\\xa0kW (127Â\\xa0hp; 129Â\\xa0PS) and 245Â\\xa0Nâ‹…m (181Â\\xa0lbfâ‹…ft) of torque and 0 - 100 under 9.9 seconds. It has a 30.2 kWh battery with an ARAI rated range of up to 312Â\\xa0km.[78]\\nThe battery can be fully charged in under 8 hours using a complimentary AC charger. It can also be charged using a 15-ampere power cable that can be used at any place with the necessary power socket. DC 25Â\\xa0kW fast charging can be used to charge the battery from 0 to 80% in 1 hour.[79]\\n\\nRestructuring[edit]\\nIn March 2024, Tata Motors announced plans to undergo a significant restructuring by splitting into two separate listed entities. This strategic move aims to enhance operational efficiencies and focus on distinct business segments. The demerger is expected to allow each entity to pursue tailored growth strategies and attract specific investor bases. The announcement was well-received by the market, with Tata Motors\\' stock experiencing a notable jump following the news.[80][81][82]\\n\\nSee also[edit]\\nList of companies of India\\nList of largest companies by revenue\\nList of corporations by market capitalisation\\nMake in India\\nForbes Global 2000\\nFortune India 500\\nAutomotive industry in India\\nTata Revotron engine\\nReferences[edit]\\n\\n^ \"Contact Us - Tata Motors Limited\". www.tatamotors.com. 14 October 2015. Archived from the original on 4 May 2019. Retrieved 30 July 2018.\\n\\n^ \"Tata Motors Ltd\". Reuters. Retrieved 19 May 2024.\\n\\n^ Jump up to: a b c \"Tata Motors Ltd. Financial Statements\" (PDF). bseindia.com.\\n\\n^ Jump up to: a b \"Tata Motors Consolidated Balance Sheet, Tata Motors Financial Statement & Accounts\" (PDF). www.bseindia.com.\\n\\n^ \"Tata Motors\" (PDF). Tata Motors. May 2022. Retrieved 1 June 2024. Employees: 50,837\\n\\n^ cite news|url=https://www.business-standard.com/amp/companies/news/s-p-upgrades-tata-motors-long-term-issuer-issue-credit-ratings-to-bb-123042600194_1.html%7Cwebsite=business-standard.com\\n\\n^ \"Financials of Tata Motors Limited\". CNN. Archived from the original on 16 October 2013.\\n\\n^ \"Fortune Global 500 list\". Archived from the original on 7 August 2019. Retrieved 18 October 2019.\\n\\n^ \"Tata Motors Market Share\". Auto Car Professional. Retrieved 2 April 2019.\\n\\n^ \"More Special A Licences Granted | 12th March 1954 | The Commercial Motor Archive\". archive.commercialmotor.com. Retrieved 30 May 2023.\\n\\n^ \"Government Viewâ€¢ On RoadsÂ\\xa0: Big Extension of Construction? | 12th November 1954 | The Commercial Motor Archive\". archive.commercialmotor.com. Retrieved 30 May 2023.\\n\\n^ \"Tata Milestones\". Archived from the original on 6 December 2010. Retrieved 22 March 2009.\\n\\n^ \"Tata Motors completes acquisition of Daewoo Commercial Vehicle Company\". Tata Motors. Archived from the original on 8 February 2010. Retrieved 7 October 2010.\\n\\n^ \"Tata Motors, Brazil co form joint venture\". The Hindu Business Line. Archived from the original on 10 October 2010. Retrieved 7 October 2010.\\n\\n^ \"Ford Motor Company Announces Agreement to Sell Jaguar Land Rover to Tata Motors\" (Press release). Ford Motor Company. 26 March 2008. Archived from the original on 12 June 2008. Retrieved 27 March 2008.\\n\\n^ \"Tata Motors enters into Definitive Agreement with Ford for purchase of Jaguar Land Rover\" (Press release). Tata Motors. 26 March 2008. Archived from the original on 5 December 2010. Retrieved 27 March 2008.\\n\\n^ Lewin, Tony (27 March 2008). \"Classic names are part of Tata deal\". Automotive News. Crain Communications. Archived from the original on 28 March 2008. Retrieved 18 May 2008.\\n\\n^ \"Tata Motors completes acquisition of Jag, Land Rover\". Thomson Reuters. 2 June 2008. Archived from the original on 29 December 2008. Retrieved 2 June 2008.\\n\\n^ \"Tata Motors acquires control of Hispano Carrocera\". Business-Standard. 20 October 2009. Archived from the original on 21 April 2010. Retrieved 20 October 2011.\\n\\n^ \"Tata Motors acquires 80% stake in Italy\\'s Trilix\". Money Control. Archived from the original on 10 October 2010. Retrieved 7 October 2010.\\n\\n^ Barman, Arijit (12 October 2021). \"TPG - Tata Motors: TPG drives into Tata Motors EV business with $1 billion investment\". The Economic Times. Retrieved 13 October 2021.\\n\\n^ Jump up to: a b \"Tata Motors\". Tata Motors. Archived from the original on 11 January 2011. Retrieved 4 June 2009.\\n\\n^ \"Booking Center Locator\". tatanano.inservices.tatamotors.com. Archived from the original on 25 March 2009. Retrieved 15 January 2022.\\n\\n^ \"Tata Motors InternationalÂ\\xa0: CompanyÂ\\xa0: Profile\". Tatacarsworldwide.com. Archived from the original on 4 March 2009. Retrieved 4 June 2009.\\n\\n^ \"Tata Motors InternationalÂ\\xa0: Global Network\". Tatacarsworldwide.com. Archived from the original on 15 July 2009. Retrieved 4 June 2009.\\n\\n^ \"Tata Motors -\". Tata Motors. Archived from the original on 27 May 2017. Retrieved 27 September 2017.\\n\\n^ \"Tata Motors EspaÃ±a. Coches Tata - Coches Nuevos y Nuevas Ofertas de Tata\". Tatamotors.es. Archived from the original on 11 October 2007. Retrieved 28 June 2015.\\n\\n^ \"Start - sklep internetowy Tata Motors POLSKA\". tatamotor.com.pl. Archived from the original on 28 September 2017. Retrieved 27 September 2017.\\n\\n^ \"Davossi\". Davossi.ro. Archived from the original on 1 August 2015. Retrieved 28 June 2015.\\n\\n^ \"Tata TÃ¼rkÄ±ye\". Tata.com.tr. Archived from the original on 12 January 2008. Retrieved 28 June 2015.\\n\\n^ \"Tata Motors\". Tata-motors.cl. Archived from the original on 9 August 2011. Retrieved 28 June 2015.\\n\\n^ \"Tata Homepage - Tata South Africa\". Tata.co.za. Archived from the original on 26 June 2015. Retrieved 28 June 2015.\\n\\n^ \"Tatas readying new line of CVs to take on competition\". 14 July 2012. Archived from the original on 17 July 2012. Retrieved 14 July 2012.\\n\\n^ \"Hispano\". Hispano-net.com. Archived from the original on 28 September 2010. Retrieved 11 October 2010.\\n\\n^ \"Media - Tata Motors Limited\". 10 September 2015. Archived from the original on 28 September 2017. Retrieved 27 September 2017.\\n\\n^ Jump up to: a b c Mondal, Manisha. \"Robotic hand rocks manufacturing cradle\". The Hindu. Retrieved 11 April 2017.\\n\\n^ \"Tata Motors Unveils New Range Of Trucks\". Motorbeam.com. 29 May 2009. Archived from the original on 1 June 2009. Retrieved 4 June 2009.\\n\\n^ \"Â£100m investment boost for Warwick University\". The Independent. 25 September 2013. Archived from the original on 29 September 2013. Retrieved 29 September 2013.\\n\\n^ \"University of Warwick Â£100m car centre \\'will secure jobs\\'\". BBC. 24 September 2013. Archived from the original on 28 September 2013. Retrieved 29 September 2013.\\n\\n^ \"Tata Motors confirms Â£30m investment in UK R&D centre\". The Engineer. 3 December 2013. Archived from the original on 29 November 2014. Retrieved 27 February 2014.\\n\\n^ Rutherford, Mike (29 March 2008). \"Mike Rutherford ponders Tata\\'s takeover of Land Rover and Jaguar\". The Daily Telegraph. Archived from the original on 8 April 2008. Retrieved 30 July 2008.\\n\\n^ McIntyre, Douglas A. (24 June 2019). \"And the Worst New Car Sold in America Isâ€¦\". MSN. Microsoft News. Retrieved 25 June 2019.\\n\\n^ Linkov, Jon; Elek, Steven (18 November 2021). \"10 Least Reliable Cars\". Consumer Reports. Archived from the original on 7 October 2019.\\n\\n^ Trudell, Craig; Coppola, Gabrielle; Kotoky, Anurag (15 October 2019). \"Tata Looks for Jaguar Land Rover Partners, but Rules Out Sale\". Bloomberg. Archived from the original on 17 October 2019.\\n\\n^ \"Tata Group confirms plans to build gigafactory for batteries in the UK\". Sky News. Retrieved 20 July 2023.\\n\\n^ Ralph, Alex (20 July 2023). \"Tata to build Â£4bn gigafactory in Somerset\". The Times. ISSNÂ\\xa00140-0460. Retrieved 20 July 2023.\\n\\n^ Jump up to: a b \"Tata confirms Somerset will host Â£4bn battery factory\". BBC News. 28 February 2024. Retrieved 28 February 2024.\\n\\n^ \"Tata Motors To Buy Remaining 49% Share In Tata Marcopolo Motors For Nearly â‚¹ 100 Crore\". Retrieved 23 December 2020.\\n\\n^ \"Fiat, Tata Motors set up joint venture\". timesofmalta.com. 21 October 2007. Archived from the original on 18 November 2007. Retrieved 1 April 2008.\\n\\n^ \"Fiat to complete split from Tata in sales ops by Mar 2013\". Business Standard. 19 September 2012. Archived from the original on 12 January 2014. Retrieved 12 January 2014.\\n\\n^ \"After split with Tata Motors, Fiat begins its solo India ride\". The Economic Times. 11 April 2013. Archived from the original on 12 January 2014. Retrieved 12 January 2014.\\n\\n^ \"Â£92 million National Automotive Innovation Campus to be built at University of Warwick\". warwick.ac.uk. Retrieved 6 October 2020.\\n\\n^ \"Tata Motors European technical centre demonstrates latest mobility technology on the Tata HEXA\". Automotive World. Archived from the original on 10 January 2019. Retrieved 9 January 2018.\\n\\n^ \"How Good Is All New Tata Safari 2023\". Motorlane. 12 November 2023.\\n\\n^ www.ETAuto.com. \"Tata Tiago to be launched on April 6 - ET Auto\". ETAuto.com. Retrieved 27 February 2024.\\n\\n^ \"Customers\". TM4. Archived from the original on 30 June 2015. Retrieved 28 June 2015.\\n\\n^ \"TMETC acquires 50.3 per cent stake in Norway\\'s Miljo Grenland/Innovasjon; to launch first electric vehicle\". Tata.com. 14 October 2008. Archived from the original on 30 July 2013. Retrieved 2 May 2009.\\n\\n^ \"Tata Motors European Technical Centre\". Tata.com. Archived from the original on 24 January 2009. Retrieved 2 May 2009.\\n\\n^ \"Tata to launch EV next year\". Just-auto.com. 14 October 2008. Archived from the original on 29 March 2009. Retrieved 2 May 2009.\\n\\n^ \"Tata Nexon EV - India\\'s Own Electric Compact SUV Powered by Ziptron\". Tata Nexon EV - India\\'s Own Electric Compact SUV Powered by Ziptron. Retrieved 28 July 2020.\\n\\n^ \"Tata Nexon EV was India\\'s best-selling electric car in April 2021\". www.timesnownews.com. 20 May 2021. Retrieved 25 June 2021.\\n\\n^ \"Archived copy\". Archived from the original on 8 January 2016. Retrieved 28 June 2015.{{cite web}}:  CS1 maint: archived copy as title (link)\\n\\n^ \"Punch.ev\". ev.tatamotors.com. Retrieved 22 January 2024.\\n\\n^ \"TATA Motors EV\". ev.tatamotors.com. Retrieved 22 January 2024.\\n\\n^ \"Tata Manza [2011-2015] - Manza [2011-2015] Price, Specs, Images, Colours\". www.cartrade.com. Retrieved 28 February 2024.\\n\\n^ \"Tata Nano safety under scrutiny after dire crash test results\". Guardian. 31 January 2014. Retrieved 9 September 2017.\\n\\n^ \"Tata Nano falls short of global crash test standards â€“ video\". Guardian. 31 January 2014. Retrieved 9 September 2017.\\n\\n^ \"Air Asia Case Puts Spotlight Once Again on Cyrus Mistry\\'s \\'Legacy Hotspots\\'\". The Wire. Archived from the original on 9 July 2018. Retrieved 5 June 2018.\\n\\n^ \"Autoline - A Stamp of Perfection\". 9 February 2008. Archived from the original on 9 February 2008. Retrieved 27 September 2017.\\n\\n^ \"tatamotors\". Tatamotors. 14 March 2012. Archived from the original on 9 February 2008. Retrieved 8 August 2012.\\n\\n^ \"Autoline\". 9 February 2008. Archived from the original on 9 February 2008. Retrieved 11 October 2010.\\n\\n^ \"TATA Motors Annual Report 2011â€“2012\". Tatamotors.com. Archived from the original on 8 January 2016. Retrieved 28 June 2015.\\n\\n^ \"Tata Light Commercial Vehicles\". Tata Motors.\\n\\n^ \"2019 Tata Harrier launched in India, priced at Rs 12.69 lakh\". Archived from the original on 21 March 2019. Retrieved 21 March 2019.\\n\\n^ \"OMEGA-Arc: What defines Tata Harrier is the platform, here\\'s how it\\'s different\". The Financial Express. 12 December 2020. Retrieved 12 January 2021.\\n\\n^ \"Tata confirms Harrier petrol\". Autocar India. Retrieved 12 January 2021.\\n\\n^ Dhingra, Mayank (21 September 2017). \"Tata Motors launches Nexon compact SUV at Rs 585,000\". Autocar Professional India. Retrieved 5 March 2021.\\n\\n^ \"Tata Nexon EV debuts with 300 km range\". autocarindia.com. Retrieved 8 March 2021.\\n\\n^ \"Tata Nexon EV Review\". news18. 17 January 2021. Retrieved 17 January 2021.\\n\\n^ \"India\\'s Tata Motors jumps on plans to split into two listed firms\". Reuters. 5 March 2024. Retrieved 6 March 2024.\\n\\n^ \"Explained: What Tata Motors\\' demerger plan means for the company and its shareholders\". Indian Express. 5 March 2024. Retrieved 6 March 2024.\\n\\n^ \"Tata Motors stock check: How does the demerger impact its fundamental and technical outlook for long-term\". Livemint. Retrieved 6 March 2024.\\n\\n\\nExternal links[edit]\\n\\n\\nOfficial website\\n\\n\\n\\n\\n\\n\\n\\n\\n')"
      ]
     },
     "execution_count": 8,
     "metadata": {},
     "output_type": "execute_result"
    }
   ],
   "source": [
    "data[0]"
   ]
  },
  {
   "cell_type": "code",
   "execution_count": 7,
   "id": "e2044b6a-662d-4b55-ad8e-bfa391b60811",
   "metadata": {},
   "outputs": [],
   "source": [
    "# THere are 2 elememnt in the list "
   ]
  },
  {
   "cell_type": "code",
   "execution_count": 9,
   "id": "7270633f-7537-487b-b7c0-9abf04153033",
   "metadata": {},
   "outputs": [
    {
     "data": {
      "text/plain": [
       "langchain_core.documents.base.Document"
      ]
     },
     "execution_count": 9,
     "metadata": {},
     "output_type": "execute_result"
    }
   ],
   "source": [
    "type(data[0])"
   ]
  },
  {
   "cell_type": "code",
   "execution_count": 10,
   "id": "2c976209-55c5-44f3-8484-393be44f6e8d",
   "metadata": {},
   "outputs": [
    {
     "data": {
      "text/plain": [
       "{'source': 'Tata_Motors.txt'}"
      ]
     },
     "execution_count": 10,
     "metadata": {},
     "output_type": "execute_result"
    }
   ],
   "source": [
    "data[0].metadata"
   ]
  },
  {
   "cell_type": "code",
   "execution_count": 11,
   "id": "9182b109-ee09-48a1-85f6-c90999ecf6a1",
   "metadata": {},
   "outputs": [
    {
     "data": {
      "text/plain": [
       "'Tata Motors\\n\\n\\n\\nTata Motors LimitedHeadquarters in MumbaiFormerlyTata Engineering and Locomotive Company Ltd. (TELCO)Company typePublicTraded asBSE:Â\\xa0500570NSE:Â\\xa0TATAMOTORSBSE SENSEX constituentNSE NIFTY 50 constituentISININ9155A01020IndustryAutomotiveFounded1945; 79Â\\xa0years agoFounderJ. R. D. TataHeadquartersMumbai, Maharashtra, India[1]Area servedWorldwideKey peopleNatarajan Chandrasekaran  (Chairman)P. B. Balaji (CFO)[2]ProductsAutomobilesLuxury vehiclesCommercial vehiclesAutomotive partsPickup trucksSUVsProduction output1.1 million (2021)ServicesAutomotive financeVehicle leasingVehicle serviceRevenue â‚¹443,877 crore (US$53Â\\xa0billion) (2024)[3]Operating income â‚¹28,232 crore (US$3.4Â\\xa0billion) (2024)[3]Net income â‚¹31,806 crore (US$3.8Â\\xa0billion) (2024)[3]Total assets â‚¹370,663 crore (US$44Â\\xa0billion) (2024)[4]Total equity â‚¹93,093 crore (US$11Â\\xa0billion) (2024)[4]Number of employees91,811 (2024)[5]ParentTata GroupSubsidiaries\\nTata Motors Cars\\nJaguar Land Rover\\nTata Daewoo\\nTata Marcopolo\\nTata Technologies\\nTata Hispano\\nTata Hitachi Construction Machinery\\nRatingS&P BB/Stable[6]Websitetatamotors.com\\nTata Motors Limited is an Indian multinational automotive company, headquartered in Mumbai and part of the Tata Group. The company produces cars, trucks, vans, and buses.[7]\\nSubsidiaries include British Jaguar Land Rover and South Korean Tata Daewoo. Tata Motors has joint ventures with Hitachi (Tata Hitachi Construction Machinery) and Stellantis, which makes vehicle parts for Fiat Chrysler and Tata-branded vehicles.\\nTata Motors has auto manufacturing and vehicle plants in Jamshedpur, Pantnagar, Lucknow, Sanand, Dharwad, and Pune in India, as well as in Argentina, South Africa, the United Kingdom, and Thailand. It has research and development centers in Pune, Jamshedpur, Lucknow, Dharwad, India and South Korea, the United Kingdom, and Spain. Tata Motors is listed on the BSE and NSE, and is a constituent of the BSE SENSEX and NIFTY 50 benchmark indices. The company is ranked 265th on the Fortune Global 500 list of the world\\'s biggest corporations as of 2019.[8]\\nOn 17 January 2017, Natarajan Chandrasekaran was appointed chairman of the company Tata Group. Tata Motors increased its UV market share to over 8% in FY2019.[9]\\n\\n\\nHistory[edit]\\nTata Sierra (1991-2000)\\nTata Sumo (1994â€“2019)\\nTata Motors was founded in 1945, as a locomotive manufacturer. Tata Group entered the commercial vehicle sector in 1954 after forming a joint venture with Daimler-Benz of Germany in which Tata developed a manufacturing facility in Jamshedpur for Daimler lorries.[10] By November 1954 Tata and Daimler manufactured their first goods carrier chassis at their Jamshedpur plant with 90-100Â\\xa0hp and capacity of 3-5 tons.[11] After years of dominating the commercial vehicle market in India, Tata Motors entered the passenger vehicle market in 1991 by launching the Tata Sierra, a sport utility vehicle based on the Tata Mobile platform. Tata subsequently launched the Tata Estate (1992; a station wagon design based on the earlier Tata Mobile), the Tata Sumo (1994, a 5-door SUV) and the Tata Safari (1998).[citation needed]\\n\\nTata Indica (first generation)\\nTata launched the Indica in 1998. A newer version of the car, named Indica V2, later appeared. Tata Motors also exported cars to South Africa.[12]\\nIn the 2000s, Tata Motors made a series of acquisitions and partnerships, acquiring Daewoo\\'s South Korea-based truck manufacturing unit,[13] a joint venture with the Brazil-based Marcopolo, Tata Marcopolo Bus,[14] Jaguar Land Rover.,[15][16][17][18] Hispano Carrocera,[19] and an 80% stake in the Italian design and engineering company Trilix.[20]\\nOn 12 October 2021, private equity firm TPG invested $1 billion in Tata Motors\\' electric vehicle subsidiary.[21]\\n\\nOperations[edit]\\nTata Motors has vehicle assembly operations in India, the United Kingdom, South Korea, Thailand, Spain, and South Africa. It plans to establish plants in Turkey, Indonesia, and Eastern Europe.\\n\\nTata Motors Cars[edit]\\n\\nTata Motors Cars is a division of Tata Motors which produces passenger cars under the Tata Motors hood. Tata Motors is among the top five passenger vehicle brands in India with products in the compact, midsize car, and utility vehicle segments.[22] The company\\'s manufacturing base in India is spread across Jamshedpur (Jharkhand), Pune (Maharashtra), Lucknow (Uttar Pradesh), Pantnagar (Uttarakhand), Dharwad (Karnataka) and Sanand (Gujarat). Tata\\'s dealership, sales, service, and spare parts network comprise over 3,500 touchpoints.[22] Tata Motors has more than 250 dealerships in more than 195 cities across 27 states and four Union Territories of India.[23] It has the third-largest sales and service network after Maruti Suzuki and Hyundai.\\nTata also has franchisee/joint venture assembly operations in Kenya, Bangladesh, Ukraine, Russia, and Senegal.[24] Tata has dealerships in 26 countries across 4 continents.[25] Tata is present in many countries, it has managed to create a large consumer base in the Indian subcontinent, namely India, Bangladesh, Bhutan, Sri Lanka and Nepal. Tata is also present in Italy,[26] Spain,[27] Poland,[28] Romania,[29] Turkey,[30] Chile,[31] South Africa,[32] Oman, Kuwait, Qatar, Saudi Arabia, United Arab Emirates, Bahrain, Iraq, Syria and Australia.\\n\\nTata Daewoo[edit]\\n\\nTata LPT Trucks made at overseas plantsTata Daewoo (officially Tata Daewoo Commercial Vehicle Company and formerly Daewoo Commercial Vehicle Company) is a commercial vehicle manufacturer headquartered in Gunsan, Jeollabuk-do South Korea, and a wholly owned subsidiary of Tata Motors. It is the second-largest heavy commercial vehicle manufacturer in South Korea and was acquired by Tata Motors in 2004. The principal reasons behind the acquisition were to reduce Tata\\'s dependence on the Indian commercial vehicle market (which was responsible for around 94% of its sales in the MHCV segment and around 84% in the light commercial vehicle segment) and expand its product portfolio by leveraging on Daewoo\\'s strengths in the heavy-tonnage sector.\\nTata Motors has jointly worked with Tata Daewoo to develop trucks such as Novus and World Truck and buses including GloBus and StarBus. In 2012, Tata began developing a new line to manufacture competitive and fuel-efficient commercial vehicles to face the competition posed by the entry of international brands such as Mercedes-Benz, Volvo, and Navistar into the Indian market.[33]\\n\\nTata Hispano[edit]\\n\\nTata Hispano Motors Carrocera, S.A. was a bus and coach manufacturer based in Zaragoza, Aragon, Spain, and a wholly owned subsidiary of Tata Motors. Tata Hispano has plants in Zaragoza, Spain, and Casablanca, Morocco. Tata Motors first acquired a 21% stake in Hispano Carrocera SA in 2005,[34] and purchased the remaining 79% for an undisclosed sum in 2009, making it a fully owned subsidiary, subsequently renamed Tata Hispano. In 2013, Tata Hispano ceased production at its Zaragoza plant.[35][36]\\n\\nTML Drivelines[edit]\\nTML Drivelines Ltd. is a wholly owned subsidiary of Tata Motors engaged in the manufacture of gearboxes and axles for heavy and medium commercial vehicles. It has production facilities at Jamshedpur and Lucknow.  TML Forge division is also a recent acquisition of TML Drivelines. TML Drivelines was formed through the merger of HV Transmission  and HV Axles.\\n\\nTata Technologies[edit]\\nTata Technologies Limited (TTL) is a 43%-owned subsidiary of Tata Motors which provides design, engineering, and business process outsourcing services to the automotive industry. It is headquartered in Pune\\'s Hinjawadi business district and also has operations in London, Detroit and Thailand. Its clients include Ford, General Motors, Honda, and Toyota.\\nThe British engineering and design services company Incat International, which specialises in engineering and design services and product lifecycle management in the automotive, aerospace, and engineering sectors, is a wholly owned subsidiary of TTL. It was acquired by TTL in August 2005 for â‚¹4 billion.\\nIn 2017, TAL, a subsidiary of Tata Motors, manufactured India\\'s first industrial articulated robot for micro, small, and medium enterprises.[36]\\n\\nEuropean Technical Centre[edit]\\nThe Tata Motors European Technical Centre (TMETC) is an automotive design, engineering, and research company based at WMG, University of Warwick on the campus of the University of Warwick in England. It was established in 2005 and is a wholly owned subsidiary of Tata Motors. It was the joint developer of the World Truck.[37]\\nIn September 2013, it was announced that a new National Automotive Innovation Campus would be built at WMG at Warwick\\'s main campus at a cost of Â£100 million.[38][39] The initiative will be a partnership between Tata Motors, the university, and Jaguar Land Rover, with Â£30 million in funding coming from Tata Motors.[40]\\n\\nSubsidiaries[edit]\\nJaguar Land Rover[edit]\\nRange Rover (L405)\\n\\nLand Rover Defender\\nJaguar Land Rover PLC is a premium British automaker headquartered in Whitley, Coventry, United Kingdom, and has been a wholly owned subsidiary of Tata Motors since June 2008, when it was acquired from Ford Motor Company of USA.[41] Its principal activity is the development, manufacture and sale of Jaguar luxury and sports cars and Land Rover premium four-wheel-drive vehicles.\\nJaguar Land Rover has two design centres and three assembly plants in the United Kingdom. Under Tata ownership, Jaguar Land Rover has launched new vehicles including the Range Rover Evoque, Jaguar F-Type, the Jaguar XE, the Jaguar XJ (X351), the second-generation Range Rover Sport, and Jaguar XF, the fourth-generation Land Rover Discovery, Range Rover Velar  and the Range Rover (L405).\\n\\nLand Rover Discovery Sport\\nJD Power, of the US, rates Land Rover and Jaguar as the two worst brands for initial quality.\\n[42] The Jaguar F-Pace made Consumer Reports February 2019 list of the 10 Least Reliable Cars. The editors cited \"electronics, drive system, power equipment, noises and leaks\" as problematic aspects.[43]\\nThe Jaguar Land Rover subsidiary was struggling by 2019 and Tata Motors wrote down its investment in JLR by $3.9 billion. Much of the financial problem was due to a 50% drop in sales in China during 2019, although the situation was improving. Still, Tata was open to considering a partnership with another company according to a statement in mid-October, as long as the partnership agreement would allow Tata to maintain control of the business. The company ruled out the possibility of a sale of JLR to another entity.[44]\\nIn July 2023, Tata announced its plans to invest Â£4 billion to build an electric car battery factory in the UK, which will be one of the largest of its kind in Europe.[45][46][47] The factory will be the company\\'s first battery production facility outside India.[47] Located in Bridgwater, Somerset, the factory will supply Jaguar Land Rover\\'s future battery electric models, including the Range Rover, Defender, Discovery and Jaguar brands, with the potential to also supply other car manufacturers.[36] Production at the new facility is due to start in 2026.\\n\\nJoint ventures[edit]\\nTata Marcopolo[edit]\\n\\nA Tata Marcopolo bus in use in Chandigarh, India\\nTata Marcopolo is a bus-manufacturing joint venture between Tata Motors (51%) and the Brazil-based Marcopolo S.A. (49%). The joint venture manufactures and assembles fully built buses and coaches targeted at developing mass rapid transportation systems. It uses technology and expertise in chassis and aggregates from Tata Motors, and know-how in processes and systems for bodybuilding and bus body design from Marcopolo. Tata Marcopolo has launched a low-floor city bus which is widely used by transport corporations in many Indian cities. Its manufacturing facility is based in Dharwad, Karnataka State, India and Lucknow, India.\\nTata Motors is expected to buy the 49% stake held by its partner Marcopolo in the bus-making joint venture for â‚¹100 crore by February 2021. The subsidiary will continue with the â€˜Marcopoloâ€™ trademark for a minimum of three years with a non-compete provision in India for a corresponding period.[48]\\n\\nFiat-Tata[edit]\\nFiat-Tata is an India-based joint venture between Tata and Stellantis\\' Fiat which produces Fiat and Tata branded passenger cars, as well as engines and transmissions. Tata Motors has gained access to Fiat\\'s diesel engine and transmission technology through the joint venture.[49]\\nThe two companies formerly also had a distribution joint venture through which Fiat products were sold in India through joint Tata-Fiat dealerships. This distribution arrangement was ended in March 2013; Fiats have since been distributed in India by Fiat Automobiles India Limited, a wholly owned subsidiary of Fiat[50][51] and now Tata Motors.\\n\\nTata Hitachi Construction Machinery[edit]\\n\\nTata Hitachi Construction Machinery is a joint venture between Tata Motors and Hitachi which manufactures excavators and other construction equipment.[citation needed] It was previously known as Telcon Construction Solutions.[citation needed]\\n\\nTata Motors European Technical Centre[edit]\\nThe TATA Motors European Technical Centre is an automotive design, engineering, and research company.[citation needed] Company based at WMG, University of Warwick in the United Kingdom.[citation needed] It was established in 2005 and is wholly owned subsidiary of Tata Motors. It was the joint developer of the World Truck.[citation needed] In September 2013 it was announced that a new National Automotive Innovative Campus would be built at WMG at Warwick\\'s main campus at a cost of 92 million pounds.[52] The initiative will be a partnership between Tata Motors, the university, and Jaguar Land Rover, with the 30 million pounds in funding coming from Tata Motors.[53]\\n\\nHyundai-Tata[edit]\\nTata Motors and Hyundai are in a joint venture to provide  the automatic transmission for Tata Safari & Tata Harrier model.[54]\\n\\nProducts[edit]\\nFor details of Land Rover and Jaguar products, see Jaguar Land Rover.\\n\\nPassenger vehicles[edit]\\n\\nCurrent Models[edit]\\n\\n\\nModel\\n\\nYear of Introduction\\n\\n\\nHatchback\\n\\n\\nTata Tiago\\n\\n2016[55]\\n\\n\\nTata Altroz\\n\\n2020\\n\\n\\nSedan\\n\\n\\nTata Tigor\\n\\n2016\\n\\n\\nSUV/Crossover\\n\\n\\nTata Punch\\n\\n2021\\n\\n\\nTata Nexon\\n\\n2017\\n\\n\\nTata Harrier\\n\\n2018\\n\\n\\nTata Safari\\n\\n2021\\n\\n\\nElectric\\n\\n\\nTata Nexon EV\\n\\n2020\\n\\n\\nTata Tigor EV\\n\\n2021\\n\\n\\nTata Tiago EV\\n\\n2022\\n\\n\\nTata Punch EV\\n\\n2023\\n\\nCommercial vehicles[edit]\\nTata Ace\\nTata Ace Zip\\nTata Ace EV\\nTata Super Ace\\nTata Intra\\nTata Intra V10\\nTata Intra V20\\nTata Intra V30\\nTata Intra V50\\nTata Xenon XT\\nTata Yodha\\nTata Ace Mega\\nTata Iris\\nTata TL/Telcoline/207 Pick-up truck\\nTata 407 Ex and Ex2\\nTata 709 Ex\\nTata 807 (Steel cabin chassis, cowl chassis, medium bus chassis, steel cabin + steel body chassis)\\nTata 809 Ex and Ex2\\nTata 909 Ex and Ex2\\nTata 1210 SE and SFC (Semi Forward)\\nTata 1210 LP (Long Plate)\\nTata 1109 (Intermediate truck/ LCV bus)\\nTata 1512c (Medium bus chassis)\\nTata 1515c/1615 (Medium bus chassis)\\nTata 1612c/1616c/1618c (Heavy bus chassis)\\nTata 1618 (Semilow-floor bus chassis)\\nTata 1623 (Rear-engined low-floor bus chassis)\\nTata 1518C (Medium truck) 10 ton\\nTata 1613/1615c (Medium truck)\\nTata 1616/1618c (Heavy duty truck)\\nTata 2515c/2516c/2518c (Heavy duty 10-wheeler truck)\\nTata Starbus (Branded buses for city, intercity, school bus, and standard passenger transportation)\\nTata Divo (Hispano Divo)\\nTata CityRide (12- to 20-seater buses for intracity use)\\nTata 3015 (Heavy truck)\\nTata 3118 (Heavy truck) (8Ã—2)\\nTata 3516 (Heavy truck)\\nTata 4018 (Heavy truck)\\nTata 4923 (Ultraheavy truck) (6Ã—4)\\nTata Novus\\nTata Prima\\nTata SIGNA series\\nTata Ultra series (ICV Segment)\\nTata Winger - (Maxivan)\\nElectric vehicles[edit]\\nTata Motors has unveiled electric versions of the Tata Indica passenger car powered by TM4 electric motors and inverters,[56] as well as the Tata Ace commercial vehicle, both of which run on lithium batteries which launched in 2022.\\nIn 2008 Tata Motors\\' UK subsidiary, Tata Motors European Technical Centre, bought a 50.3% holding in electric vehicle technology firm MiljÃ¸bil Grenland/Innovasjon of Norway for US$1.93 million, and planned to launch the electric Indica hatchback in Europe the following year.[57][58][59] In September 2010, Tata Motors presented four CNGâ€“Electric Hybrid low-floored Starbuses to the Delhi Transport Corporation, to be used during the 2010 Commonwealth Games. These were the first environmentally friendly buses to be used for public transportation in India.\\nIn December 2019, Tata Motors unveiled the Nexon EV, an SUV with a 30.2KWh lithium-ion battery and a consistent range of 312Â\\xa0km on a single charge. It is also equipped with fast charging technology, which can charge the vehicle from 0% - 80% in 60 minutes.[60] With 525 units of Nexon EV sold in India last month, Tata Nexon EV[61] was the best-selling electric car in the month of April 2021 in India.\\nTata Passenger Electric Mobility is a subsidiary which produces electric cars under the brand name Tata Motors.[62]\\nList of Tata electric vehicles:\\n\\nTata Nexon EV\\nTata Tigor EV\\nTata Altroz EV\\nTata Tiago EV\\nTata Ace EV\\nTata Punch EV[63]\\nElectric Vehicle Concepts[edit]\\nTata Curvv\\nTata Avinya\\nTata EVision\\nHarrier.ev\\nSierra.ev[64]\\nDiscontinued Models[edit]\\nTata Telcoline (1988â€“2010)\\nTata Sierra (1991â€“2003)\\nTata Estate (1992â€“2000)\\nTata Sumo (1994â€“2019)\\nTata Indica (1998â€“2015)\\nTata Spacio (2000-2011)\\nTata Indigo (2002â€“2015)\\nTata Indigo Marina (2006â€“2009)\\nTata Xenon (2007â€“2018)\\nTata Sumo Grande (2008â€“2016)\\nTata Vista (2008â€“2015)\\nTata Nano (2008â€“2018)\\nTata Manza (2011â€“2016)[65]\\nTata Venture (2010â€“2017)\\nTata Aria (2010â€“2017)\\nTata Zest (2014â€“2020)\\nTata Bolt (2014â€“2019)\\nTata Hexa (2017â€“2020)\\nNotable vehicles[edit]\\nTata Nano[edit]\\n\\nTata Nano is often cited as the world\\'s most affordable car\\nThe Nano was launched in 2009 as a city car intended to appeal as an affordable alternative to the section of the Indian populace that is primarily the owner of motorcycles and has not bought their first car. Initially priced at â‚¹100,000 (US$1,500), the vehicle attracted a lot of attention for its relatively low price. However, the Nano was very poorly rated for safety[66][67] and in 2018, Cyrus Mistry, chairman of the Tata Group, called the Tata Nano a failed project, with production ending in May 2018.[68]\\n\\nTata Ace[edit]\\n\\nTata Super Ace\\nTata Ace, India\\'s first indigenously developed sub-one-ton minitruck, was launched in May 2005. The minitruck was a huge success in India with auto analysts claiming that Ace had changed the dynamics of the light commercial vehicle  (LCV) market in the country by creating a new market segment termed the small commercial vehicle  segment. Ace rapidly emerged as the first choice for transporters and single truck owners for city and rural transport.\\nBy October 2005, LCV sales of Tata Motors had grown by 36.6% to 28,537 units due to the rising demand for Ace. The Ace was built with a load body produced by Autoline Industries.[69]\\nBy 2005, Autoline was producing 300 load bodies per day for Tata Motors. Ace is still a top seller for TML with 500,000 units sold by June 2010.[70] In 2011, Tata Motors invested Rs 1000 crore in Dharwad Plant, Karnataka, with the capacity of 90,000 units annually and launched two models of 0.5-T capacity as Tata Ace Zip, Magic Iris.[71] Ace has also been exported to several Asian, European, South American, and African countries and all-electric models are sold through Polaris Industries\\' Global Electric Motorcars division. In Sri Lanka, it is sold through Diesel & Motor Engineering (DIMO) PLC under the name of DIMO Batta.\\n\\nTata Prima[edit]\\n\\nA Tata Prima 4928.S in Assam, India\\nTata Prima is a range of heavy trucks first introduced in 2008 as the company\\'s \\'global\\' truck. Tata Prima was the winner of the \\'Commercial Vehicle of the Year\\' at the Apollo Commercial Vehicles Awards, 2010 and 2012.\\n\\nTata 407[edit]\\n\\nA Tata 407 being used as water truck\\nThe Tata 407 is a light commercial vehicle (LCV) that has sold over 500,000 units since its launch in 1986.[72] In India, this vehicle dominates market share of the LCV category, accounting for close to 75% of LCV sales. The 407 model range includes trucks, tippers, pick-ups and vehicles for agri/food products, construction, light mining and services.[73]\\n\\nTata Harrier[edit]\\n\\nTata Harrier\\nTata Harrier is a 5-seater SUV that rivals the MG Hector and Jeep Compass. This car uses the engine from Fiat which is a 2.0 L-4 cylinder turbocharged diesel motor and transmission from Hyundai which is a 6-speed, available in both manual and automatic. Tata Harrier is derived from the H5X Concept displayed at the 2018 Auto Expo. It was launched on 23 January 2019.[74]\\nThe car is a C-segment crossover SUV based on the OmegaArc platform, an essentially re-engineered version of the Jaguar Land Rover D8 platform.[75] A petrol variant of the Harrier is confirmed to launch in 2022â€“23.[76]\\nTata Harrier is also available in Nepal with the name H5.\\n\\nTata Nexon[edit]\\n\\nTata Nexon\\nThe Tata Nexon is a subcompact crossover SUV produced by Tata Motors since 2017. It is the first crossover SUV from Tata Motors, and occupies the sub-4 metre crossover SUV segment in India.[77] The electric version of the Nexon was revealed on 19 December 2019. The Nexon EV uses components from Tata Motors\\' electric vehicle technology brand Ziptron. The electric motor produces 94.7Â\\xa0kW (127Â\\xa0hp; 129Â\\xa0PS) and 245Â\\xa0Nâ‹…m (181Â\\xa0lbfâ‹…ft) of torque and 0 - 100 under 9.9 seconds. It has a 30.2 kWh battery with an ARAI rated range of up to 312Â\\xa0km.[78]\\nThe battery can be fully charged in under 8 hours using a complimentary AC charger. It can also be charged using a 15-ampere power cable that can be used at any place with the necessary power socket. DC 25Â\\xa0kW fast charging can be used to charge the battery from 0 to 80% in 1 hour.[79]\\n\\nRestructuring[edit]\\nIn March 2024, Tata Motors announced plans to undergo a significant restructuring by splitting into two separate listed entities. This strategic move aims to enhance operational efficiencies and focus on distinct business segments. The demerger is expected to allow each entity to pursue tailored growth strategies and attract specific investor bases. The announcement was well-received by the market, with Tata Motors\\' stock experiencing a notable jump following the news.[80][81][82]\\n\\nSee also[edit]\\nList of companies of India\\nList of largest companies by revenue\\nList of corporations by market capitalisation\\nMake in India\\nForbes Global 2000\\nFortune India 500\\nAutomotive industry in India\\nTata Revotron engine\\nReferences[edit]\\n\\n^ \"Contact Us - Tata Motors Limited\". www.tatamotors.com. 14 October 2015. Archived from the original on 4 May 2019. Retrieved 30 July 2018.\\n\\n^ \"Tata Motors Ltd\". Reuters. Retrieved 19 May 2024.\\n\\n^ Jump up to: a b c \"Tata Motors Ltd. Financial Statements\" (PDF). bseindia.com.\\n\\n^ Jump up to: a b \"Tata Motors Consolidated Balance Sheet, Tata Motors Financial Statement & Accounts\" (PDF). www.bseindia.com.\\n\\n^ \"Tata Motors\" (PDF). Tata Motors. May 2022. Retrieved 1 June 2024. Employees: 50,837\\n\\n^ cite news|url=https://www.business-standard.com/amp/companies/news/s-p-upgrades-tata-motors-long-term-issuer-issue-credit-ratings-to-bb-123042600194_1.html%7Cwebsite=business-standard.com\\n\\n^ \"Financials of Tata Motors Limited\". CNN. Archived from the original on 16 October 2013.\\n\\n^ \"Fortune Global 500 list\". Archived from the original on 7 August 2019. Retrieved 18 October 2019.\\n\\n^ \"Tata Motors Market Share\". Auto Car Professional. Retrieved 2 April 2019.\\n\\n^ \"More Special A Licences Granted | 12th March 1954 | The Commercial Motor Archive\". archive.commercialmotor.com. Retrieved 30 May 2023.\\n\\n^ \"Government Viewâ€¢ On RoadsÂ\\xa0: Big Extension of Construction? | 12th November 1954 | The Commercial Motor Archive\". archive.commercialmotor.com. Retrieved 30 May 2023.\\n\\n^ \"Tata Milestones\". Archived from the original on 6 December 2010. Retrieved 22 March 2009.\\n\\n^ \"Tata Motors completes acquisition of Daewoo Commercial Vehicle Company\". Tata Motors. Archived from the original on 8 February 2010. Retrieved 7 October 2010.\\n\\n^ \"Tata Motors, Brazil co form joint venture\". The Hindu Business Line. Archived from the original on 10 October 2010. Retrieved 7 October 2010.\\n\\n^ \"Ford Motor Company Announces Agreement to Sell Jaguar Land Rover to Tata Motors\" (Press release). Ford Motor Company. 26 March 2008. Archived from the original on 12 June 2008. Retrieved 27 March 2008.\\n\\n^ \"Tata Motors enters into Definitive Agreement with Ford for purchase of Jaguar Land Rover\" (Press release). Tata Motors. 26 March 2008. Archived from the original on 5 December 2010. Retrieved 27 March 2008.\\n\\n^ Lewin, Tony (27 March 2008). \"Classic names are part of Tata deal\". Automotive News. Crain Communications. Archived from the original on 28 March 2008. Retrieved 18 May 2008.\\n\\n^ \"Tata Motors completes acquisition of Jag, Land Rover\". Thomson Reuters. 2 June 2008. Archived from the original on 29 December 2008. Retrieved 2 June 2008.\\n\\n^ \"Tata Motors acquires control of Hispano Carrocera\". Business-Standard. 20 October 2009. Archived from the original on 21 April 2010. Retrieved 20 October 2011.\\n\\n^ \"Tata Motors acquires 80% stake in Italy\\'s Trilix\". Money Control. Archived from the original on 10 October 2010. Retrieved 7 October 2010.\\n\\n^ Barman, Arijit (12 October 2021). \"TPG - Tata Motors: TPG drives into Tata Motors EV business with $1 billion investment\". The Economic Times. Retrieved 13 October 2021.\\n\\n^ Jump up to: a b \"Tata Motors\". Tata Motors. Archived from the original on 11 January 2011. Retrieved 4 June 2009.\\n\\n^ \"Booking Center Locator\". tatanano.inservices.tatamotors.com. Archived from the original on 25 March 2009. Retrieved 15 January 2022.\\n\\n^ \"Tata Motors InternationalÂ\\xa0: CompanyÂ\\xa0: Profile\". Tatacarsworldwide.com. Archived from the original on 4 March 2009. Retrieved 4 June 2009.\\n\\n^ \"Tata Motors InternationalÂ\\xa0: Global Network\". Tatacarsworldwide.com. Archived from the original on 15 July 2009. Retrieved 4 June 2009.\\n\\n^ \"Tata Motors -\". Tata Motors. Archived from the original on 27 May 2017. Retrieved 27 September 2017.\\n\\n^ \"Tata Motors EspaÃ±a. Coches Tata - Coches Nuevos y Nuevas Ofertas de Tata\". Tatamotors.es. Archived from the original on 11 October 2007. Retrieved 28 June 2015.\\n\\n^ \"Start - sklep internetowy Tata Motors POLSKA\". tatamotor.com.pl. Archived from the original on 28 September 2017. Retrieved 27 September 2017.\\n\\n^ \"Davossi\". Davossi.ro. Archived from the original on 1 August 2015. Retrieved 28 June 2015.\\n\\n^ \"Tata TÃ¼rkÄ±ye\". Tata.com.tr. Archived from the original on 12 January 2008. Retrieved 28 June 2015.\\n\\n^ \"Tata Motors\". Tata-motors.cl. Archived from the original on 9 August 2011. Retrieved 28 June 2015.\\n\\n^ \"Tata Homepage - Tata South Africa\". Tata.co.za. Archived from the original on 26 June 2015. Retrieved 28 June 2015.\\n\\n^ \"Tatas readying new line of CVs to take on competition\". 14 July 2012. Archived from the original on 17 July 2012. Retrieved 14 July 2012.\\n\\n^ \"Hispano\". Hispano-net.com. Archived from the original on 28 September 2010. Retrieved 11 October 2010.\\n\\n^ \"Media - Tata Motors Limited\". 10 September 2015. Archived from the original on 28 September 2017. Retrieved 27 September 2017.\\n\\n^ Jump up to: a b c Mondal, Manisha. \"Robotic hand rocks manufacturing cradle\". The Hindu. Retrieved 11 April 2017.\\n\\n^ \"Tata Motors Unveils New Range Of Trucks\". Motorbeam.com. 29 May 2009. Archived from the original on 1 June 2009. Retrieved 4 June 2009.\\n\\n^ \"Â£100m investment boost for Warwick University\". The Independent. 25 September 2013. Archived from the original on 29 September 2013. Retrieved 29 September 2013.\\n\\n^ \"University of Warwick Â£100m car centre \\'will secure jobs\\'\". BBC. 24 September 2013. Archived from the original on 28 September 2013. Retrieved 29 September 2013.\\n\\n^ \"Tata Motors confirms Â£30m investment in UK R&D centre\". The Engineer. 3 December 2013. Archived from the original on 29 November 2014. Retrieved 27 February 2014.\\n\\n^ Rutherford, Mike (29 March 2008). \"Mike Rutherford ponders Tata\\'s takeover of Land Rover and Jaguar\". The Daily Telegraph. Archived from the original on 8 April 2008. Retrieved 30 July 2008.\\n\\n^ McIntyre, Douglas A. (24 June 2019). \"And the Worst New Car Sold in America Isâ€¦\". MSN. Microsoft News. Retrieved 25 June 2019.\\n\\n^ Linkov, Jon; Elek, Steven (18 November 2021). \"10 Least Reliable Cars\". Consumer Reports. Archived from the original on 7 October 2019.\\n\\n^ Trudell, Craig; Coppola, Gabrielle; Kotoky, Anurag (15 October 2019). \"Tata Looks for Jaguar Land Rover Partners, but Rules Out Sale\". Bloomberg. Archived from the original on 17 October 2019.\\n\\n^ \"Tata Group confirms plans to build gigafactory for batteries in the UK\". Sky News. Retrieved 20 July 2023.\\n\\n^ Ralph, Alex (20 July 2023). \"Tata to build Â£4bn gigafactory in Somerset\". The Times. ISSNÂ\\xa00140-0460. Retrieved 20 July 2023.\\n\\n^ Jump up to: a b \"Tata confirms Somerset will host Â£4bn battery factory\". BBC News. 28 February 2024. Retrieved 28 February 2024.\\n\\n^ \"Tata Motors To Buy Remaining 49% Share In Tata Marcopolo Motors For Nearly â‚¹ 100 Crore\". Retrieved 23 December 2020.\\n\\n^ \"Fiat, Tata Motors set up joint venture\". timesofmalta.com. 21 October 2007. Archived from the original on 18 November 2007. Retrieved 1 April 2008.\\n\\n^ \"Fiat to complete split from Tata in sales ops by Mar 2013\". Business Standard. 19 September 2012. Archived from the original on 12 January 2014. Retrieved 12 January 2014.\\n\\n^ \"After split with Tata Motors, Fiat begins its solo India ride\". The Economic Times. 11 April 2013. Archived from the original on 12 January 2014. Retrieved 12 January 2014.\\n\\n^ \"Â£92 million National Automotive Innovation Campus to be built at University of Warwick\". warwick.ac.uk. Retrieved 6 October 2020.\\n\\n^ \"Tata Motors European technical centre demonstrates latest mobility technology on the Tata HEXA\". Automotive World. Archived from the original on 10 January 2019. Retrieved 9 January 2018.\\n\\n^ \"How Good Is All New Tata Safari 2023\". Motorlane. 12 November 2023.\\n\\n^ www.ETAuto.com. \"Tata Tiago to be launched on April 6 - ET Auto\". ETAuto.com. Retrieved 27 February 2024.\\n\\n^ \"Customers\". TM4. Archived from the original on 30 June 2015. Retrieved 28 June 2015.\\n\\n^ \"TMETC acquires 50.3 per cent stake in Norway\\'s Miljo Grenland/Innovasjon; to launch first electric vehicle\". Tata.com. 14 October 2008. Archived from the original on 30 July 2013. Retrieved 2 May 2009.\\n\\n^ \"Tata Motors European Technical Centre\". Tata.com. Archived from the original on 24 January 2009. Retrieved 2 May 2009.\\n\\n^ \"Tata to launch EV next year\". Just-auto.com. 14 October 2008. Archived from the original on 29 March 2009. Retrieved 2 May 2009.\\n\\n^ \"Tata Nexon EV - India\\'s Own Electric Compact SUV Powered by Ziptron\". Tata Nexon EV - India\\'s Own Electric Compact SUV Powered by Ziptron. Retrieved 28 July 2020.\\n\\n^ \"Tata Nexon EV was India\\'s best-selling electric car in April 2021\". www.timesnownews.com. 20 May 2021. Retrieved 25 June 2021.\\n\\n^ \"Archived copy\". Archived from the original on 8 January 2016. Retrieved 28 June 2015.{{cite web}}:  CS1 maint: archived copy as title (link)\\n\\n^ \"Punch.ev\". ev.tatamotors.com. Retrieved 22 January 2024.\\n\\n^ \"TATA Motors EV\". ev.tatamotors.com. Retrieved 22 January 2024.\\n\\n^ \"Tata Manza [2011-2015] - Manza [2011-2015] Price, Specs, Images, Colours\". www.cartrade.com. Retrieved 28 February 2024.\\n\\n^ \"Tata Nano safety under scrutiny after dire crash test results\". Guardian. 31 January 2014. Retrieved 9 September 2017.\\n\\n^ \"Tata Nano falls short of global crash test standards â€“ video\". Guardian. 31 January 2014. Retrieved 9 September 2017.\\n\\n^ \"Air Asia Case Puts Spotlight Once Again on Cyrus Mistry\\'s \\'Legacy Hotspots\\'\". The Wire. Archived from the original on 9 July 2018. Retrieved 5 June 2018.\\n\\n^ \"Autoline - A Stamp of Perfection\". 9 February 2008. Archived from the original on 9 February 2008. Retrieved 27 September 2017.\\n\\n^ \"tatamotors\". Tatamotors. 14 March 2012. Archived from the original on 9 February 2008. Retrieved 8 August 2012.\\n\\n^ \"Autoline\". 9 February 2008. Archived from the original on 9 February 2008. Retrieved 11 October 2010.\\n\\n^ \"TATA Motors Annual Report 2011â€“2012\". Tatamotors.com. Archived from the original on 8 January 2016. Retrieved 28 June 2015.\\n\\n^ \"Tata Light Commercial Vehicles\". Tata Motors.\\n\\n^ \"2019 Tata Harrier launched in India, priced at Rs 12.69 lakh\". Archived from the original on 21 March 2019. Retrieved 21 March 2019.\\n\\n^ \"OMEGA-Arc: What defines Tata Harrier is the platform, here\\'s how it\\'s different\". The Financial Express. 12 December 2020. Retrieved 12 January 2021.\\n\\n^ \"Tata confirms Harrier petrol\". Autocar India. Retrieved 12 January 2021.\\n\\n^ Dhingra, Mayank (21 September 2017). \"Tata Motors launches Nexon compact SUV at Rs 585,000\". Autocar Professional India. Retrieved 5 March 2021.\\n\\n^ \"Tata Nexon EV debuts with 300 km range\". autocarindia.com. Retrieved 8 March 2021.\\n\\n^ \"Tata Nexon EV Review\". news18. 17 January 2021. Retrieved 17 January 2021.\\n\\n^ \"India\\'s Tata Motors jumps on plans to split into two listed firms\". Reuters. 5 March 2024. Retrieved 6 March 2024.\\n\\n^ \"Explained: What Tata Motors\\' demerger plan means for the company and its shareholders\". Indian Express. 5 March 2024. Retrieved 6 March 2024.\\n\\n^ \"Tata Motors stock check: How does the demerger impact its fundamental and technical outlook for long-term\". Livemint. Retrieved 6 March 2024.\\n\\n\\nExternal links[edit]\\n\\n\\nOfficial website\\n\\n\\n\\n\\n\\n\\n\\n\\n'"
      ]
     },
     "execution_count": 11,
     "metadata": {},
     "output_type": "execute_result"
    }
   ],
   "source": [
    "data[0].page_content"
   ]
  },
  {
   "cell_type": "markdown",
   "id": "00f810b7-59b5-4293-8b9e-4f554b7fe3b5",
   "metadata": {},
   "source": [
    "# loading CSV Files "
   ]
  },
  {
   "cell_type": "code",
   "execution_count": 12,
   "id": "6da05d6f-c01c-4930-8f3e-f37a405c6288",
   "metadata": {},
   "outputs": [],
   "source": [
    "from langchain.document_loaders.csv_loader import CSVLoader"
   ]
  },
  {
   "cell_type": "code",
   "execution_count": 13,
   "id": "3e957e05-62ee-42a5-ae94-7113fe6588e7",
   "metadata": {},
   "outputs": [],
   "source": [
    "loader = CSVLoader(\"movies.csv\")"
   ]
  },
  {
   "cell_type": "code",
   "execution_count": 14,
   "id": "741ba7be-5cb0-4313-b7ac-587ed41a4172",
   "metadata": {},
   "outputs": [],
   "source": [
    "csv_data = loader.load() "
   ]
  },
  {
   "cell_type": "code",
   "execution_count": 15,
   "id": "686a6636-94fb-4269-8c07-91fddf9db23d",
   "metadata": {},
   "outputs": [
    {
     "data": {
      "text/plain": [
       "[Document(metadata={'source': 'movies.csv', 'row': 0}, page_content='movie_id: 101\\ntitle: K.G.F: Chapter 2\\nindustry: Bollywood\\nrelease_year: 2022\\nimdb_rating: 8.4\\nstudio: Hombale Films\\nlanguage_id: 3\\nbudget: 1\\nrevenue: 12.5\\nunit: Billions\\ncurrency: INR'),\n",
       " Document(metadata={'source': 'movies.csv', 'row': 1}, page_content='movie_id: 102\\ntitle: Doctor Strange in the Multiverse of Madness\\nindustry: Hollywood\\nrelease_year: 2022\\nimdb_rating: 7\\nstudio: Marvel Studios\\nlanguage_id: 5\\nbudget: 200\\nrevenue: 954.8\\nunit: Millions\\ncurrency: USD'),\n",
       " Document(metadata={'source': 'movies.csv', 'row': 2}, page_content='movie_id: 103\\ntitle: Thor: The Dark World\\nindustry: Hollywood\\nrelease_year: 2013\\nimdb_rating: 6.8\\nstudio: Marvel Studios\\nlanguage_id: 5\\nbudget: 165\\nrevenue: 644.8\\nunit: Millions\\ncurrency: USD'),\n",
       " Document(metadata={'source': 'movies.csv', 'row': 3}, page_content='movie_id: 104\\ntitle: Thor: Ragnarok\\nindustry: Hollywood\\nrelease_year: 2017\\nimdb_rating: 7.9\\nstudio: Marvel Studios\\nlanguage_id: 5\\nbudget: 180\\nrevenue: 854\\nunit: Millions\\ncurrency: USD'),\n",
       " Document(metadata={'source': 'movies.csv', 'row': 4}, page_content='movie_id: 105\\ntitle: Thor: Love and Thunder\\nindustry: Hollywood\\nrelease_year: 2022\\nimdb_rating: 6.8\\nstudio: Marvel Studios\\nlanguage_id: 5\\nbudget: 250\\nrevenue: 670\\nunit: Millions\\ncurrency: USD'),\n",
       " Document(metadata={'source': 'movies.csv', 'row': 5}, page_content='movie_id: 106\\ntitle: Sholay\\nindustry: Bollywood\\nrelease_year: 1975\\nimdb_rating: 8.1\\nstudio: United Producers\\nlanguage_id: 1\\nbudget: Not Available\\nrevenue: Not Available\\nunit: Not Available\\ncurrency: Not Available'),\n",
       " Document(metadata={'source': 'movies.csv', 'row': 6}, page_content='movie_id: 107\\ntitle: Dilwale Dulhania Le Jayenge\\nindustry: Bollywood\\nrelease_year: 1995\\nimdb_rating: 8\\nstudio: Yash Raj Films\\nlanguage_id: 1\\nbudget: 400\\nrevenue: 2000\\nunit: Millions\\ncurrency: INR'),\n",
       " Document(metadata={'source': 'movies.csv', 'row': 7}, page_content='movie_id: 108\\ntitle: 3 Idiots\\nindustry: Bollywood\\nrelease_year: 2009\\nimdb_rating: 8.4\\nstudio: Vinod Chopra Films\\nlanguage_id: 1\\nbudget: 550\\nrevenue: 4000\\nunit: Millions\\ncurrency: INR'),\n",
       " Document(metadata={'source': 'movies.csv', 'row': 8}, page_content='movie_id: 109\\ntitle: Kabhi Khushi Kabhie Gham\\nindustry: Bollywood\\nrelease_year: 2001\\nimdb_rating: 7.4\\nstudio: Dharma Productions\\nlanguage_id: 1\\nbudget: 390\\nrevenue: 1360\\nunit: Millions\\ncurrency: INR')]"
      ]
     },
     "execution_count": 15,
     "metadata": {},
     "output_type": "execute_result"
    }
   ],
   "source": [
    "csv_data"
   ]
  },
  {
   "cell_type": "code",
   "execution_count": 16,
   "id": "a49d8145-6406-4f0e-8027-168ec2df1614",
   "metadata": {},
   "outputs": [
    {
     "data": {
      "text/plain": [
       "9"
      ]
     },
     "execution_count": 16,
     "metadata": {},
     "output_type": "execute_result"
    }
   ],
   "source": [
    "len(csv_data)"
   ]
  },
  {
   "cell_type": "code",
   "execution_count": 19,
   "id": "b389654c-e99e-49ef-a976-3dc90a421745",
   "metadata": {},
   "outputs": [
    {
     "data": {
      "text/plain": [
       "Document(metadata={'source': 'movies.csv', 'row': 2}, page_content='movie_id: 103\\ntitle: Thor: The Dark World\\nindustry: Hollywood\\nrelease_year: 2013\\nimdb_rating: 6.8\\nstudio: Marvel Studios\\nlanguage_id: 5\\nbudget: 165\\nrevenue: 644.8\\nunit: Millions\\ncurrency: USD')"
      ]
     },
     "execution_count": 19,
     "metadata": {},
     "output_type": "execute_result"
    }
   ],
   "source": [
    "csv_data[2]"
   ]
  },
  {
   "cell_type": "code",
   "execution_count": 20,
   "id": "39318cce-04a1-41fe-b552-6c58885349a7",
   "metadata": {},
   "outputs": [
    {
     "data": {
      "text/plain": [
       "{'source': 'movies.csv', 'row': 1}"
      ]
     },
     "execution_count": 20,
     "metadata": {},
     "output_type": "execute_result"
    }
   ],
   "source": [
    "csv_data[1].metadata"
   ]
  },
  {
   "cell_type": "code",
   "execution_count": 21,
   "id": "9e4c6bca-d166-4b1a-9da9-f2d13d2acb17",
   "metadata": {},
   "outputs": [],
   "source": [
    "\n",
    "loader = CSVLoader(\"movies.csv\", source_column='title')\n",
    "csv_data = loader.load()"
   ]
  },
  {
   "cell_type": "code",
   "execution_count": 22,
   "id": "96b73d22-c19d-4ecf-aae6-be9e5271497b",
   "metadata": {},
   "outputs": [
    {
     "data": {
      "text/plain": [
       "[Document(metadata={'source': 'K.G.F: Chapter 2', 'row': 0}, page_content='movie_id: 101\\ntitle: K.G.F: Chapter 2\\nindustry: Bollywood\\nrelease_year: 2022\\nimdb_rating: 8.4\\nstudio: Hombale Films\\nlanguage_id: 3\\nbudget: 1\\nrevenue: 12.5\\nunit: Billions\\ncurrency: INR'),\n",
       " Document(metadata={'source': 'Doctor Strange in the Multiverse of Madness', 'row': 1}, page_content='movie_id: 102\\ntitle: Doctor Strange in the Multiverse of Madness\\nindustry: Hollywood\\nrelease_year: 2022\\nimdb_rating: 7\\nstudio: Marvel Studios\\nlanguage_id: 5\\nbudget: 200\\nrevenue: 954.8\\nunit: Millions\\ncurrency: USD'),\n",
       " Document(metadata={'source': 'Thor: The Dark World', 'row': 2}, page_content='movie_id: 103\\ntitle: Thor: The Dark World\\nindustry: Hollywood\\nrelease_year: 2013\\nimdb_rating: 6.8\\nstudio: Marvel Studios\\nlanguage_id: 5\\nbudget: 165\\nrevenue: 644.8\\nunit: Millions\\ncurrency: USD'),\n",
       " Document(metadata={'source': 'Thor: Ragnarok', 'row': 3}, page_content='movie_id: 104\\ntitle: Thor: Ragnarok\\nindustry: Hollywood\\nrelease_year: 2017\\nimdb_rating: 7.9\\nstudio: Marvel Studios\\nlanguage_id: 5\\nbudget: 180\\nrevenue: 854\\nunit: Millions\\ncurrency: USD'),\n",
       " Document(metadata={'source': 'Thor: Love and Thunder', 'row': 4}, page_content='movie_id: 105\\ntitle: Thor: Love and Thunder\\nindustry: Hollywood\\nrelease_year: 2022\\nimdb_rating: 6.8\\nstudio: Marvel Studios\\nlanguage_id: 5\\nbudget: 250\\nrevenue: 670\\nunit: Millions\\ncurrency: USD'),\n",
       " Document(metadata={'source': 'Sholay', 'row': 5}, page_content='movie_id: 106\\ntitle: Sholay\\nindustry: Bollywood\\nrelease_year: 1975\\nimdb_rating: 8.1\\nstudio: United Producers\\nlanguage_id: 1\\nbudget: Not Available\\nrevenue: Not Available\\nunit: Not Available\\ncurrency: Not Available'),\n",
       " Document(metadata={'source': 'Dilwale Dulhania Le Jayenge', 'row': 6}, page_content='movie_id: 107\\ntitle: Dilwale Dulhania Le Jayenge\\nindustry: Bollywood\\nrelease_year: 1995\\nimdb_rating: 8\\nstudio: Yash Raj Films\\nlanguage_id: 1\\nbudget: 400\\nrevenue: 2000\\nunit: Millions\\ncurrency: INR'),\n",
       " Document(metadata={'source': '3 Idiots', 'row': 7}, page_content='movie_id: 108\\ntitle: 3 Idiots\\nindustry: Bollywood\\nrelease_year: 2009\\nimdb_rating: 8.4\\nstudio: Vinod Chopra Films\\nlanguage_id: 1\\nbudget: 550\\nrevenue: 4000\\nunit: Millions\\ncurrency: INR'),\n",
       " Document(metadata={'source': 'Kabhi Khushi Kabhie Gham', 'row': 8}, page_content='movie_id: 109\\ntitle: Kabhi Khushi Kabhie Gham\\nindustry: Bollywood\\nrelease_year: 2001\\nimdb_rating: 7.4\\nstudio: Dharma Productions\\nlanguage_id: 1\\nbudget: 390\\nrevenue: 1360\\nunit: Millions\\ncurrency: INR')]"
      ]
     },
     "execution_count": 22,
     "metadata": {},
     "output_type": "execute_result"
    }
   ],
   "source": [
    "csv_data"
   ]
  },
  {
   "cell_type": "code",
   "execution_count": 23,
   "id": "a938f302-60f1-427e-8fce-9320755e670a",
   "metadata": {},
   "outputs": [
    {
     "data": {
      "text/plain": [
       "{'source': 'K.G.F: Chapter 2', 'row': 0}"
      ]
     },
     "execution_count": 23,
     "metadata": {},
     "output_type": "execute_result"
    }
   ],
   "source": [
    "csv_data[0].metadata"
   ]
  },
  {
   "cell_type": "markdown",
   "id": "84099e59-52bb-4c92-9812-3ee0b9a05562",
   "metadata": {},
   "source": [
    "# Loading data from URLs "
   ]
  },
  {
   "cell_type": "code",
   "execution_count": 24,
   "id": "da849d4b-1631-40e5-a510-4cbd1d662598",
   "metadata": {},
   "outputs": [
    {
     "name": "stdout",
     "output_type": "stream",
     "text": [
      "Collecting unstructured\n",
      "  Downloading unstructured-0.16.20-py3-none-any.whl.metadata (24 kB)\n",
      "Requirement already satisfied: chardet in e:\\anaconda\\lib\\site-packages (from unstructured) (4.0.0)\n",
      "Collecting filetype (from unstructured)\n",
      "  Downloading filetype-1.2.0-py2.py3-none-any.whl.metadata (6.5 kB)\n",
      "Collecting python-magic (from unstructured)\n",
      "  Downloading python_magic-0.4.27-py2.py3-none-any.whl.metadata (5.8 kB)\n",
      "Requirement already satisfied: lxml in e:\\anaconda\\lib\\site-packages (from unstructured) (5.2.1)\n",
      "Requirement already satisfied: nltk in e:\\anaconda\\lib\\site-packages (from unstructured) (3.9.1)\n",
      "Requirement already satisfied: requests in e:\\anaconda\\lib\\site-packages (from unstructured) (2.32.3)\n",
      "Requirement already satisfied: beautifulsoup4 in e:\\anaconda\\lib\\site-packages (from unstructured) (4.12.3)\n",
      "Collecting emoji (from unstructured)\n",
      "  Downloading emoji-2.14.1-py3-none-any.whl.metadata (5.7 kB)\n",
      "Requirement already satisfied: dataclasses-json in e:\\anaconda\\lib\\site-packages (from unstructured) (0.6.7)\n",
      "Collecting python-iso639 (from unstructured)\n",
      "  Downloading python_iso639-2025.2.8-py3-none-any.whl.metadata (14 kB)\n",
      "Collecting langdetect (from unstructured)\n",
      "  Downloading langdetect-1.0.9.tar.gz (981 kB)\n",
      "     ---------------------------------------- 0.0/981.5 kB ? eta -:--:--\n",
      "     ---------- ----------------------------- 262.1/981.5 kB ? eta -:--:--\n",
      "     -------------------- ----------------- 524.3/981.5 kB 1.3 MB/s eta 0:00:01\n",
      "     -------------------------------------- 981.5/981.5 kB 1.8 MB/s eta 0:00:00\n",
      "  Preparing metadata (setup.py): started\n",
      "  Preparing metadata (setup.py): finished with status 'done'\n",
      "Requirement already satisfied: numpy<2 in e:\\anaconda\\lib\\site-packages (from unstructured) (1.26.4)\n",
      "Collecting rapidfuzz (from unstructured)\n",
      "  Downloading rapidfuzz-3.12.1-cp312-cp312-win_amd64.whl.metadata (11 kB)\n",
      "Collecting backoff (from unstructured)\n",
      "  Downloading backoff-2.2.1-py3-none-any.whl.metadata (14 kB)\n",
      "Requirement already satisfied: typing-extensions in e:\\anaconda\\lib\\site-packages (from unstructured) (4.11.0)\n",
      "Collecting unstructured-client (from unstructured)\n",
      "  Downloading unstructured_client-0.30.0-py3-none-any.whl.metadata (23 kB)\n",
      "Requirement already satisfied: wrapt in e:\\anaconda\\lib\\site-packages (from unstructured) (1.14.1)\n",
      "Requirement already satisfied: tqdm in e:\\anaconda\\lib\\site-packages (from unstructured) (4.66.5)\n",
      "Requirement already satisfied: psutil in e:\\anaconda\\lib\\site-packages (from unstructured) (5.9.0)\n",
      "Collecting python-oxmsg (from unstructured)\n",
      "  Downloading python_oxmsg-0.0.2-py3-none-any.whl.metadata (5.0 kB)\n",
      "Collecting html5lib (from unstructured)\n",
      "  Downloading html5lib-1.1-py2.py3-none-any.whl.metadata (16 kB)\n",
      "Requirement already satisfied: soupsieve>1.2 in e:\\anaconda\\lib\\site-packages (from beautifulsoup4->unstructured) (2.5)\n",
      "Requirement already satisfied: marshmallow<4.0.0,>=3.18.0 in e:\\anaconda\\lib\\site-packages (from dataclasses-json->unstructured) (3.26.1)\n",
      "Requirement already satisfied: typing-inspect<1,>=0.4.0 in e:\\anaconda\\lib\\site-packages (from dataclasses-json->unstructured) (0.9.0)\n",
      "Requirement already satisfied: six>=1.9 in e:\\anaconda\\lib\\site-packages (from html5lib->unstructured) (1.16.0)\n",
      "Requirement already satisfied: webencodings in e:\\anaconda\\lib\\site-packages (from html5lib->unstructured) (0.5.1)\n",
      "Requirement already satisfied: click in e:\\anaconda\\lib\\site-packages (from nltk->unstructured) (8.1.7)\n",
      "Requirement already satisfied: joblib in e:\\anaconda\\lib\\site-packages (from nltk->unstructured) (1.4.2)\n",
      "Requirement already satisfied: regex>=2021.8.3 in e:\\anaconda\\lib\\site-packages (from nltk->unstructured) (2024.9.11)\n",
      "Collecting olefile (from python-oxmsg->unstructured)\n",
      "  Downloading olefile-0.47-py2.py3-none-any.whl.metadata (9.7 kB)\n",
      "Requirement already satisfied: charset-normalizer<4,>=2 in e:\\anaconda\\lib\\site-packages (from requests->unstructured) (3.3.2)\n",
      "Requirement already satisfied: idna<4,>=2.5 in e:\\anaconda\\lib\\site-packages (from requests->unstructured) (3.7)\n",
      "Requirement already satisfied: urllib3<3,>=1.21.1 in e:\\anaconda\\lib\\site-packages (from requests->unstructured) (2.2.3)\n",
      "Requirement already satisfied: certifi>=2017.4.17 in e:\\anaconda\\lib\\site-packages (from requests->unstructured) (2024.8.30)\n",
      "Requirement already satisfied: colorama in e:\\anaconda\\lib\\site-packages (from tqdm->unstructured) (0.4.6)\n",
      "Collecting aiofiles>=24.1.0 (from unstructured-client->unstructured)\n",
      "  Downloading aiofiles-24.1.0-py3-none-any.whl.metadata (10 kB)\n",
      "Requirement already satisfied: cryptography>=3.1 in e:\\anaconda\\lib\\site-packages (from unstructured-client->unstructured) (43.0.0)\n",
      "Collecting eval-type-backport>=0.2.0 (from unstructured-client->unstructured)\n",
      "  Downloading eval_type_backport-0.2.2-py3-none-any.whl.metadata (2.2 kB)\n",
      "Requirement already satisfied: httpx>=0.27.0 in e:\\anaconda\\lib\\site-packages (from unstructured-client->unstructured) (0.27.0)\n",
      "Requirement already satisfied: nest-asyncio>=1.6.0 in e:\\anaconda\\lib\\site-packages (from unstructured-client->unstructured) (1.6.0)\n",
      "Collecting pydantic>=2.10.3 (from unstructured-client->unstructured)\n",
      "  Downloading pydantic-2.10.6-py3-none-any.whl.metadata (30 kB)\n",
      "Collecting pypdf>=4.0 (from unstructured-client->unstructured)\n",
      "  Downloading pypdf-5.3.0-py3-none-any.whl.metadata (7.2 kB)\n",
      "Requirement already satisfied: python-dateutil>=2.8.2 in e:\\anaconda\\lib\\site-packages (from unstructured-client->unstructured) (2.9.0.post0)\n",
      "Requirement already satisfied: requests-toolbelt>=1.0.0 in e:\\anaconda\\lib\\site-packages (from unstructured-client->unstructured) (1.0.0)\n",
      "Requirement already satisfied: cffi>=1.12 in e:\\anaconda\\lib\\site-packages (from cryptography>=3.1->unstructured-client->unstructured) (1.17.1)\n",
      "Requirement already satisfied: anyio in e:\\anaconda\\lib\\site-packages (from httpx>=0.27.0->unstructured-client->unstructured) (4.2.0)\n",
      "Requirement already satisfied: httpcore==1.* in e:\\anaconda\\lib\\site-packages (from httpx>=0.27.0->unstructured-client->unstructured) (1.0.2)\n",
      "Requirement already satisfied: sniffio in e:\\anaconda\\lib\\site-packages (from httpx>=0.27.0->unstructured-client->unstructured) (1.3.0)\n",
      "Requirement already satisfied: h11<0.15,>=0.13 in e:\\anaconda\\lib\\site-packages (from httpcore==1.*->httpx>=0.27.0->unstructured-client->unstructured) (0.14.0)\n",
      "Requirement already satisfied: packaging>=17.0 in e:\\anaconda\\lib\\site-packages (from marshmallow<4.0.0,>=3.18.0->dataclasses-json->unstructured) (24.1)\n",
      "Requirement already satisfied: annotated-types>=0.6.0 in e:\\anaconda\\lib\\site-packages (from pydantic>=2.10.3->unstructured-client->unstructured) (0.6.0)\n",
      "Collecting pydantic-core==2.27.2 (from pydantic>=2.10.3->unstructured-client->unstructured)\n",
      "  Downloading pydantic_core-2.27.2-cp312-cp312-win_amd64.whl.metadata (6.7 kB)\n",
      "Collecting typing-extensions (from unstructured)\n",
      "  Downloading typing_extensions-4.12.2-py3-none-any.whl.metadata (3.0 kB)\n",
      "Requirement already satisfied: mypy-extensions>=0.3.0 in e:\\anaconda\\lib\\site-packages (from typing-inspect<1,>=0.4.0->dataclasses-json->unstructured) (1.0.0)\n",
      "Requirement already satisfied: pycparser in e:\\anaconda\\lib\\site-packages (from cffi>=1.12->cryptography>=3.1->unstructured-client->unstructured) (2.21)\n",
      "Downloading unstructured-0.16.20-py3-none-any.whl (1.8 MB)\n",
      "   ---------------------------------------- 0.0/1.8 MB ? eta -:--:--\n",
      "   ----------- ---------------------------- 0.5/1.8 MB 3.4 MB/s eta 0:00:01\n",
      "   ----------------------------- ---------- 1.3/1.8 MB 3.2 MB/s eta 0:00:01\n",
      "   ---------------------------------------- 1.8/1.8 MB 2.9 MB/s eta 0:00:00\n",
      "Downloading backoff-2.2.1-py3-none-any.whl (15 kB)\n",
      "Downloading emoji-2.14.1-py3-none-any.whl (590 kB)\n",
      "   ---------------------------------------- 0.0/590.6 kB ? eta -:--:--\n",
      "   ----------------------------------- ---- 524.3/590.6 kB 3.3 MB/s eta 0:00:01\n",
      "   ---------------------------------------- 590.6/590.6 kB 2.6 MB/s eta 0:00:00\n",
      "Downloading filetype-1.2.0-py2.py3-none-any.whl (19 kB)\n",
      "Downloading html5lib-1.1-py2.py3-none-any.whl (112 kB)\n",
      "Downloading python_iso639-2025.2.8-py3-none-any.whl (167 kB)\n",
      "Downloading python_magic-0.4.27-py2.py3-none-any.whl (13 kB)\n",
      "Downloading python_oxmsg-0.0.2-py3-none-any.whl (31 kB)\n",
      "Downloading rapidfuzz-3.12.1-cp312-cp312-win_amd64.whl (1.6 MB)\n",
      "   ---------------------------------------- 0.0/1.6 MB ? eta -:--:--\n",
      "   ------------- -------------------------- 0.5/1.6 MB 3.4 MB/s eta 0:00:01\n",
      "   -------------------------------- ------- 1.3/1.6 MB 3.4 MB/s eta 0:00:01\n",
      "   ---------------------------------------- 1.6/1.6 MB 3.0 MB/s eta 0:00:00\n",
      "Downloading unstructured_client-0.30.0-py3-none-any.whl (112 kB)\n",
      "Downloading aiofiles-24.1.0-py3-none-any.whl (15 kB)\n",
      "Downloading eval_type_backport-0.2.2-py3-none-any.whl (5.8 kB)\n",
      "Downloading pydantic-2.10.6-py3-none-any.whl (431 kB)\n",
      "Downloading pydantic_core-2.27.2-cp312-cp312-win_amd64.whl (2.0 MB)\n",
      "   ---------------------------------------- 0.0/2.0 MB ? eta -:--:--\n",
      "   ---------- ----------------------------- 0.5/2.0 MB 5.6 MB/s eta 0:00:01\n",
      "   -------------------------- ------------- 1.3/2.0 MB 3.5 MB/s eta 0:00:01\n",
      "   ------------------------------------ --- 1.8/2.0 MB 3.2 MB/s eta 0:00:01\n",
      "   ---------------------------------------- 2.0/2.0 MB 2.9 MB/s eta 0:00:00\n",
      "Downloading typing_extensions-4.12.2-py3-none-any.whl (37 kB)\n",
      "Downloading pypdf-5.3.0-py3-none-any.whl (300 kB)\n",
      "Downloading olefile-0.47-py2.py3-none-any.whl (114 kB)\n",
      "Building wheels for collected packages: langdetect\n",
      "  Building wheel for langdetect (setup.py): started\n",
      "  Building wheel for langdetect (setup.py): finished with status 'done'\n",
      "  Created wheel for langdetect: filename=langdetect-1.0.9-py3-none-any.whl size=993251 sha256=7b3a9aff8bfb30023c9c45f0c1fd840f8969a0a9f805310422c7aedc8c700ecf\n",
      "  Stored in directory: c:\\users\\thota\\appdata\\local\\pip\\cache\\wheels\\c1\\67\\88\\e844b5b022812e15a52e4eaa38a1e709e99f06f6639d7e3ba7\n",
      "Successfully built langdetect\n",
      "Installing collected packages: filetype, typing-extensions, rapidfuzz, python-magic, python-iso639, pypdf, olefile, langdetect, html5lib, eval-type-backport, emoji, backoff, aiofiles, python-oxmsg, pydantic-core, pydantic, unstructured-client, unstructured\n",
      "  Attempting uninstall: typing-extensions\n",
      "    Found existing installation: typing_extensions 4.11.0\n",
      "    Uninstalling typing_extensions-4.11.0:\n",
      "      Successfully uninstalled typing_extensions-4.11.0\n",
      "  Attempting uninstall: pydantic-core\n",
      "    Found existing installation: pydantic_core 2.20.1\n",
      "    Uninstalling pydantic_core-2.20.1:\n",
      "      Successfully uninstalled pydantic_core-2.20.1\n",
      "  Attempting uninstall: pydantic\n",
      "    Found existing installation: pydantic 2.8.2\n",
      "    Uninstalling pydantic-2.8.2:\n",
      "      Successfully uninstalled pydantic-2.8.2\n",
      "Successfully installed aiofiles-24.1.0 backoff-2.2.1 emoji-2.14.1 eval-type-backport-0.2.2 filetype-1.2.0 html5lib-1.1 langdetect-1.0.9 olefile-0.47 pydantic-2.10.6 pydantic-core-2.27.2 pypdf-5.3.0 python-iso639-2025.2.8 python-magic-0.4.27 python-oxmsg-0.0.2 rapidfuzz-3.12.1 typing-extensions-4.12.2 unstructured-0.16.20 unstructured-client-0.30.0\n"
     ]
    }
   ],
   "source": [
    "!pip install unstructured"
   ]
  },
  {
   "cell_type": "code",
   "execution_count": 25,
   "id": "420417c5-57ce-4c45-9188-665e2aa13f46",
   "metadata": {},
   "outputs": [
    {
     "name": "stderr",
     "output_type": "stream",
     "text": [
      "[nltk_data] Downloading package punkt to\n",
      "[nltk_data]     C:\\Users\\thota\\AppData\\Roaming\\nltk_data...\n",
      "[nltk_data]   Unzipping tokenizers\\punkt.zip.\n"
     ]
    },
    {
     "data": {
      "text/plain": [
       "True"
      ]
     },
     "execution_count": 25,
     "metadata": {},
     "output_type": "execute_result"
    }
   ],
   "source": [
    "import nltk\n",
    "nltk.download('punkt')"
   ]
  },
  {
   "cell_type": "code",
   "execution_count": 26,
   "id": "5833e52c-96c5-4966-84aa-39b397280f61",
   "metadata": {},
   "outputs": [
    {
     "name": "stderr",
     "output_type": "stream",
     "text": [
      "[nltk_data] Downloading package averaged_perceptron_tagger to\n",
      "[nltk_data]     C:\\Users\\thota\\AppData\\Roaming\\nltk_data...\n",
      "[nltk_data]   Unzipping taggers\\averaged_perceptron_tagger.zip.\n"
     ]
    },
    {
     "data": {
      "text/plain": [
       "True"
      ]
     },
     "execution_count": 26,
     "metadata": {},
     "output_type": "execute_result"
    }
   ],
   "source": [
    "import nltk\n",
    "nltk.download('averaged_perceptron_tagger')"
   ]
  },
  {
   "cell_type": "code",
   "execution_count": 27,
   "id": "34b4768f-845b-443a-9adf-ef1cf7e5ce99",
   "metadata": {},
   "outputs": [],
   "source": [
    "from langchain.document_loaders import UnstructuredURLLoader"
   ]
  },
  {
   "cell_type": "code",
   "execution_count": 28,
   "id": "6faa6ae0-ffc2-472e-9d5b-a222290c8df3",
   "metadata": {},
   "outputs": [],
   "source": [
    "loader = UnstructuredURLLoader(\n",
    "    urls = [\n",
    "        \"https://www.moneycontrol.com/news/business/stocks/accumulate-tata-motors-target-of-rs-1075-prabhudas-lilladher-12538061.html\",\n",
    "        \"https://www.moneycontrol.com/news/business/stocks/buy-tata-motors-target-of-rs-1188-sharekhan-12411611.html\",\n",
    "        \"https://www.moneycontrol.com/news/business/stocks/reduce-tata-motors-target-of-rs-901-icici-securities-12411521.html\"\n",
    "        ]\n",
    ")"
   ]
  },
  {
   "cell_type": "code",
   "execution_count": 29,
   "id": "943ccd07-c10b-441d-bd0a-a46e5c818800",
   "metadata": {},
   "outputs": [],
   "source": [
    "data = loader.load()"
   ]
  },
  {
   "cell_type": "code",
   "execution_count": 30,
   "id": "9006cc23-95e9-41e7-b69d-8390e0e2208f",
   "metadata": {},
   "outputs": [
    {
     "data": {
      "text/plain": [
       "[Document(metadata={'source': 'https://www.moneycontrol.com/news/business/stocks/accumulate-tata-motors-target-of-rs-1075-prabhudas-lilladher-12538061.html'}, page_content=\"English\\n\\nHindi\\n\\nGujarati\\n\\nSpecials\\n\\nHello, Login\\n\\nHello, Login\\n\\nLog-inor Sign-Up\\n\\nMy Account\\n\\nMy Profile\\n\\nMy Portfolio\\n\\nMy Watchlist\\n\\nMy Alerts\\n\\nMy Messages\\n\\nPrice Alerts\\n\\nMy Profile\\n\\nMy PRO\\n\\nMy Portfolio\\n\\nMy Watchlist\\n\\nMy Alerts\\n\\nMy Messages\\n\\nPrice Alerts\\n\\nLogout\\n\\nLoans up to ₹50 LAKHS\\n\\nFixed Deposits\\n\\nCredit CardsLifetime Free\\n\\nCredit Score\\n\\nChat with Us\\n\\nDownload App\\n\\nFollow us on:\\n\\nGo Ad-Free\\n\\nMy Alerts\\n\\nco-presented by\\n\\nassociated by\\n\\nBusiness\\n\\nMarkets\\n\\nStocks\\n\\nEconomy\\n\\nCompanies\\n\\nTrends\\n\\nIPO\\n\\nOpinion\\n\\nEV Special\\n\\nOptions FestWebinar\\n\\nHomeNewsBusinessStocksAccumulate Tata Motors; target of Rs 1075: Prabhudas Lilladher\\n\\nTrending Topics\\n\\nIndia Market capJioHotstar launchIndian RupeeNew India Co-operative Bank NewsGST Council Rate Cut\\n\\nAccumulate Tata Motors; target of Rs 1075: Prabhudas Lilladher\\n\\nPrabhudas Lilladher recommended accumulate rating on Tata Motors with a target price of Rs 1075 in its research report dated March 28, 2024.\\n\\nBroker Research\\n\\nMarch 28, 2024 / 19:52 IST\\n\\nAccumulate\\n\\nWatchlist\\n\\nPortfolio\\n\\nMessage\\n\\nSet Alert\\n\\nlive\\n\\nbselive\\n\\nnselive\\n\\nVolume\\n\\nTodays L/H\\n\\nMore\\n\\nPrabhudas Lilladher's research report on Tata Motors\\n\\nWe met with Tata Motors' management to understand the rationale behind the demerger and receive general business updates. TTMT is on track to meet its outlined operational metrics, viewing the demerger as having no impact on these objectives. TTMT expects demerger to offer greater maneuverability, aiming for both entities to operate in a self-sustaining manner. Although we see limited benefits in terms of value unlocking, TTMT's confidence reassures us of a sustainable recovery in both the India PV and JLR. We remain positive on Tata Motors based on: 1) JLR’s volume ramp-up, leading to strong revenue, profitability, and FCF; 2) a focus on increasing market share in the PV segment through model launches and rising EV penetration; and 3) profitable and robust FCF performance, driven by margin expansion in the CV segment. We have adjusted our estimates primarily for the India businesses, resulting in a consolidated EPS change of 0.4% for FY24-FY26E, with an estimated CAGR of 12.4% over the same period.\\n\\nStory continues below Advertisement\\n\\nRemove Ad\\n\\nOutlook\\n\\nWe have increased our EV/EBITDA multiple for the India PV business to 13x to align it more closely with Maruti Suzuki. Consequently, our SoTP-based TP has been revised upwards to Rs. 1,075. However, given the stock's sharp runup over the last three months, we are downgrading our recommendation to 'ACCUMULATE' from 'Buy'.\\n\\nFor all IPO report, click here\\n\\nRelated stories\\n\\nBuy Power Finance Corporation; target of Rs 475: Motilal Oswal\\n\\nBuy Crompton Greaves Consumer Electricals; target of Rs 425: LKP Research\\n\\nBuy Ashok Leyland; target of Rs 266: LKP Research\\n\\nDisclaimer: The views and investment tips expressed by investment experts/broking houses/rating agencies on moneycontrol.com are their own, and not that of the website or its management. Moneycontrol.com advises users to check with certified experts before taking any investment decisions.\\n\\nTata Motors - 28032024 - prabhu\\n\\nBroker Research\\n\\nfirst published: Mar 28, 2024 03:36 pm\\n\\nDiscover the latest Business News, Budget 2025 News, Sensex, and Nifty updates. Obtain Personal Finance insights, tax queries, and expert opinions on Moneycontrol or download the Moneycontrol App to stay updated!\\n\\nAdvertisement\\n\\nRemove Ad\\n\\nTrending news\\n\\nHere's what PM Modi gifted Elon Musk's 3 children during meeting in US. Hint: They are classics\\n\\n'It was an honour to meet': Elon Musk on meeting with PM Modi in US\\n\\nCRPF officer Poonam Gupta ties the knot at Rashtrapati Bhavan in historic ceremony. Watch\\n\\nStudent denied admit card over non-payment of school fees, anonymous donor steps in. Heartwarming post\\n\\nJPMorgan CEO Jamie Dimon dismisses work-from-home demands, stands by 5-day office rule: 'Don't waste time'\\n\\nAdvisory Alert:\\n\\nFollow Us On:\\n\\nStocks: A B C D E F G H I J K L M N O P Q R S T U V W X Y Z Others\\n\\nTrending Topics\\n\\nSensex Today PM Modi US Visit Live Modi Trump Meeting Outcome Trump Reciprocal Tariffs Happy Valentines Day Trump on Bangladesh New India Co-operative Bank India Market Cap Pulwama Attack Anniversary CBSE Date Sheet 2025\\n\\nNews\\n\\nBusiness Budget 2025 Markets Stocks India News Economy Mutual Funds Personal Finance IPO News Startups\\n\\nMarkets\\n\\nHome Currencies Commodities Pre-Market IPO Global Market\\n\\nPersonal Finance\\n\\nHome Loans up to 50 Lakhs Credit Cards Lifetime Free Finance TrackerNew Fixed DepositsNew Fixed Income\\n\\nMutual Funds\\n\\nHome MC 30 Top Ranked Funds ETFs Mutual Fund Screener\\n\\nTools\\n\\nIncome Tax Calculator EMI Calculator Retirement Planning Gratuity Calculator\\n\\nCommunity\\n\\nStock Markets\\n\\nNetwork 18 Sites\\n\\nNews18 Firstpost CNBC TV18 News18 Hindi Cricketnext Overdrive Topper Learning\\n\\nQuick Links\\n\\nAbout Us Contact Us Advisory Alert Advertise with Us SupportDisclaimer Privacy Policy Cookie Policy Terms & Conditions Financial Terms (Glossary) Sitemap Investors\\n\\nDownload MC Apps:\\n\\nCopyright © Network18 Media & Investments Limited. All rights reserved. Reproduction of news articles, photos, videos or any other content in whole or in part in any form or medium without express written permission of moneycontrol.com is prohibited.\\n\\nYou got 30 Day’s Trial of\\n\\nGrab it Now\\n\\nAd-Free Experience\\n\\nTop Articles from Financial Times\\n\\nActionable Insights\\n\\nMC Research\\n\\nEconomic Calendar\\n\\n& Many More\\n\\nYou are already a Moneycontrol Pro user.\\n\\nSubhash Helgaokar\"),\n",
       " Document(metadata={'source': 'https://www.moneycontrol.com/news/business/stocks/buy-tata-motors-target-of-rs-1188-sharekhan-12411611.html'}, page_content=\"English\\n\\nHindi\\n\\nGujarati\\n\\nSpecials\\n\\nHello, Login\\n\\nHello, Login\\n\\nLog-inor Sign-Up\\n\\nMy Account\\n\\nMy Profile\\n\\nMy Portfolio\\n\\nMy Watchlist\\n\\nMy Alerts\\n\\nMy Messages\\n\\nPrice Alerts\\n\\nMy Profile\\n\\nMy PRO\\n\\nMy Portfolio\\n\\nMy Watchlist\\n\\nMy Alerts\\n\\nMy Messages\\n\\nPrice Alerts\\n\\nLogout\\n\\nLoans up to ₹50 LAKHS\\n\\nFixed Deposits\\n\\nCredit CardsLifetime Free\\n\\nCredit Score\\n\\nChat with Us\\n\\nDownload App\\n\\nFollow us on:\\n\\nGo Ad-Free\\n\\nMy Alerts\\n\\nco-presented by\\n\\nassociated by\\n\\nBusiness\\n\\nMarkets\\n\\nStocks\\n\\nEconomy\\n\\nCompanies\\n\\nTrends\\n\\nIPO\\n\\nOpinion\\n\\nEV Special\\n\\nOptions FestWebinar\\n\\nHomeNewsBusinessStocksBuy Tata Motors; target of Rs 1188: Sharekhan\\n\\nTrending Topics\\n\\nIndia Market capJioHotstar launchIndian RupeeNew India Co-operative Bank NewsGST Council Rate Cut\\n\\nBuy Tata Motors; target of Rs 1188: Sharekhan\\n\\nSharekhan is bullish on Tata Motors has recommended buy rating on the stock with a target price of Rs 1188 in its research report dated March 05, 2024.\\n\\nBroker Research\\n\\nMarch 06, 2024 / 13:41 IST\\n\\nBuy\\n\\nWatchlist\\n\\nPortfolio\\n\\nMessage\\n\\nSet Alert\\n\\nlive\\n\\nbselive\\n\\nnselive\\n\\nVolume\\n\\nTodays L/H\\n\\nMore\\n\\nSharekhan's research report on Tata Motors\\n\\nTata Motors Ltd plans to separately list its CV and PV businesses in equity markets. TML has been consistently showing an improvement in all of its business segments.\\n\\nStory continues below Advertisement\\n\\nRemove Ad\\n\\nOutlook\\n\\nWe maintain a Buy with a revised PT of Rs 1,188 on expectations of continued improvement in JLR, PV and CV business and reduced net automotive debt from current levels. Stock trades at P/E multiple of 14.6x and EV/EBITDA multiple of 5.6x its FY26E estimates.\\n\\nFor all recommendations report, click here\\n\\nDisclaimer: The views and investment tips expressed by investment experts/broking houses/rating agencies on moneycontrol.com are their own, and not that of the website or its management. Moneycontrol.com advises users to check with certified experts before taking any investment decisions.\\n\\nTata Motors - 06032024 - khan\\n\\nBroker Research\\n\\nfirst published: Mar 6, 2024 01:41 pm\\n\\nDiscover the latest Business News, Budget 2025 News, Sensex, and Nifty updates. Obtain Personal Finance insights, tax queries, and expert opinions on Moneycontrol or download the Moneycontrol App to stay updated!\\n\\nAdvertisement\\n\\nRemove Ad\\n\\nAdvisory Alert:\\n\\nFollow Us On:\\n\\nStocks: A B C D E F G H I J K L M N O P Q R S T U V W X Y Z Others\\n\\nTrending Topics\\n\\nSensex Today PM Modi US Visit Live Modi Trump Meeting Outcome Trump Reciprocal Tariffs Happy Valentines Day Trump on Bangladesh New India Co-operative Bank India Market Cap Pulwama Attack Anniversary CBSE Date Sheet 2025\\n\\nNews\\n\\nBusiness Budget 2025 Markets Stocks India News Economy Mutual Funds Personal Finance IPO News Startups\\n\\nMarkets\\n\\nHome Currencies Commodities Pre-Market IPO Global Market\\n\\nPersonal Finance\\n\\nHome Loans up to 50 Lakhs Credit Cards Lifetime Free Finance TrackerNew Fixed DepositsNew Fixed Income\\n\\nMutual Funds\\n\\nHome MC 30 Top Ranked Funds ETFs Mutual Fund Screener\\n\\nTools\\n\\nIncome Tax Calculator EMI Calculator Retirement Planning Gratuity Calculator\\n\\nCommunity\\n\\nStock Markets\\n\\nNetwork 18 Sites\\n\\nNews18 Firstpost CNBC TV18 News18 Hindi Cricketnext Overdrive Topper Learning\\n\\nQuick Links\\n\\nAbout Us Contact Us Advisory Alert Advertise with Us SupportDisclaimer Privacy Policy Cookie Policy Terms & Conditions Financial Terms (Glossary) Sitemap Investors\\n\\nDownload MC Apps:\\n\\nCopyright © Network18 Media & Investments Limited. All rights reserved. Reproduction of news articles, photos, videos or any other content in whole or in part in any form or medium without express written permission of moneycontrol.com is prohibited.\\n\\nYou got 30 Day’s Trial of\\n\\nGrab it Now\\n\\nAd-Free Experience\\n\\nTop Articles from Financial Times\\n\\nActionable Insights\\n\\nMC Research\\n\\nEconomic Calendar\\n\\n& Many More\\n\\nYou are already a Moneycontrol Pro user.\\n\\nSubhash Helgaokar\"),\n",
       " Document(metadata={'source': 'https://www.moneycontrol.com/news/business/stocks/reduce-tata-motors-target-of-rs-901-icici-securities-12411521.html'}, page_content=\"English\\n\\nHindi\\n\\nGujarati\\n\\nSpecials\\n\\nHello, Login\\n\\nHello, Login\\n\\nLog-inor Sign-Up\\n\\nMy Account\\n\\nMy Profile\\n\\nMy Portfolio\\n\\nMy Watchlist\\n\\nMy Alerts\\n\\nMy Messages\\n\\nPrice Alerts\\n\\nMy Profile\\n\\nMy PRO\\n\\nMy Portfolio\\n\\nMy Watchlist\\n\\nMy Alerts\\n\\nMy Messages\\n\\nPrice Alerts\\n\\nLogout\\n\\nLoans up to ₹50 LAKHS\\n\\nFixed Deposits\\n\\nCredit CardsLifetime Free\\n\\nCredit Score\\n\\nChat with Us\\n\\nDownload App\\n\\nFollow us on:\\n\\nGo Ad-Free\\n\\nMy Alerts\\n\\nco-presented by\\n\\nassociated by\\n\\nBusiness\\n\\nMarkets\\n\\nStocks\\n\\nEconomy\\n\\nCompanies\\n\\nTrends\\n\\nIPO\\n\\nOpinion\\n\\nEV Special\\n\\nOptions FestWebinar\\n\\nHomeNewsBusinessStocksReduce Tata Motors; target of Rs 901: ICICI Securities\\n\\nTrending Topics\\n\\nIndia Market capJioHotstar launchIndian RupeeNew India Co-operative Bank NewsGST Council Rate Cut\\n\\nReduce Tata Motors; target of Rs 901: ICICI Securities\\n\\nICICI Securities recommended reduce rating on Tata Motors with a target price of Rs 901 in its research report dated March 06, 2024.\\n\\nBroker Research\\n\\nMarch 06, 2024 / 12:57 IST\\n\\nreduce\\n\\nWatchlist\\n\\nPortfolio\\n\\nMessage\\n\\nSet Alert\\n\\nlive\\n\\nbselive\\n\\nnselive\\n\\nVolume\\n\\nTodays L/H\\n\\nMore\\n\\nICICI Securities research report on Tata Motors\\n\\nTata Motors (TTMT) approved proposal of demerger of existing listed entity into two listed entities, one w.r.t CVs plus related investments and the other including JLR, India PVs/EVs. With identical shareholding post demerger, we believe this development would help investors manage their holdings in the CV business, as per their assessment of CV cycle’s trends. This demerger, in our view, would bring to the fore the synergistic benefits within the PV domain more efficiently and help TTMT unlock further value in domestic PVs vs. valuing India CV+PVs at 10-12x EV/EBITDA – India PVs shall be valued at 15x EV/EBITDA, 10% discount to MSIL, pushing up overall valuation by ~6%.\\n\\nStory continues below Advertisement\\n\\nRemove Ad\\n\\nOutlook\\n\\nWe downgrade TTMT to REDUCE from Hold, post its ~40% rally in past three months, with an SoTP-based TP of INR 901 (implying ~13x/2.5x FY26E India/JLR EV/EBITDA).\\n\\nFor all recommendations report, click here\\n\\nRelated stories\\n\\nBuy Power Finance Corporation; target of Rs 475: Motilal Oswal\\n\\nBuy Crompton Greaves Consumer Electricals; target of Rs 425: LKP Research\\n\\nBuy Ashok Leyland; target of Rs 266: LKP Research\\n\\nDisclaimer: The views and investment tips expressed by investment experts/broking houses/rating agencies on moneycontrol.com are their own, and not that of the website or its management. Moneycontrol.com advises users to check with certified experts before taking any investment decisions.\\n\\nTata Motors - 06032024 -ici\\n\\nBroker Research\\n\\nfirst published: Mar 6, 2024 12:49 pm\\n\\nDiscover the latest Business News, Budget 2025 News, Sensex, and Nifty updates. Obtain Personal Finance insights, tax queries, and expert opinions on Moneycontrol or download the Moneycontrol App to stay updated!\\n\\nAdvertisement\\n\\nRemove Ad\\n\\nTrending news\\n\\nHere's what PM Modi gifted Elon Musk's 3 children during meeting in US. Hint: They are classics\\n\\n'It was an honour to meet': Elon Musk on meeting with PM Modi in US\\n\\nCRPF officer Poonam Gupta ties the knot at Rashtrapati Bhavan in historic ceremony. Watch\\n\\nStudent denied admit card over non-payment of school fees, anonymous donor steps in. Heartwarming post\\n\\nJPMorgan CEO Jamie Dimon dismisses work-from-home demands, stands by 5-day office rule: 'Don't waste time'\\n\\nAdvisory Alert:\\n\\nFollow Us On:\\n\\nStocks: A B C D E F G H I J K L M N O P Q R S T U V W X Y Z Others\\n\\nTrending Topics\\n\\nSensex Today PM Modi US Visit Live Modi Trump Meeting Outcome Trump Reciprocal Tariffs Happy Valentines Day Trump on Bangladesh New India Co-operative Bank India Market Cap Pulwama Attack Anniversary CBSE Date Sheet 2025\\n\\nNews\\n\\nBusiness Budget 2025 Markets Stocks India News Economy Mutual Funds Personal Finance IPO News Startups\\n\\nMarkets\\n\\nHome Currencies Commodities Pre-Market IPO Global Market\\n\\nPersonal Finance\\n\\nHome Loans up to 50 Lakhs Credit Cards Lifetime Free Finance TrackerNew Fixed DepositsNew Fixed Income\\n\\nMutual Funds\\n\\nHome MC 30 Top Ranked Funds ETFs Mutual Fund Screener\\n\\nTools\\n\\nIncome Tax Calculator EMI Calculator Retirement Planning Gratuity Calculator\\n\\nCommunity\\n\\nStock Markets\\n\\nNetwork 18 Sites\\n\\nNews18 Firstpost CNBC TV18 News18 Hindi Cricketnext Overdrive Topper Learning\\n\\nQuick Links\\n\\nAbout Us Contact Us Advisory Alert Advertise with Us SupportDisclaimer Privacy Policy Cookie Policy Terms & Conditions Financial Terms (Glossary) Sitemap Investors\\n\\nDownload MC Apps:\\n\\nCopyright © Network18 Media & Investments Limited. All rights reserved. Reproduction of news articles, photos, videos or any other content in whole or in part in any form or medium without express written permission of moneycontrol.com is prohibited.\\n\\nYou got 30 Day’s Trial of\\n\\nGrab it Now\\n\\nAd-Free Experience\\n\\nTop Articles from Financial Times\\n\\nActionable Insights\\n\\nMC Research\\n\\nEconomic Calendar\\n\\n& Many More\\n\\nYou are already a Moneycontrol Pro user.\\n\\nSubhash Helgaokar\")]"
      ]
     },
     "execution_count": 30,
     "metadata": {},
     "output_type": "execute_result"
    }
   ],
   "source": [
    "data"
   ]
  },
  {
   "cell_type": "code",
   "execution_count": 35,
   "id": "41ec52e8-b510-4981-91d8-2c1b988a4ed2",
   "metadata": {},
   "outputs": [
    {
     "data": {
      "text/plain": [
       "3"
      ]
     },
     "execution_count": 35,
     "metadata": {},
     "output_type": "execute_result"
    }
   ],
   "source": [
    "len(data)"
   ]
  },
  {
   "cell_type": "code",
   "execution_count": 31,
   "id": "3f19ee20-264d-401b-8c37-77847aa1cc3f",
   "metadata": {},
   "outputs": [
    {
     "data": {
      "text/plain": [
       "{'source': 'https://www.moneycontrol.com/news/business/stocks/buy-tata-motors-target-of-rs-1188-sharekhan-12411611.html'}"
      ]
     },
     "execution_count": 31,
     "metadata": {},
     "output_type": "execute_result"
    }
   ],
   "source": [
    "data[1].metadata"
   ]
  },
  {
   "cell_type": "markdown",
   "id": "73b517a5-4a45-4dc2-9a04-9765e815639a",
   "metadata": {},
   "source": [
    "# Text Splitting "
   ]
  },
  {
   "cell_type": "code",
   "execution_count": 32,
   "id": "fa92c6d9-04c2-4f0e-9438-f7665f231127",
   "metadata": {},
   "outputs": [],
   "source": [
    "text = \"\"\"Tata Motors Limited is an Indian multinational automotive company, headquartered in Mumbai and part of the Tata Group. The company produces cars, trucks, vans, and buses.[7]\n",
    "Subsidiaries include British Jaguar Land Rover and South Korean Tata Daewoo. Tata Motors has joint ventures with Hitachi (Tata Hitachi Construction Machinery) and Stellantis, which makes vehicle parts for Fiat Chrysler and Tata-branded vehicles.\n",
    "Tata Motors has auto manufacturing and vehicle plants in Jamshedpur, Pantnagar, Lucknow, Sanand, Dharwad, and Pune in India, as well as in Argentina, South Africa, the United Kingdom, and Thailand. It has research and development centers in Pune, Jamshedpur, Lucknow, Dharwad, India and South Korea, the United Kingdom, and Spain. Tata Motors is listed on the BSE and NSE, and is a constituent \n",
    "of the BSE SENSEX and NIFTY 50 benchmark indices. The company is ranked 265th on the Fortune Global 500 list of the world's biggest corporations as of 2019.[8]\n",
    "On 17 January 2017, Natarajan Chandrasekaran was appointed chairman of the company Tata Group. Tata Motors increased its UV market share to over 8 precent in FY2019.[9]\n",
    "\n",
    "History\n",
    "Tata Sierra (1991-2000)\n",
    "Tata Sumo (1994–2019)\n",
    "Tata Motors was founded in 1945, as a locomotive manufacturer. Tata Group entered the commercial vehicle sector in 1954 after forming a joint venture with Daimler-Benz of Germany in which Tata developed a manufacturing facility in Jamshedpur for Daimler lorries.[10] By November 1954 Tata and Daimler manufactured their first goods carrier chassis at their Jamshedpur plant with 90-100 hp and capacity of 3-5 tons.[11] After years of dominating the commercial vehicle market in India, \n",
    "Tata Motors entered the passenger vehicle market in 1991 by launching the Tata Sierra, a sport utility vehicle based on the Tata Mobile platform. Tata subsequently launched the Tata Estate (1992; a station wagon design based on the earlier Tata Mobile), the Tata Sumo (1994, a 5-door SUV) and the Tata Safari (1998).[citation needed]\n",
    "Tata Indica (first generation)\n",
    "Tata launched the Indica in 1998. A newer version of the car, named Indica V2, later appeared. Tata Motors also exported cars to South Africa.[12]\n",
    "In the 2000s, Tata Motors made a series of acquisitions and partnerships, acquiring Daewoo's South Korea-based truck manufacturing unit,[13] a joint venture with the Brazil-based Marcopolo, Tata Marcopolo Bus,[14] Jaguar Land Rover.,[15][16][17][18] Hispano Carrocera,[19] and an 80% stake in the Italian design and engineering company Trilix.[20]\n",
    "On 12 October 2021, private equity firm TPG invested $1 billion in Tata Motors' electric vehicle subsidiary.[21]\"\"\""
   ]
  },
  {
   "cell_type": "code",
   "execution_count": 33,
   "id": "d3ec5991-676a-4e89-9752-a8316b50c31b",
   "metadata": {},
   "outputs": [
    {
     "data": {
      "text/plain": [
       "'Tata Motors Limited is an Indian multinational automotive company, headquartered in Mumbai and part of the Tata Group. The company produces cars, trucks, vans, and buses.[7]\\nSubsidiaries include Briti'"
      ]
     },
     "execution_count": 33,
     "metadata": {},
     "output_type": "execute_result"
    }
   ],
   "source": [
    "text[0:200]"
   ]
  },
  {
   "cell_type": "markdown",
   "id": "5c3ccd61-1475-44dd-ae36-0b2ba2a975f1",
   "metadata": {},
   "source": [
    "# CharacterTextSplitter"
   ]
  },
  {
   "cell_type": "code",
   "execution_count": 34,
   "id": "079b80c3-3466-4799-8b6d-38a49fd659fa",
   "metadata": {},
   "outputs": [],
   "source": [
    "from langchain.text_splitter import CharacterTextSplitter"
   ]
  },
  {
   "cell_type": "code",
   "execution_count": 35,
   "id": "5b586a19-de23-4a1e-9843-dd38e2f5d70a",
   "metadata": {},
   "outputs": [],
   "source": [
    "splitter = CharacterTextSplitter(\n",
    "    separator= \"\\n\",\n",
    "    chunk_size = 200, \n",
    "    chunk_overlap = 5\n",
    ")"
   ]
  },
  {
   "cell_type": "code",
   "execution_count": 36,
   "id": "386b3c5e-c491-42b0-8832-2087a0280281",
   "metadata": {},
   "outputs": [
    {
     "name": "stderr",
     "output_type": "stream",
     "text": [
      "Created a chunk of size 245, which is longer than the specified 200\n",
      "Created a chunk of size 394, which is longer than the specified 200\n",
      "Created a chunk of size 485, which is longer than the specified 200\n",
      "Created a chunk of size 333, which is longer than the specified 200\n",
      "Created a chunk of size 347, which is longer than the specified 200\n"
     ]
    }
   ],
   "source": [
    "chunks = splitter.split_text(text)"
   ]
  },
  {
   "cell_type": "code",
   "execution_count": 37,
   "id": "1f5097c1-444d-49fc-8b71-9d085185f234",
   "metadata": {},
   "outputs": [
    {
     "data": {
      "text/plain": [
       "11"
      ]
     },
     "execution_count": 37,
     "metadata": {},
     "output_type": "execute_result"
    }
   ],
   "source": [
    "len(chunks)"
   ]
  },
  {
   "cell_type": "code",
   "execution_count": 38,
   "id": "f2dc59e3-bee0-4002-8c1c-ae4511fd0b7e",
   "metadata": {},
   "outputs": [
    {
     "name": "stdout",
     "output_type": "stream",
     "text": [
      "173\n",
      "245\n",
      "393\n",
      "159\n",
      "200\n",
      "21\n",
      "484\n",
      "333\n",
      "177\n",
      "347\n",
      "112\n"
     ]
    }
   ],
   "source": [
    "for chunk in chunks:\n",
    "    print(len(chunk))"
   ]
  },
  {
   "cell_type": "markdown",
   "id": "b0a13f35-aa26-4b79-a5db-8d02f0935ac4",
   "metadata": {},
   "source": [
    "# Recursive Text Splitter "
   ]
  },
  {
   "cell_type": "code",
   "execution_count": 39,
   "id": "cd81e58e-a60a-4fb7-baa5-9a904f0abe3c",
   "metadata": {},
   "outputs": [],
   "source": [
    "from langchain.text_splitter import RecursiveCharacterTextSplitter"
   ]
  },
  {
   "cell_type": "code",
   "execution_count": 40,
   "id": "8255bd71-ab55-4791-8415-11b2c43a68e2",
   "metadata": {},
   "outputs": [],
   "source": [
    "splitter = RecursiveCharacterTextSplitter(\n",
    "    separators = [\"\\n\\n\", \"\\n\", \" \"],  # List of separators based on requirement (defaults to [\"\\n\\n\", \"\\n\", \" \"])\n",
    "    chunk_size = 200,  # size of each chunk created\n",
    "    chunk_overlap  = 0,  # size of  overlap between chunks in order to maintain the context\n",
    "    length_function = len  # Function to calculate size, currently we are using \"len\" which denotes length of string however you can pass any token counter)\n",
    ")"
   ]
  },
  {
   "cell_type": "code",
   "execution_count": 41,
   "id": "873332d4-a3b7-45b0-938b-7b64880ff75b",
   "metadata": {},
   "outputs": [],
   "source": [
    "chunks = splitter.split_text(text)"
   ]
  },
  {
   "cell_type": "code",
   "execution_count": 42,
   "id": "8b9e700b-e4b2-4f9c-9f2e-8d9f96d60f3b",
   "metadata": {},
   "outputs": [
    {
     "name": "stdout",
     "output_type": "stream",
     "text": [
      "173\n",
      "194\n",
      "50\n",
      "197\n",
      "195\n",
      "159\n",
      "168\n",
      "53\n",
      "192\n",
      "199\n",
      "91\n",
      "197\n",
      "135\n",
      "177\n",
      "194\n",
      "152\n",
      "112\n"
     ]
    }
   ],
   "source": [
    "for chunk in chunks:\n",
    "    print(len(chunk))"
   ]
  },
  {
   "cell_type": "code",
   "execution_count": null,
   "id": "03c02510-2baf-44fa-8716-3944981c54dc",
   "metadata": {},
   "outputs": [],
   "source": []
  }
 ],
 "metadata": {
  "kernelspec": {
   "display_name": "Python 3 (ipykernel)",
   "language": "python",
   "name": "python3"
  },
  "language_info": {
   "codemirror_mode": {
    "name": "ipython",
    "version": 3
   },
   "file_extension": ".py",
   "mimetype": "text/x-python",
   "name": "python",
   "nbconvert_exporter": "python",
   "pygments_lexer": "ipython3",
   "version": "3.12.7"
  }
 },
 "nbformat": 4,
 "nbformat_minor": 5
}
