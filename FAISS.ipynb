{
 "cells": [
  {
   "cell_type": "markdown",
   "id": "071cf906-974b-4142-90a7-45c66a09f912",
   "metadata": {},
   "source": [
    "# Understanding Faiss"
   ]
  },
  {
   "cell_type": "code",
   "execution_count": 3,
   "id": "84398816-b345-4c89-8f2e-e6d0bc282fae",
   "metadata": {},
   "outputs": [
    {
     "name": "stdout",
     "output_type": "stream",
     "text": [
      "Requirement already satisfied: faiss-cpu in e:\\anaconda\\lib\\site-packages (1.10.0)\n",
      "Requirement already satisfied: numpy<3.0,>=1.25.0 in e:\\anaconda\\lib\\site-packages (from faiss-cpu) (1.26.4)\n",
      "Requirement already satisfied: packaging in e:\\anaconda\\lib\\site-packages (from faiss-cpu) (24.1)\n",
      "Requirement already satisfied: sentence-transformers in e:\\anaconda\\lib\\site-packages (3.4.1)\n",
      "Requirement already satisfied: transformers<5.0.0,>=4.41.0 in e:\\anaconda\\lib\\site-packages (from sentence-transformers) (4.48.3)\n",
      "Requirement already satisfied: tqdm in e:\\anaconda\\lib\\site-packages (from sentence-transformers) (4.66.5)\n",
      "Requirement already satisfied: torch>=1.11.0 in e:\\anaconda\\lib\\site-packages (from sentence-transformers) (2.6.0)\n",
      "Requirement already satisfied: scikit-learn in e:\\anaconda\\lib\\site-packages (from sentence-transformers) (1.5.1)\n",
      "Requirement already satisfied: scipy in e:\\anaconda\\lib\\site-packages (from sentence-transformers) (1.13.1)\n",
      "Requirement already satisfied: huggingface-hub>=0.20.0 in e:\\anaconda\\lib\\site-packages (from sentence-transformers) (0.28.1)\n",
      "Requirement already satisfied: Pillow in e:\\anaconda\\lib\\site-packages (from sentence-transformers) (10.4.0)\n",
      "Requirement already satisfied: filelock in e:\\anaconda\\lib\\site-packages (from huggingface-hub>=0.20.0->sentence-transformers) (3.13.1)\n",
      "Requirement already satisfied: fsspec>=2023.5.0 in e:\\anaconda\\lib\\site-packages (from huggingface-hub>=0.20.0->sentence-transformers) (2024.6.1)\n",
      "Requirement already satisfied: packaging>=20.9 in e:\\anaconda\\lib\\site-packages (from huggingface-hub>=0.20.0->sentence-transformers) (24.1)\n",
      "Requirement already satisfied: pyyaml>=5.1 in e:\\anaconda\\lib\\site-packages (from huggingface-hub>=0.20.0->sentence-transformers) (6.0.1)\n",
      "Requirement already satisfied: requests in e:\\anaconda\\lib\\site-packages (from huggingface-hub>=0.20.0->sentence-transformers) (2.32.3)\n",
      "Requirement already satisfied: typing-extensions>=3.7.4.3 in e:\\anaconda\\lib\\site-packages (from huggingface-hub>=0.20.0->sentence-transformers) (4.12.2)\n",
      "Requirement already satisfied: networkx in e:\\anaconda\\lib\\site-packages (from torch>=1.11.0->sentence-transformers) (3.3)\n",
      "Requirement already satisfied: jinja2 in e:\\anaconda\\lib\\site-packages (from torch>=1.11.0->sentence-transformers) (3.1.4)\n",
      "Requirement already satisfied: setuptools in e:\\anaconda\\lib\\site-packages (from torch>=1.11.0->sentence-transformers) (75.1.0)\n",
      "Requirement already satisfied: sympy==1.13.1 in e:\\anaconda\\lib\\site-packages (from torch>=1.11.0->sentence-transformers) (1.13.1)\n",
      "Requirement already satisfied: mpmath<1.4,>=1.1.0 in e:\\anaconda\\lib\\site-packages (from sympy==1.13.1->torch>=1.11.0->sentence-transformers) (1.3.0)\n",
      "Requirement already satisfied: colorama in e:\\anaconda\\lib\\site-packages (from tqdm->sentence-transformers) (0.4.6)\n",
      "Requirement already satisfied: numpy>=1.17 in e:\\anaconda\\lib\\site-packages (from transformers<5.0.0,>=4.41.0->sentence-transformers) (1.26.4)\n",
      "Requirement already satisfied: regex!=2019.12.17 in e:\\anaconda\\lib\\site-packages (from transformers<5.0.0,>=4.41.0->sentence-transformers) (2024.9.11)\n",
      "Requirement already satisfied: tokenizers<0.22,>=0.21 in e:\\anaconda\\lib\\site-packages (from transformers<5.0.0,>=4.41.0->sentence-transformers) (0.21.0)\n",
      "Requirement already satisfied: safetensors>=0.4.1 in e:\\anaconda\\lib\\site-packages (from transformers<5.0.0,>=4.41.0->sentence-transformers) (0.5.2)\n",
      "Requirement already satisfied: joblib>=1.2.0 in e:\\anaconda\\lib\\site-packages (from scikit-learn->sentence-transformers) (1.4.2)\n",
      "Requirement already satisfied: threadpoolctl>=3.1.0 in e:\\anaconda\\lib\\site-packages (from scikit-learn->sentence-transformers) (3.5.0)\n",
      "Requirement already satisfied: MarkupSafe>=2.0 in e:\\anaconda\\lib\\site-packages (from jinja2->torch>=1.11.0->sentence-transformers) (2.1.3)\n",
      "Requirement already satisfied: charset-normalizer<4,>=2 in e:\\anaconda\\lib\\site-packages (from requests->huggingface-hub>=0.20.0->sentence-transformers) (3.3.2)\n",
      "Requirement already satisfied: idna<4,>=2.5 in e:\\anaconda\\lib\\site-packages (from requests->huggingface-hub>=0.20.0->sentence-transformers) (3.7)\n",
      "Requirement already satisfied: urllib3<3,>=1.21.1 in e:\\anaconda\\lib\\site-packages (from requests->huggingface-hub>=0.20.0->sentence-transformers) (2.2.3)\n",
      "Requirement already satisfied: certifi>=2017.4.17 in e:\\anaconda\\lib\\site-packages (from requests->huggingface-hub>=0.20.0->sentence-transformers) (2024.8.30)\n"
     ]
    }
   ],
   "source": [
    "# Install Packages\n",
    "!pip install faiss-cpu\n",
    "!pip install sentence-transformers"
   ]
  },
  {
   "cell_type": "code",
   "execution_count": 4,
   "id": "9cc80c63-524f-4c27-b611-c73d3bc82c5a",
   "metadata": {},
   "outputs": [],
   "source": [
    "# import pandas \n",
    "import pandas as pd "
   ]
  },
  {
   "cell_type": "code",
   "execution_count": 5,
   "id": "a972a14c-ef8a-4a76-91f1-fa1b060c6fc8",
   "metadata": {},
   "outputs": [],
   "source": [
    "df = pd.read_csv(\"FAISS_text.csv\")"
   ]
  },
  {
   "cell_type": "code",
   "execution_count": 6,
   "id": "3638a82f-b6aa-4a00-b876-630725607ab1",
   "metadata": {},
   "outputs": [
    {
     "data": {
      "text/html": [
       "<div>\n",
       "<style scoped>\n",
       "    .dataframe tbody tr th:only-of-type {\n",
       "        vertical-align: middle;\n",
       "    }\n",
       "\n",
       "    .dataframe tbody tr th {\n",
       "        vertical-align: top;\n",
       "    }\n",
       "\n",
       "    .dataframe thead th {\n",
       "        text-align: right;\n",
       "    }\n",
       "</style>\n",
       "<table border=\"1\" class=\"dataframe\">\n",
       "  <thead>\n",
       "    <tr style=\"text-align: right;\">\n",
       "      <th></th>\n",
       "      <th>text</th>\n",
       "      <th>category</th>\n",
       "    </tr>\n",
       "  </thead>\n",
       "  <tbody>\n",
       "    <tr>\n",
       "      <th>0</th>\n",
       "      <td>Meditation and yoga can improve mental health</td>\n",
       "      <td>Health</td>\n",
       "    </tr>\n",
       "    <tr>\n",
       "      <th>1</th>\n",
       "      <td>Fruits, whole grains and vegetables helps cont...</td>\n",
       "      <td>Health</td>\n",
       "    </tr>\n",
       "    <tr>\n",
       "      <th>2</th>\n",
       "      <td>These are the latest fashion trends for this week</td>\n",
       "      <td>Fashion</td>\n",
       "    </tr>\n",
       "    <tr>\n",
       "      <th>3</th>\n",
       "      <td>Vibrant color jeans for male are becoming a trend</td>\n",
       "      <td>Fashion</td>\n",
       "    </tr>\n",
       "    <tr>\n",
       "      <th>4</th>\n",
       "      <td>The concert starts at 7 PM tonight</td>\n",
       "      <td>Event</td>\n",
       "    </tr>\n",
       "    <tr>\n",
       "      <th>5</th>\n",
       "      <td>Navaratri dandiya program at Expo center in Mu...</td>\n",
       "      <td>Event</td>\n",
       "    </tr>\n",
       "    <tr>\n",
       "      <th>6</th>\n",
       "      <td>Exciting vacation destinations for your next trip</td>\n",
       "      <td>Travel</td>\n",
       "    </tr>\n",
       "    <tr>\n",
       "      <th>7</th>\n",
       "      <td>Maldives and Srilanka are gaining popularity i...</td>\n",
       "      <td>Travel</td>\n",
       "    </tr>\n",
       "  </tbody>\n",
       "</table>\n",
       "</div>"
      ],
      "text/plain": [
       "                                                text category\n",
       "0      Meditation and yoga can improve mental health   Health\n",
       "1  Fruits, whole grains and vegetables helps cont...   Health\n",
       "2  These are the latest fashion trends for this week  Fashion\n",
       "3  Vibrant color jeans for male are becoming a trend  Fashion\n",
       "4                 The concert starts at 7 PM tonight    Event\n",
       "5  Navaratri dandiya program at Expo center in Mu...    Event\n",
       "6  Exciting vacation destinations for your next trip   Travel\n",
       "7  Maldives and Srilanka are gaining popularity i...   Travel"
      ]
     },
     "execution_count": 6,
     "metadata": {},
     "output_type": "execute_result"
    }
   ],
   "source": [
    "df"
   ]
  },
  {
   "cell_type": "code",
   "execution_count": 7,
   "id": "ecc06189-0d2e-43ca-98d4-a38654042be0",
   "metadata": {},
   "outputs": [
    {
     "name": "stdout",
     "output_type": "stream",
     "text": [
      "Requirement already satisfied: sentence-transformers in e:\\anaconda\\lib\\site-packages (3.4.1)\n",
      "Requirement already satisfied: transformers<5.0.0,>=4.41.0 in e:\\anaconda\\lib\\site-packages (from sentence-transformers) (4.48.3)\n",
      "Requirement already satisfied: tqdm in e:\\anaconda\\lib\\site-packages (from sentence-transformers) (4.66.5)\n",
      "Requirement already satisfied: torch>=1.11.0 in e:\\anaconda\\lib\\site-packages (from sentence-transformers) (2.6.0)\n",
      "Requirement already satisfied: scikit-learn in e:\\anaconda\\lib\\site-packages (from sentence-transformers) (1.5.1)\n",
      "Requirement already satisfied: scipy in e:\\anaconda\\lib\\site-packages (from sentence-transformers) (1.13.1)\n",
      "Requirement already satisfied: huggingface-hub>=0.20.0 in e:\\anaconda\\lib\\site-packages (from sentence-transformers) (0.28.1)\n",
      "Requirement already satisfied: Pillow in e:\\anaconda\\lib\\site-packages (from sentence-transformers) (10.4.0)\n",
      "Requirement already satisfied: filelock in e:\\anaconda\\lib\\site-packages (from huggingface-hub>=0.20.0->sentence-transformers) (3.13.1)\n",
      "Requirement already satisfied: fsspec>=2023.5.0 in e:\\anaconda\\lib\\site-packages (from huggingface-hub>=0.20.0->sentence-transformers) (2024.6.1)\n",
      "Requirement already satisfied: packaging>=20.9 in e:\\anaconda\\lib\\site-packages (from huggingface-hub>=0.20.0->sentence-transformers) (24.1)\n",
      "Requirement already satisfied: pyyaml>=5.1 in e:\\anaconda\\lib\\site-packages (from huggingface-hub>=0.20.0->sentence-transformers) (6.0.1)\n",
      "Requirement already satisfied: requests in e:\\anaconda\\lib\\site-packages (from huggingface-hub>=0.20.0->sentence-transformers) (2.32.3)\n",
      "Requirement already satisfied: typing-extensions>=3.7.4.3 in e:\\anaconda\\lib\\site-packages (from huggingface-hub>=0.20.0->sentence-transformers) (4.12.2)\n",
      "Requirement already satisfied: networkx in e:\\anaconda\\lib\\site-packages (from torch>=1.11.0->sentence-transformers) (3.3)\n",
      "Requirement already satisfied: jinja2 in e:\\anaconda\\lib\\site-packages (from torch>=1.11.0->sentence-transformers) (3.1.4)\n",
      "Requirement already satisfied: setuptools in e:\\anaconda\\lib\\site-packages (from torch>=1.11.0->sentence-transformers) (75.1.0)\n",
      "Requirement already satisfied: sympy==1.13.1 in e:\\anaconda\\lib\\site-packages (from torch>=1.11.0->sentence-transformers) (1.13.1)\n",
      "Requirement already satisfied: mpmath<1.4,>=1.1.0 in e:\\anaconda\\lib\\site-packages (from sympy==1.13.1->torch>=1.11.0->sentence-transformers) (1.3.0)\n",
      "Requirement already satisfied: colorama in e:\\anaconda\\lib\\site-packages (from tqdm->sentence-transformers) (0.4.6)\n",
      "Requirement already satisfied: numpy>=1.17 in e:\\anaconda\\lib\\site-packages (from transformers<5.0.0,>=4.41.0->sentence-transformers) (1.26.4)\n",
      "Requirement already satisfied: regex!=2019.12.17 in e:\\anaconda\\lib\\site-packages (from transformers<5.0.0,>=4.41.0->sentence-transformers) (2024.9.11)\n",
      "Requirement already satisfied: tokenizers<0.22,>=0.21 in e:\\anaconda\\lib\\site-packages (from transformers<5.0.0,>=4.41.0->sentence-transformers) (0.21.0)\n",
      "Requirement already satisfied: safetensors>=0.4.1 in e:\\anaconda\\lib\\site-packages (from transformers<5.0.0,>=4.41.0->sentence-transformers) (0.5.2)\n",
      "Requirement already satisfied: joblib>=1.2.0 in e:\\anaconda\\lib\\site-packages (from scikit-learn->sentence-transformers) (1.4.2)\n",
      "Requirement already satisfied: threadpoolctl>=3.1.0 in e:\\anaconda\\lib\\site-packages (from scikit-learn->sentence-transformers) (3.5.0)\n",
      "Requirement already satisfied: MarkupSafe>=2.0 in e:\\anaconda\\lib\\site-packages (from jinja2->torch>=1.11.0->sentence-transformers) (2.1.3)\n",
      "Requirement already satisfied: charset-normalizer<4,>=2 in e:\\anaconda\\lib\\site-packages (from requests->huggingface-hub>=0.20.0->sentence-transformers) (3.3.2)\n",
      "Requirement already satisfied: idna<4,>=2.5 in e:\\anaconda\\lib\\site-packages (from requests->huggingface-hub>=0.20.0->sentence-transformers) (3.7)\n",
      "Requirement already satisfied: urllib3<3,>=1.21.1 in e:\\anaconda\\lib\\site-packages (from requests->huggingface-hub>=0.20.0->sentence-transformers) (2.2.3)\n",
      "Requirement already satisfied: certifi>=2017.4.17 in e:\\anaconda\\lib\\site-packages (from requests->huggingface-hub>=0.20.0->sentence-transformers) (2024.8.30)\n",
      "Note: you may need to restart the kernel to use updated packages.\n"
     ]
    }
   ],
   "source": [
    "pip install sentence-transformers"
   ]
  },
  {
   "cell_type": "code",
   "execution_count": 8,
   "id": "560cbc60-1d6d-4c73-8a81-5d760a3da359",
   "metadata": {},
   "outputs": [],
   "source": [
    "# Converting the text to vector using embeddings \n",
    "\n",
    "from sentence_transformers import SentenceTransformer"
   ]
  },
  {
   "cell_type": "code",
   "execution_count": 9,
   "id": "76101ea7-cca9-4257-b3f5-878b8a7c7b52",
   "metadata": {},
   "outputs": [],
   "source": [
    "# Hugging face encoder \n",
    "encoder = SentenceTransformer(\"all-mpnet-base-v2\")\n",
    "vectors = encoder.encode(df.text)"
   ]
  },
  {
   "cell_type": "code",
   "execution_count": 10,
   "id": "84390cd4-df01-424d-b090-c04e5832c241",
   "metadata": {},
   "outputs": [
    {
     "data": {
      "text/plain": [
       "array([[-0.00247395,  0.0362672 , -0.05290459, ..., -0.09152358,\n",
       "        -0.0397    , -0.04330491],\n",
       "       [-0.03357266,  0.00980515, -0.03250129, ..., -0.05165466,\n",
       "         0.02245886, -0.03156183],\n",
       "       [-0.01865324, -0.04051318, -0.01235387, ...,  0.00610584,\n",
       "        -0.07179647,  0.02773853],\n",
       "       ...,\n",
       "       [-0.00066458,  0.0425213 , -0.05645508, ...,  0.01315471,\n",
       "        -0.03183569, -0.04357664],\n",
       "       [-0.03317154,  0.03252458, -0.0248484 , ...,  0.01174421,\n",
       "         0.05747124,  0.00571022],\n",
       "       [-0.00166394,  0.00413825, -0.04597083, ...,  0.02008527,\n",
       "         0.05656242, -0.00161596]], dtype=float32)"
      ]
     },
     "execution_count": 10,
     "metadata": {},
     "output_type": "execute_result"
    }
   ],
   "source": [
    "vectors"
   ]
  },
  {
   "cell_type": "code",
   "execution_count": 11,
   "id": "d3ea5311-d921-4a8d-9848-36771e67a75a",
   "metadata": {},
   "outputs": [
    {
     "data": {
      "text/plain": [
       "(8, 768)"
      ]
     },
     "execution_count": 11,
     "metadata": {},
     "output_type": "execute_result"
    }
   ],
   "source": [
    "vectors.shape"
   ]
  },
  {
   "cell_type": "code",
   "execution_count": 12,
   "id": "b0beab1a-c3b0-4dc3-978e-e23dd5b3de70",
   "metadata": {},
   "outputs": [
    {
     "data": {
      "text/plain": [
       "array([-2.47395458e-03,  3.62671986e-02, -5.29045872e-02, -2.17348468e-02,\n",
       "        1.41723482e-02, -1.01601670e-03,  2.23637167e-02,  3.65196429e-02,\n",
       "        3.80901322e-02,  5.22008399e-03, -3.00865509e-02,  2.05446221e-03,\n",
       "        1.08503122e-02, -8.49087834e-02, -5.57267573e-03, -6.06597848e-02,\n",
       "        2.32009729e-03, -1.51408855e-02,  1.20670693e-02,  1.98905468e-02,\n",
       "       -1.27936434e-02, -2.72811279e-02, -3.31878439e-02,  3.40652163e-03,\n",
       "        8.41168873e-03, -1.94854867e-02,  4.88132425e-02,  2.24118419e-02,\n",
       "        4.53466848e-02, -5.90892211e-02, -9.13182274e-02, -1.22330664e-03,\n",
       "       -4.05045748e-02,  8.67187232e-03,  1.26565260e-06, -1.92451179e-02,\n",
       "       -3.20659205e-02, -4.08172347e-02,  8.79177377e-02, -1.52632445e-02,\n",
       "        1.09908991e-02, -4.47977148e-02, -4.74823825e-03,  3.52632180e-02,\n",
       "        1.31070651e-02,  1.09943897e-02, -3.45762656e-03,  9.12348703e-02,\n",
       "        5.68809845e-02,  4.82893884e-02, -4.51438548e-03,  3.58451270e-02,\n",
       "       -2.44210400e-02, -4.28084880e-02, -1.66666824e-02,  1.65211428e-02,\n",
       "        1.14227785e-02,  6.19199350e-02, -2.31557079e-02, -3.98106836e-02,\n",
       "       -1.20360143e-02, -3.24893445e-02, -4.68717404e-02,  5.74309081e-02,\n",
       "       -2.09294893e-02,  8.66612140e-03,  2.93694846e-02,  1.39485113e-03,\n",
       "        2.89673861e-02,  1.57140791e-02, -4.39891545e-03,  3.33096497e-02,\n",
       "        3.25464234e-02, -5.67623973e-03,  9.64477379e-03, -1.09199695e-02,\n",
       "       -9.13844723e-03, -2.17638761e-02, -1.64260634e-03,  2.95123309e-02,\n",
       "        7.90998265e-02,  1.52952317e-02, -3.61723155e-02, -1.28437802e-02,\n",
       "        7.60599598e-02, -2.54637394e-02, -4.98354202e-03, -9.66973230e-03,\n",
       "        1.23360483e-02, -1.11458963e-02, -1.25426333e-02, -4.38241325e-02,\n",
       "       -1.63969712e-03,  3.94687336e-03,  5.90668060e-04,  1.25497086e-02,\n",
       "       -1.35576222e-02, -1.38590068e-01, -1.79839563e-02,  8.95770639e-02,\n",
       "        6.93043768e-02,  5.44512123e-02, -1.73114128e-02, -6.94496483e-02,\n",
       "        9.26830899e-03,  2.52373628e-02,  1.27631528e-02, -4.95675113e-03,\n",
       "       -1.05310855e-02,  6.89907968e-02, -4.03775973e-03,  1.46954106e-02,\n",
       "       -2.53698193e-02, -3.24942805e-02, -4.91569983e-03,  4.10971418e-03,\n",
       "       -6.16341420e-02, -9.87223163e-03, -4.40229326e-02, -2.49388237e-02,\n",
       "       -2.57240050e-02, -6.45754188e-02, -2.28087809e-02,  8.39945278e-04,\n",
       "        5.17682508e-02,  7.28095844e-02, -2.78259497e-02, -2.70897038e-02,\n",
       "        2.56125238e-02, -2.85153128e-02,  2.48930994e-02,  1.52170919e-02,\n",
       "       -1.82603002e-02,  4.57471190e-03,  4.00790479e-03, -4.10634466e-02,\n",
       "        5.58519922e-02, -4.68989136e-03, -5.42436913e-02,  4.36730171e-03,\n",
       "        1.01202615e-02, -9.13176313e-03,  8.82923752e-02, -2.30878349e-02,\n",
       "       -2.15984620e-02, -4.62851040e-02,  2.45606806e-02, -9.63653810e-03,\n",
       "        2.04568878e-02, -3.36907171e-02, -2.33146362e-02, -3.12578959e-06,\n",
       "       -4.21610400e-02, -2.33145356e-02,  3.98631170e-02,  5.20908870e-02,\n",
       "        8.87798294e-02, -7.32728804e-04,  3.44772004e-02, -2.87740044e-02,\n",
       "        4.24330682e-02, -1.99290812e-02,  2.78220046e-02, -3.48257758e-02,\n",
       "        5.40323406e-02, -4.23691608e-02,  8.31100866e-02, -2.88301464e-02,\n",
       "       -6.22712560e-02,  2.47737169e-02, -6.59210831e-02, -1.81272142e-02,\n",
       "       -1.48120783e-02,  1.07428871e-01, -4.06896230e-03,  6.28882274e-02,\n",
       "       -1.45184258e-02,  2.66864076e-02, -8.66079330e-02, -1.52695943e-02,\n",
       "       -3.13378009e-03, -2.73710489e-03, -1.79909263e-02,  1.99597199e-02,\n",
       "        8.21225941e-02,  6.80241315e-03, -7.02435058e-03,  2.94618849e-02,\n",
       "       -1.36624752e-02, -4.27074246e-02, -4.59483676e-02, -2.15018317e-02,\n",
       "        1.33594517e-02, -4.04235013e-02, -3.29467538e-03,  1.99418552e-02,\n",
       "        4.95412163e-02,  5.59021384e-02,  1.10123502e-02, -1.27654045e-03,\n",
       "       -3.47214006e-02,  5.04799187e-02, -2.76383404e-02, -6.08149096e-02,\n",
       "       -4.09358554e-02, -1.70138367e-02,  2.28634104e-02,  3.50625906e-03,\n",
       "        8.88338387e-02, -2.17469875e-02,  7.32042454e-03,  4.30594981e-02,\n",
       "       -2.76750047e-03, -1.28804967e-02,  1.48883078e-03, -7.65301613e-03,\n",
       "        7.79354014e-04,  3.98992710e-02,  1.81989558e-02,  2.18542665e-03,\n",
       "       -1.44025972e-02,  6.61468878e-02,  1.29944878e-02,  3.00711254e-04,\n",
       "        6.94511533e-02,  9.69154015e-03,  7.73053244e-02,  1.49983671e-02,\n",
       "        7.68603012e-02,  1.50437709e-02, -2.70854421e-02,  1.03822220e-02,\n",
       "       -6.34134607e-03, -1.86572243e-02, -5.77929951e-02,  2.80815568e-02,\n",
       "        2.32388899e-02, -2.65862346e-02, -4.37124558e-02,  2.25695260e-02,\n",
       "        2.60373689e-02,  5.91906048e-02, -9.07659903e-03, -2.58117504e-02,\n",
       "       -2.82169296e-03, -1.48377232e-02, -2.11603045e-02,  2.95709576e-02,\n",
       "       -6.05772771e-02,  9.92965326e-03,  3.09266965e-03, -2.78295334e-02,\n",
       "       -4.66294661e-02, -1.66598447e-02, -3.01650818e-02, -4.93830182e-02,\n",
       "       -4.89022471e-02, -1.16061708e-02,  1.28895268e-02, -1.51608856e-02,\n",
       "       -1.83716696e-02, -6.28018752e-03,  4.56338422e-03, -3.93354967e-02,\n",
       "        1.97599102e-02, -2.09158231e-02,  3.26804556e-02, -9.99122038e-02,\n",
       "       -7.31076999e-03, -2.85855196e-02, -4.75265756e-02, -7.53558800e-03,\n",
       "        7.45948823e-03, -1.76943969e-02, -3.87278199e-02, -1.26046482e-02,\n",
       "        6.57023117e-02,  9.98488292e-02,  3.23767364e-02, -3.14150788e-02,\n",
       "       -3.39231677e-02,  2.18933690e-02,  4.17155810e-02, -2.91292779e-02,\n",
       "        1.69252399e-02, -2.70651132e-02,  1.02947829e-02, -8.51275865e-03,\n",
       "        5.82498722e-02,  6.05039997e-03,  2.51693316e-02,  1.17143877e-02,\n",
       "       -1.43268276e-02, -2.68336162e-02, -3.36446017e-02,  4.13522609e-02,\n",
       "        1.23573449e-02,  3.27557512e-02,  1.36756781e-03, -3.43487933e-02,\n",
       "       -2.23306306e-02,  1.16950935e-02,  2.89603751e-02,  9.82660241e-03,\n",
       "        4.48702984e-02,  1.36506343e-02, -2.55217813e-02,  1.16558308e-02,\n",
       "        1.72282290e-02, -1.19526507e-02,  2.94619966e-02,  5.43999858e-03,\n",
       "        7.05649005e-03, -2.76310071e-02,  2.19648480e-02,  2.89274342e-02,\n",
       "        2.90116072e-02,  1.71293989e-02,  1.71571840e-02,  3.06242574e-02,\n",
       "       -3.33006051e-03, -4.28258404e-02, -2.78930794e-02, -8.78215861e-03,\n",
       "       -1.97481806e-03, -3.04208454e-02,  1.01123974e-01,  1.11175617e-02,\n",
       "        3.70049430e-03,  3.05223670e-02, -6.94841798e-03,  3.36759426e-02,\n",
       "        1.49478689e-02,  5.09507284e-02, -6.17867634e-02, -6.54374138e-02,\n",
       "        1.01318546e-02,  8.71546753e-03, -2.13060677e-02, -7.16117350e-03,\n",
       "        2.81146206e-02,  6.08831737e-03, -6.53893724e-02,  8.65299180e-02,\n",
       "       -4.26638536e-02, -1.95683632e-02,  6.20290171e-03,  5.45220450e-02,\n",
       "       -2.94219528e-04, -7.94979781e-02,  2.34850831e-02, -2.81759482e-02,\n",
       "       -2.67926771e-02,  8.09148978e-03,  1.06042726e-02, -3.51758115e-02,\n",
       "        3.66235040e-02,  1.09313345e-02,  2.97116581e-02,  1.30287977e-02,\n",
       "       -3.92856821e-02,  1.45116476e-02,  1.87349394e-02, -1.32706771e-02,\n",
       "        6.87149689e-02, -3.04465145e-02, -2.08048206e-02,  1.08850077e-02,\n",
       "        2.52188966e-02,  1.71259716e-02, -3.36281583e-02,  5.18848933e-02,\n",
       "       -1.62589997e-02,  1.43419132e-02, -5.09705693e-02,  7.62143731e-02,\n",
       "       -3.95713933e-03, -6.92037344e-02, -5.83421588e-02, -1.35672968e-02,\n",
       "        6.34212652e-03,  1.52591672e-02,  6.45110430e-03,  4.78065619e-03,\n",
       "        2.21218765e-02, -1.46030830e-02,  1.99064724e-02,  4.94005494e-02,\n",
       "        3.77785936e-02, -4.72103283e-02,  1.19166973e-03, -7.77721927e-02,\n",
       "        7.51761273e-02,  1.51350126e-02, -3.00767180e-02, -2.54277568e-02,\n",
       "       -7.68555468e-03, -3.32965702e-02,  2.68354230e-02,  1.16432942e-02,\n",
       "       -2.65072174e-02, -2.21001040e-02,  3.13200206e-02, -1.75454877e-02,\n",
       "        1.62755232e-02,  1.05225649e-02,  4.59099971e-02,  1.12993894e-02,\n",
       "        2.25952035e-03, -4.32900712e-02,  2.55049206e-02,  9.08372626e-02,\n",
       "        3.49960811e-02,  1.99541543e-02,  8.99380445e-02, -1.25246579e-02,\n",
       "        2.99614780e-02,  5.30707743e-03,  3.87516618e-02, -7.73842931e-02,\n",
       "       -2.13107690e-02,  1.71742607e-02, -2.26807650e-02,  3.90662327e-02,\n",
       "       -1.48159591e-02,  6.43334761e-02,  4.15602587e-02,  3.50660365e-03,\n",
       "       -3.73802185e-02, -2.15710606e-02,  3.59705389e-02,  1.26669956e-02,\n",
       "        1.18572516e-02, -1.57606732e-02,  2.89345458e-02, -1.26261171e-03,\n",
       "       -1.25825303e-02, -1.85953155e-02, -4.02568579e-02, -4.52977717e-02,\n",
       "       -3.23485136e-02, -9.25442576e-03,  1.25144683e-02, -1.65086165e-02,\n",
       "        1.14768222e-02,  2.81502958e-02,  8.33325684e-02,  3.36188190e-02,\n",
       "        4.08905471e-04,  3.39801013e-02,  1.61180869e-02,  3.48992012e-02,\n",
       "        1.53090339e-02, -1.57535337e-02,  4.15873267e-02, -2.98247542e-02,\n",
       "       -4.53814566e-02, -1.02242269e-01,  4.03168201e-02,  1.70004610e-02,\n",
       "        1.87225137e-02, -2.08056159e-03, -3.33347148e-03,  3.12028900e-02,\n",
       "        4.42115270e-04, -6.45756274e-02, -6.61168694e-02, -6.12062477e-02,\n",
       "       -1.36192273e-02, -2.49696337e-02,  6.13837913e-02,  2.51729693e-02,\n",
       "       -6.04648935e-03,  2.46976260e-02,  1.33111915e-02,  2.91291084e-02,\n",
       "       -3.77130173e-02,  3.14110033e-02,  7.01060072e-02, -1.87029354e-02,\n",
       "        4.64438722e-02, -3.50710638e-02,  5.78636210e-03,  2.02969946e-02,\n",
       "       -9.14944743e-04,  2.73546875e-02, -4.49903533e-02, -1.92701668e-02,\n",
       "       -1.94973231e-03, -2.72162706e-02, -1.74496416e-03,  5.99824153e-02,\n",
       "        3.38420132e-03, -4.43555191e-02,  2.25252081e-02, -1.98008996e-02,\n",
       "       -1.27885602e-02, -1.68490708e-02, -3.18891108e-02, -9.83177498e-03,\n",
       "       -2.37169173e-02, -3.51696857e-04,  2.70687998e-03,  4.34032902e-02,\n",
       "        2.23510200e-03,  1.04528265e-02, -1.25210891e-02,  3.80455628e-02,\n",
       "       -5.37332147e-04, -1.31308073e-02,  1.76104922e-02, -3.21534870e-04,\n",
       "       -4.33224104e-02, -6.97795153e-02,  2.04764772e-02,  2.54789717e-03,\n",
       "        3.64245921e-02,  1.31792901e-02,  3.74211743e-02, -2.40744539e-02,\n",
       "        1.58512797e-02,  2.33806074e-02, -1.43252769e-02,  9.85239074e-03,\n",
       "       -1.55072957e-02,  8.11946020e-03, -2.57197600e-02,  4.66312608e-03,\n",
       "       -1.50064649e-02, -1.59888808e-02, -6.18274026e-02, -3.19934897e-02,\n",
       "        3.00307292e-02, -2.62036137e-02, -4.40740213e-02,  4.71212380e-02,\n",
       "       -8.53406191e-02,  5.49824983e-02, -6.54159253e-03,  4.11518440e-02,\n",
       "        4.12454195e-02, -2.99727451e-02,  8.77856538e-02, -4.84293234e-03,\n",
       "       -1.86586771e-02, -2.43209656e-02, -3.44153540e-03,  1.71137284e-02,\n",
       "        5.27162366e-02, -3.81458215e-02, -6.85427934e-02,  1.49509488e-02,\n",
       "       -2.22115088e-02, -2.86750142e-02, -2.97921919e-03, -3.73255640e-33,\n",
       "       -8.48157424e-03,  5.95543645e-02, -9.73879825e-03,  2.78522763e-02,\n",
       "        4.26138286e-03, -4.62204181e-02, -1.60551936e-04,  2.03653406e-02,\n",
       "        2.74291784e-02,  3.67005207e-02,  8.95551499e-03,  7.47958273e-02,\n",
       "       -5.74467843e-03,  1.78796798e-02, -8.56289081e-03, -1.87858269e-02,\n",
       "       -2.86744498e-02,  5.29133761e-03, -7.28304125e-03, -1.84069015e-02,\n",
       "       -3.48132364e-02,  5.07888943e-02,  3.45482007e-02, -4.04979736e-02,\n",
       "       -4.27604578e-02,  2.78409217e-02,  4.66893241e-02, -6.46444932e-02,\n",
       "       -5.29189780e-03, -5.78816980e-03, -1.56755205e-02, -5.47079556e-03,\n",
       "        1.39788566e-02, -1.11809396e-03,  5.50428405e-04, -2.26584431e-02,\n",
       "        1.50561575e-02,  3.38191241e-02, -8.25202931e-03,  2.16513388e-02,\n",
       "        8.77524377e-04, -2.40296451e-03, -2.82622911e-02,  1.05069252e-02,\n",
       "        3.68514434e-02, -2.31945440e-02, -2.93092784e-02, -4.81787547e-02,\n",
       "        2.89041344e-02, -4.68107834e-02, -3.55234966e-02, -2.09481362e-02,\n",
       "       -8.83264560e-03,  8.06664377e-02, -8.48142654e-02, -3.95479761e-02,\n",
       "       -5.03684841e-02,  2.69837808e-02, -3.94657440e-03, -2.39756014e-02,\n",
       "        3.29292305e-02,  4.16704975e-02, -2.45395787e-02, -3.85609642e-02,\n",
       "       -3.02901454e-02, -2.84514613e-02, -6.83769062e-02, -9.38016362e-03,\n",
       "       -4.70948666e-02, -2.15400625e-02,  4.15227711e-02,  6.90570008e-03,\n",
       "        2.96323765e-02, -1.55480681e-02, -2.56336015e-02, -4.94204685e-02,\n",
       "       -1.07960664e-02,  1.36496639e-02,  8.46190844e-03,  4.44031768e-02,\n",
       "        3.94002505e-04,  2.20193658e-02,  3.60401310e-02,  5.93104549e-02,\n",
       "        2.14909837e-02, -1.90565884e-02, -2.08019279e-02,  1.91410426e-02,\n",
       "       -3.78733431e-03,  1.66846514e-02,  2.79686302e-02, -6.88841892e-03,\n",
       "       -9.25205462e-03, -2.20814720e-02,  4.68296185e-02,  2.11678464e-02,\n",
       "       -2.44130865e-02, -7.68514676e-03,  3.94079983e-02, -5.65718338e-02,\n",
       "        8.71800911e-03,  2.10748389e-02, -1.76222529e-02,  5.53251058e-02,\n",
       "        3.49679515e-02, -2.62318961e-02,  5.69753982e-02, -7.94603974e-02,\n",
       "       -1.52109871e-02,  2.09261514e-02,  1.75831318e-02,  4.12070416e-02,\n",
       "        2.66289990e-02, -1.34375673e-02, -4.86178100e-02,  1.27243083e-02,\n",
       "        9.39346943e-03, -8.11941270e-03,  2.95723472e-02, -6.94516525e-02,\n",
       "       -7.10697845e-02,  3.01107124e-04,  4.31027934e-02, -5.95075078e-02,\n",
       "        2.65519693e-02, -5.90478592e-02,  4.46865112e-02, -1.46237081e-02,\n",
       "       -9.81812086e-03, -4.89699431e-02,  1.01139881e-02,  2.82771830e-02,\n",
       "        1.99888504e-07, -6.35881573e-02,  1.15379617e-02, -1.61977112e-02,\n",
       "       -3.75170782e-02,  2.24944931e-02,  5.74996555e-03, -6.25733584e-02,\n",
       "       -1.51105877e-02,  2.80584991e-02,  3.69874947e-02, -4.67125140e-02,\n",
       "       -2.84615997e-02,  1.72772314e-02, -9.28013306e-03,  7.98695683e-02,\n",
       "       -8.46899822e-02,  3.83958668e-02,  1.41009304e-03, -9.62683279e-03,\n",
       "        1.36490362e-02, -1.77746620e-02,  4.18013707e-02,  8.53310246e-03,\n",
       "       -1.77575252e-03, -8.90155416e-03,  3.19797732e-02,  3.75544615e-02,\n",
       "        1.10768927e-02,  5.14425486e-02,  4.77531813e-02,  9.78296623e-02,\n",
       "       -9.33893118e-03, -6.87361807e-02, -3.38471383e-02, -4.79166023e-03,\n",
       "       -3.35370302e-02, -2.90469639e-02,  2.22573690e-02, -6.03131892e-04,\n",
       "        4.80033681e-02, -3.26162912e-02,  7.76100382e-02, -2.88890637e-02,\n",
       "       -1.22943250e-02,  1.82095952e-02, -1.09790392e-01, -2.57627424e-02,\n",
       "        3.70127670e-02, -6.64482731e-03, -2.65492108e-02,  2.67257690e-02,\n",
       "        2.67418381e-02,  6.14944007e-03,  3.98129150e-02, -1.56971649e-03,\n",
       "        6.82445476e-04,  4.84148934e-02,  2.97235255e-03, -1.46997049e-02,\n",
       "       -3.73888053e-02, -1.90462973e-02,  4.02793437e-02,  1.27058383e-03,\n",
       "        1.20822783e-03, -5.90572879e-02, -1.78195927e-02, -5.61401285e-02,\n",
       "        9.20051393e-35,  1.11877574e-02,  1.60857234e-02,  9.83773358e-03,\n",
       "       -2.01887507e-02, -7.61516625e-03, -4.81337458e-02, -6.21873774e-02,\n",
       "        6.26680907e-03, -9.15235803e-02, -3.96999978e-02, -4.33049053e-02],\n",
       "      dtype=float32)"
      ]
     },
     "execution_count": 12,
     "metadata": {},
     "output_type": "execute_result"
    }
   ],
   "source": [
    "vectors[0]"
   ]
  },
  {
   "cell_type": "code",
   "execution_count": 13,
   "id": "2be56af9-fb9d-4cb3-8dd2-74b3d82ca77d",
   "metadata": {},
   "outputs": [],
   "source": [
    "dim = vectors.shape[1]"
   ]
  },
  {
   "cell_type": "code",
   "execution_count": 14,
   "id": "d6f6dd65-08aa-4fd6-85bc-a84dcfc80f09",
   "metadata": {},
   "outputs": [
    {
     "data": {
      "text/plain": [
       "768"
      ]
     },
     "execution_count": 14,
     "metadata": {},
     "output_type": "execute_result"
    }
   ],
   "source": [
    "dim"
   ]
  },
  {
   "cell_type": "code",
   "execution_count": 15,
   "id": "375f973d-b9b6-4073-9212-524f609c2c74",
   "metadata": {},
   "outputs": [],
   "source": [
    "import faiss\n",
    "index = faiss.IndexFlatL2(dim)"
   ]
  },
  {
   "cell_type": "code",
   "execution_count": 16,
   "id": "f22d8ba5-a671-4477-b8bb-fd912c9cb298",
   "metadata": {},
   "outputs": [
    {
     "data": {
      "text/plain": [
       "<faiss.swigfaiss_avx2.IndexFlatL2; proxy of <Swig Object of type 'faiss::IndexFlatL2 *' at 0x00000245035F26D0> >"
      ]
     },
     "execution_count": 16,
     "metadata": {},
     "output_type": "execute_result"
    }
   ],
   "source": [
    "index\n"
   ]
  },
  {
   "cell_type": "code",
   "execution_count": 17,
   "id": "57eb67d6-cf3a-40e4-9e3d-b2d271c470ac",
   "metadata": {},
   "outputs": [],
   "source": [
    "index.add(vectors)"
   ]
  },
  {
   "cell_type": "code",
   "execution_count": 18,
   "id": "7ce5bb84-7848-450f-94c0-608964c8cbef",
   "metadata": {},
   "outputs": [],
   "source": [
    "search_query = \"An apple a day keeps doctor away\""
   ]
  },
  {
   "cell_type": "code",
   "execution_count": 19,
   "id": "42b78d83-2525-44ea-bc13-f73ca558a498",
   "metadata": {},
   "outputs": [],
   "source": [
    "vec = encoder.encode(search_query)"
   ]
  },
  {
   "cell_type": "code",
   "execution_count": 20,
   "id": "cac18d27-d2a2-4231-a1e3-506ec0a60337",
   "metadata": {},
   "outputs": [
    {
     "data": {
      "text/plain": [
       "(768,)"
      ]
     },
     "execution_count": 20,
     "metadata": {},
     "output_type": "execute_result"
    }
   ],
   "source": [
    "vec.shape"
   ]
  },
  {
   "cell_type": "code",
   "execution_count": 21,
   "id": "ad515d64-4c7a-460b-820f-a7b776c04101",
   "metadata": {},
   "outputs": [],
   "source": [
    "import numpy as np \n",
    "svec = np.array(vec).reshape(1,-1)"
   ]
  },
  {
   "cell_type": "code",
   "execution_count": 22,
   "id": "69b123ec-c35c-4bc6-9b39-4dcc4a550ef5",
   "metadata": {},
   "outputs": [
    {
     "data": {
      "text/plain": [
       "(1, 768)"
      ]
     },
     "execution_count": 22,
     "metadata": {},
     "output_type": "execute_result"
    }
   ],
   "source": [
    "svec.shape"
   ]
  },
  {
   "cell_type": "code",
   "execution_count": 23,
   "id": "6886a2f8-d660-4525-a598-9d11b51f776a",
   "metadata": {},
   "outputs": [
    {
     "data": {
      "text/plain": [
       "(array([[1.3908098, 1.7193402]], dtype=float32), array([[1, 0]], dtype=int64))"
      ]
     },
     "execution_count": 23,
     "metadata": {},
     "output_type": "execute_result"
    }
   ],
   "source": [
    "index.search(svec, k=2)"
   ]
  },
  {
   "cell_type": "code",
   "execution_count": 24,
   "id": "b2ede8cc-da23-4f3b-893c-2dda6edec544",
   "metadata": {},
   "outputs": [],
   "source": [
    "dis, I = index.search(svec, k=2)"
   ]
  },
  {
   "cell_type": "code",
   "execution_count": 25,
   "id": "1b3625d6-7a35-4c19-a6c2-486f58751b65",
   "metadata": {},
   "outputs": [
    {
     "data": {
      "text/plain": [
       "array([[1.3908098, 1.7193402]], dtype=float32)"
      ]
     },
     "execution_count": 25,
     "metadata": {},
     "output_type": "execute_result"
    }
   ],
   "source": [
    "dis"
   ]
  },
  {
   "cell_type": "code",
   "execution_count": 26,
   "id": "0bbcf85a-8a1f-4826-890c-56b6cb3d9074",
   "metadata": {},
   "outputs": [
    {
     "data": {
      "text/plain": [
       "array([[1, 0]], dtype=int64)"
      ]
     },
     "execution_count": 26,
     "metadata": {},
     "output_type": "execute_result"
    }
   ],
   "source": [
    "I"
   ]
  },
  {
   "cell_type": "code",
   "execution_count": 27,
   "id": "f9223e47-af12-429d-a620-225e85eb324e",
   "metadata": {},
   "outputs": [
    {
     "data": {
      "text/html": [
       "<div>\n",
       "<style scoped>\n",
       "    .dataframe tbody tr th:only-of-type {\n",
       "        vertical-align: middle;\n",
       "    }\n",
       "\n",
       "    .dataframe tbody tr th {\n",
       "        vertical-align: top;\n",
       "    }\n",
       "\n",
       "    .dataframe thead th {\n",
       "        text-align: right;\n",
       "    }\n",
       "</style>\n",
       "<table border=\"1\" class=\"dataframe\">\n",
       "  <thead>\n",
       "    <tr style=\"text-align: right;\">\n",
       "      <th></th>\n",
       "      <th>text</th>\n",
       "      <th>category</th>\n",
       "    </tr>\n",
       "  </thead>\n",
       "  <tbody>\n",
       "    <tr>\n",
       "      <th>1</th>\n",
       "      <td>Fruits, whole grains and vegetables helps cont...</td>\n",
       "      <td>Health</td>\n",
       "    </tr>\n",
       "    <tr>\n",
       "      <th>0</th>\n",
       "      <td>Meditation and yoga can improve mental health</td>\n",
       "      <td>Health</td>\n",
       "    </tr>\n",
       "  </tbody>\n",
       "</table>\n",
       "</div>"
      ],
      "text/plain": [
       "                                                text category\n",
       "1  Fruits, whole grains and vegetables helps cont...   Health\n",
       "0      Meditation and yoga can improve mental health   Health"
      ]
     },
     "execution_count": 27,
     "metadata": {},
     "output_type": "execute_result"
    }
   ],
   "source": [
    "df.loc[I[0]]"
   ]
  },
  {
   "cell_type": "code",
   "execution_count": null,
   "id": "c87942c9-b411-4ee4-831b-84ff06eebe13",
   "metadata": {},
   "outputs": [],
   "source": []
  },
  {
   "cell_type": "code",
   "execution_count": null,
   "id": "87ff9eed-6faf-4ca3-8395-6100b28c63c3",
   "metadata": {},
   "outputs": [],
   "source": []
  },
  {
   "cell_type": "code",
   "execution_count": null,
   "id": "761ed3fe-c19a-4cbc-b642-a396df444cf8",
   "metadata": {},
   "outputs": [],
   "source": []
  },
  {
   "cell_type": "code",
   "execution_count": null,
   "id": "322d7d73-c72c-4aea-9a57-21d8a26c7648",
   "metadata": {},
   "outputs": [],
   "source": []
  },
  {
   "cell_type": "code",
   "execution_count": null,
   "id": "05cfd07f-a50f-431a-a6df-be8aecc7b5ce",
   "metadata": {},
   "outputs": [],
   "source": []
  },
  {
   "cell_type": "code",
   "execution_count": null,
   "id": "4acd8eaa-b113-4b33-9418-722f766f5738",
   "metadata": {},
   "outputs": [],
   "source": []
  },
  {
   "cell_type": "code",
   "execution_count": null,
   "id": "e01f5737-9e42-42b0-90a1-382462b2621d",
   "metadata": {},
   "outputs": [],
   "source": []
  },
  {
   "cell_type": "code",
   "execution_count": null,
   "id": "9d3587a2-709e-4f1a-b919-411d16b288a4",
   "metadata": {},
   "outputs": [],
   "source": []
  },
  {
   "cell_type": "code",
   "execution_count": null,
   "id": "e7e014dc-c3b3-4a01-8570-6cc7154b71a4",
   "metadata": {},
   "outputs": [],
   "source": []
  },
  {
   "cell_type": "code",
   "execution_count": null,
   "id": "9d6eed22-6e6a-4a18-8a83-bec5c1f9c9c0",
   "metadata": {},
   "outputs": [],
   "source": []
  },
  {
   "cell_type": "code",
   "execution_count": null,
   "id": "fa60fe77-9a6e-4402-9fd9-cf290a36a602",
   "metadata": {},
   "outputs": [],
   "source": []
  }
 ],
 "metadata": {
  "kernelspec": {
   "display_name": "Python 3 (ipykernel)",
   "language": "python",
   "name": "python3"
  },
  "language_info": {
   "codemirror_mode": {
    "name": "ipython",
    "version": 3
   },
   "file_extension": ".py",
   "mimetype": "text/x-python",
   "name": "python",
   "nbconvert_exporter": "python",
   "pygments_lexer": "ipython3",
   "version": "3.12.7"
  }
 },
 "nbformat": 4,
 "nbformat_minor": 5
}
